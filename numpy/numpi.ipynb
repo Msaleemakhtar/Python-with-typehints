{
 "cells": [
  {
   "cell_type": "markdown",
   "metadata": {},
   "source": [
    "# python Array"
   ]
  },
  {
   "cell_type": "code",
   "execution_count": 19,
   "metadata": {},
   "outputs": [
    {
     "name": "stdout",
     "output_type": "stream",
     "text": [
      "[20, 30]\n",
      "104\n",
      "[100, 30, 49, 59, 'abc', True]\n",
      "[100, 30, 49, 59, 'abc', True, 100, 30, 49, 59, 'abc', True, 100, 30, 49, 59, 'abc', True, 100, 30, 49, 59, 'abc', True, 100, 30, 49, 59, 'abc', True, 100, 30, 49, 59, 'abc', True, 100, 30, 49, 59, 'abc', True, 100, 30, 49, 59, 'abc', True, 100, 30, 49, 59, 'abc', True, 100, 30, 49, 59, 'abc', True]\n",
      "[[20, 30, 49], [2, 3]]\n"
     ]
    }
   ],
   "source": [
    "# python array\n",
    "\n",
    "import sys\n",
    "\n",
    "my_list= [20, 30, 49,59, \"abc\", True] # list stores different type of data\n",
    "print(my_list[0:2])\n",
    "my_list[0] = 100 # value can be modified\n",
    "print(sys.getsizeof(my_list))# check the size of memory- sys mopdule is imported. operation is slower than numpy array\n",
    "print(my_list) # Mathematical operations can be performed on numpy array but not on list\n",
    "print(my_list*10) # it will concate 10 times byt not multiply indivual item of list\n",
    "\n",
    "my_list3 = [[20, 30, 49], [2,3]] # it supports inhomogeneous item \n",
    "print(my_list3)"
   ]
  },
  {
   "cell_type": "markdown",
   "metadata": {},
   "source": [
    "# NumpyArray"
   ]
  },
  {
   "cell_type": "code",
   "execution_count": 20,
   "metadata": {},
   "outputs": [
    {
     "name": "stdout",
     "output_type": "stream",
     "text": [
      "4\n",
      "[100  30  49]\n",
      "['20' '30' '49' '45' '2.7' 'True']\n",
      "[10.   3.   4.9]\n",
      "[1000  300  490]\n",
      "[[20 30 49]\n",
      " [ 2  3  4]]\n"
     ]
    },
    {
     "ename": "ValueError",
     "evalue": "setting an array element with a sequence. The requested array has an inhomogeneous shape after 1 dimensions. The detected shape was (2,) + inhomogeneous part.",
     "output_type": "error",
     "traceback": [
      "\u001b[1;31m---------------------------------------------------------------------------\u001b[0m",
      "\u001b[1;31mValueError\u001b[0m                                Traceback (most recent call last)",
      "\u001b[1;32mc:\\Users\\saram\\OneDrive\\Desktop\\python\\numpy\\numpi.ipynb Cell 4\u001b[0m line \u001b[0;36m1\n\u001b[0;32m     <a href='vscode-notebook-cell:/c%3A/Users/saram/OneDrive/Desktop/python/numpy/numpi.ipynb#W3sZmlsZQ%3D%3D?line=15'>16</a>\u001b[0m my_list3:np\u001b[39m.\u001b[39mndarray \u001b[39m=\u001b[39m np\u001b[39m.\u001b[39marray([[\u001b[39m20\u001b[39m, \u001b[39m30\u001b[39m, \u001b[39m49\u001b[39m], [\u001b[39m2\u001b[39m,\u001b[39m3\u001b[39m,\u001b[39m4\u001b[39m]]) \u001b[39m# it will take homogeneous item , same size\u001b[39;00m\n\u001b[0;32m     <a href='vscode-notebook-cell:/c%3A/Users/saram/OneDrive/Desktop/python/numpy/numpi.ipynb#W3sZmlsZQ%3D%3D?line=16'>17</a>\u001b[0m \u001b[39mprint\u001b[39m(my_list3)\n\u001b[1;32m---> <a href='vscode-notebook-cell:/c%3A/Users/saram/OneDrive/Desktop/python/numpy/numpi.ipynb#W3sZmlsZQ%3D%3D?line=17'>18</a>\u001b[0m my_list3:np\u001b[39m.\u001b[39mndarray \u001b[39m=\u001b[39m np\u001b[39m.\u001b[39;49marray([[\u001b[39m20\u001b[39;49m, \u001b[39m30\u001b[39;49m, \u001b[39m49\u001b[39;49m], [\u001b[39m2\u001b[39;49m,\u001b[39m3\u001b[39;49m]]) \u001b[39m# it will take homogeneous item ,if   size is not same , will throw error\u001b[39;00m\n\u001b[0;32m     <a href='vscode-notebook-cell:/c%3A/Users/saram/OneDrive/Desktop/python/numpy/numpi.ipynb#W3sZmlsZQ%3D%3D?line=18'>19</a>\u001b[0m \u001b[39mprint\u001b[39m(my_list3)\n",
      "\u001b[1;31mValueError\u001b[0m: setting an array element with a sequence. The requested array has an inhomogeneous shape after 1 dimensions. The detected shape was (2,) + inhomogeneous part."
     ]
    }
   ],
   "source": [
    "\n",
    "import numpy as np\n",
    "\n",
    "my_list:np.ndarray = np.array([20, 30, 49]) # numparray stores similar data type \\\n",
    "\n",
    "my_list[0:4] # same slicing and indexing as on python list\n",
    "my_list[0] = 100 # mutable and value can be assigned \n",
    "print(my_list.itemsize ) # check the size of memory , operation is more fast than python list\n",
    "print(my_list)\n",
    "\n",
    "my_list2:np.ndarray = np.array([20, 30, 49, \"45\", 2.7, True]) # multiple data type will convert into same data type as string\n",
    "print(my_list2)\n",
    "\n",
    "print(my_list/10) # Mathematical operations can be performed on numpy array but not on list\n",
    "print(my_list*10) # Mathematical operations can be performed on numpy array but not on list\n",
    "\n",
    "my_list3:np.ndarray = np.array([[20, 30, 49], [2,3,4]]) # it will take homogeneous item , same size\n",
    "print(my_list3)\n",
    "my_list3:np.ndarray = np.array([[20, 30, 49], [2,3]]) # it will take homogeneous item ,if   size is not same , will throw error\n",
    "print(my_list3)"
   ]
  },
  {
   "cell_type": "markdown",
   "metadata": {},
   "source": [
    "# Create Numpy NDArray"
   ]
  },
  {
   "cell_type": "code",
   "execution_count": null,
   "metadata": {},
   "outputs": [
    {
     "name": "stdout",
     "output_type": "stream",
     "text": [
      "4\n",
      "dimension 0\n"
     ]
    }
   ],
   "source": [
    "# zero dimension array/scalar\n",
    "import numpy as np\n",
    "arr0 = np.array(4)\n",
    "print(arr0)\n",
    "print(\"dimension\", arr0.ndim)"
   ]
  },
  {
   "cell_type": "code",
   "execution_count": null,
   "metadata": {},
   "outputs": [
    {
     "name": "stdout",
     "output_type": "stream",
     "text": [
      "4\n",
      "dimension 1\n"
     ]
    }
   ],
   "source": [
    "# one dimension array/vector\n",
    "import numpy as np\n",
    "arr1 = np.array([1,3,3,3])\n",
    "print(arr1.itemsize)\n",
    "print(\"dimension\", arr1.ndim)"
   ]
  },
  {
   "cell_type": "code",
   "execution_count": null,
   "metadata": {},
   "outputs": [],
   "source": [
    "# Two dimension array/Matrix\n",
    "import numpy as np\n",
    "arr2 = np.array([[1,3,3,3], [2,3,4,6]])\n",
    "print(arr2)\n",
    "print(\"dimension\", arr2.ndim)"
   ]
  },
  {
   "cell_type": "code",
   "execution_count": null,
   "metadata": {},
   "outputs": [
    {
     "name": "stdout",
     "output_type": "stream",
     "text": [
      "[[[1 3 3 3]\n",
      "  [2 3 4 6]\n",
      "  [2 3 4 6]]]\n",
      "dimension 3\n"
     ]
    }
   ],
   "source": [
    "# Three dimension array/Tensor\n",
    "import numpy as np\n",
    "arr2 = np.array([[[1,3,3,3], [2,3,4,6],[2,3,4,6]]])\n",
    "print(arr2)\n",
    "print(\"dimension\", arr2.ndim)"
   ]
  },
  {
   "cell_type": "code",
   "execution_count": null,
   "metadata": {},
   "outputs": [
    {
     "name": "stdout",
     "output_type": "stream",
     "text": [
      "[[[[1 3 3 3]]]]\n",
      "dimension 4\n"
     ]
    }
   ],
   "source": [
    "## nth dimension array\n",
    "\n",
    "import numpy as np\n",
    "arr1 = np.array([1,3,3,3], ndmin=4)\n",
    "print(arr1)\n",
    "print(\"dimension\", arr1.ndim)"
   ]
  },
  {
   "cell_type": "code",
   "execution_count": null,
   "metadata": {},
   "outputs": [
    {
     "name": "stdout",
     "output_type": "stream",
     "text": [
      "[1 2 3 4 5 6 7 8 9]\n",
      "1\n"
     ]
    }
   ],
   "source": [
    "import numpy as np\n",
    "\n",
    "n = int(input(\"Enter your Number\"))\n",
    "\n",
    "data = []\n",
    "for i in range(n):\n",
    "    value = int(input(\"enter your element\"))\n",
    "    data.append(value)\n",
    "numdata= np.array(data)\n",
    "print(numdata)\n",
    "print(numdata.ndim)"
   ]
  },
  {
   "cell_type": "code",
   "execution_count": null,
   "metadata": {},
   "outputs": [
    {
     "name": "stdout",
     "output_type": "stream",
     "text": [
      "[[1 4 6 7 7]\n",
      " [3 4 4 6 6]\n",
      " [3 5 7 8 9]]\n",
      "dimension : 2\n",
      "memory size: 4 bytes\n",
      "total items: 15\n",
      "total Memory: 60 bytes\n",
      "Min item 1\n",
      "Max item 9\n",
      "[[1 4 6 7 7]\n",
      " [3 4 4 6 6]\n",
      " [3 5 7 8 9]]\n",
      "size of array: (3, 5)\n",
      "sum of all items is : 80\n",
      "sum of columns is : [ 7 13 17 21 22]\n",
      "sum of rows is : [25 23 32]\n"
     ]
    }
   ],
   "source": [
    "# properties of Numpy arry are ndim, size, itemsize, min(), max(),shape, sum(axis= 0 0r 1)\n",
    "\n",
    "import numpy as np\n",
    "\n",
    "arr1 = np.array([[1,4,6,7,7], [3,4,4,6,6], [3,5,7,8,9]])\n",
    "\n",
    "print(arr1)\n",
    "print(\"dimension :\",arr1.ndim)\n",
    "print(\"memory size:\",arr1.itemsize , \"bytes\")# one item memory size in bytes\n",
    "print(\"total items:\",arr1.size)# total number of elements in array\n",
    "print(\"total Memory:\",arr1.itemsize * arr1.size, \"bytes\")# total number of elements in array\n",
    "print(\"Min item\",arr1.min())\n",
    "print(\"Max item\",arr1.max())\n",
    "print(arr1)\n",
    "print(\"size of array:\", arr1.shape)\n",
    "print(\"sum of all items is :\", arr1.sum())\n",
    "print(\"sum of columns is :\", arr1.sum(axis=0)) # will move top to bottom and sum the coloumns\n",
    "print(\"sum of rows is :\", arr1.sum(axis=1)) # will move left to right and sum the rows"
   ]
  },
  {
   "cell_type": "code",
   "execution_count": 21,
   "metadata": {},
   "outputs": [
    {
     "name": "stdout",
     "output_type": "stream",
     "text": [
      "[[0 0 0 0]\n",
      " [0 0 0 0]]\n",
      "(2, 4)\n",
      "2\n",
      "int64\n"
     ]
    }
   ],
   "source": [
    "import numpy as np\n",
    "\n",
    "\n",
    "my_arr = np.zeros((2,4), dtype=\"int64\")\n",
    "print(my_arr)\n",
    "print(my_arr.shape)\n",
    "print(my_arr.ndim)\n",
    "print(my_arr.dtype)"
   ]
  },
  {
   "cell_type": "code",
   "execution_count": 22,
   "metadata": {},
   "outputs": [
    {
     "name": "stdout",
     "output_type": "stream",
     "text": [
      "[[3. 3. 3. 3.]\n",
      " [3. 3. 3. 3.]]\n",
      "(2, 4)\n",
      "2\n",
      "float64\n"
     ]
    }
   ],
   "source": [
    "import numpy as np\n",
    "\n",
    "\n",
    "my_arr = np.ones((2,4))*3\n",
    "print(my_arr)\n",
    "print(my_arr.shape)\n",
    "print(my_arr.ndim)\n",
    "print(my_arr.dtype)"
   ]
  },
  {
   "cell_type": "code",
   "execution_count": 23,
   "metadata": {},
   "outputs": [
    {
     "name": "stdout",
     "output_type": "stream",
     "text": [
      "[[(1, 1) (1, 1) (1, 1) (1, 1)]\n",
      " [(1, 1) (1, 1) (1, 1) (1, 1)]]\n",
      "(2, 4)\n",
      "2\n",
      "[('x', '<i4'), ('y', '<i4')]\n"
     ]
    }
   ],
   "source": [
    "import numpy as np\n",
    "\n",
    "\n",
    "my_arr = np.ones((2,4), dtype=[('x', 'int') , ('y', 'int')])\n",
    "print(my_arr)\n",
    "print(my_arr.shape)\n",
    "print(my_arr.ndim)\n",
    "print(my_arr.dtype)"
   ]
  },
  {
   "cell_type": "code",
   "execution_count": null,
   "metadata": {},
   "outputs": [
    {
     "data": {
      "text/plain": [
       "array([ 1,  4,  7, 10])"
      ]
     },
     "execution_count": 68,
     "metadata": {},
     "output_type": "execute_result"
    }
   ],
   "source": [
    "# range function in numpy is ===arange()\n",
    "import numpy as np\n",
    "arr7 = np.arange(1,12, 3)\n",
    "arr7"
   ]
  },
  {
   "cell_type": "code",
   "execution_count": 25,
   "metadata": {},
   "outputs": [
    {
     "data": {
      "text/plain": [
       "array([ 1.        ,  2.57142857,  4.14285714,  5.71428571,  7.28571429,\n",
       "        8.85714286, 10.42857143, 12.        ])"
      ]
     },
     "execution_count": 25,
     "metadata": {},
     "output_type": "execute_result"
    }
   ],
   "source": [
    "# linspace function will provide 6 values between 1 to 12\n",
    "import numpy as np\n",
    "arr7 = np.linspace(1,12, 8)# it will provide linear space , \n",
    "arr7"
   ]
  },
  {
   "cell_type": "code",
   "execution_count": 26,
   "metadata": {},
   "outputs": [
    {
     "name": "stdout",
     "output_type": "stream",
     "text": [
      "[[1 2 3]\n",
      " [5 6 7]]\n",
      "(2, 3)\n",
      "[[1 5]\n",
      " [2 6]\n",
      " [3 7]]\n",
      "(3, 2)\n"
     ]
    }
   ],
   "source": [
    "import numpy as np\n",
    "\n",
    "arr = np.matrix([[1,2,3],[5,6,7]])\n",
    "print(arr)\n",
    "print(arr.shape)\n",
    "arr1 = arr.T\n",
    "print(arr1)\n",
    "print(arr1.shape)"
   ]
  },
  {
   "cell_type": "code",
   "execution_count": 37,
   "metadata": {},
   "outputs": [
    {
     "name": "stdout",
     "output_type": "stream",
     "text": [
      "[[1 0 0]\n",
      " [0 1 0]\n",
      " [0 0 1]]\n"
     ]
    }
   ],
   "source": [
    "print( np.eye(3, dtype=\"int\"))"
   ]
  },
  {
   "cell_type": "code",
   "execution_count": 33,
   "metadata": {},
   "outputs": [
    {
     "name": "stdout",
     "output_type": "stream",
     "text": [
      "[[1 0 0]\n",
      " [0 1 0]\n",
      " [0 0 1]]\n"
     ]
    }
   ],
   "source": [
    "print(np.diag([1,1,1,]))"
   ]
  },
  {
   "cell_type": "markdown",
   "metadata": {},
   "source": [
    "# Creating array with random Module"
   ]
  },
  {
   "cell_type": "code",
   "execution_count": 38,
   "metadata": {},
   "outputs": [
    {
     "name": "stdout",
     "output_type": "stream",
     "text": [
      "0.6757366222971917\n",
      "[0.69494338 0.49171563 0.67275301]\n",
      "[[0.31905459 0.01927993]\n",
      " [0.56300476 0.4708829 ]]\n",
      "0.4453351037034161\n",
      "[[0.78318748 0.7592043  0.75746489]\n",
      " [0.87105851 0.13649704 0.65377117]]\n",
      "----------------------------------------\n",
      "-1.18383749838269\n",
      "[[-0.10674701  0.80840059  0.66347239]\n",
      " [ 0.42319043 -0.20185139 -1.61517017]\n",
      " [ 0.28347732  0.66701699 -0.29698587]]\n"
     ]
    }
   ],
   "source": [
    "# uniform distribution with random() and rand() functions\n",
    "import numpy as np\n",
    "arr = np.random.random()# random number\n",
    "print(arr)\n",
    "\n",
    "\n",
    "arr = np.random.random(3)# takes tuple and int\n",
    "print(arr)\n",
    "\n",
    "arr = np.random.random((2,2)) # takes tuple and int\n",
    "print(arr)\n",
    "\n",
    "arr = np.random.rand() # random number\n",
    "print(arr)\n",
    "arr = np.random.rand(2,3) # pass shape directly\n",
    "print(arr)\n",
    "\n",
    "print(\"----------------------------------------\")\n",
    "\n",
    "# Normal distribution , always give values around mean\n",
    "\n",
    "arr = np.random.randn() # random value\n",
    "print(arr)\n",
    "\n",
    "arr = np.random.randn(3,3) # pass shape directly\n",
    "print(arr)\n"
   ]
  },
  {
   "cell_type": "code",
   "execution_count": 68,
   "metadata": {},
   "outputs": [
    {
     "name": "stdout",
     "output_type": "stream",
     "text": [
      "2\n",
      "-----------------------\n",
      "14\n",
      "-----------------------\n",
      "[[12 14 16]\n",
      " [16 13 15]\n",
      " [19 12 13]]\n",
      "-----------------------\n",
      "[[12 10 13]\n",
      " [17 13 18]\n",
      " [18 15 13]]\n"
     ]
    }
   ],
   "source": [
    "arr = np.random.randint(10)# atleast one value is required ; low value\n",
    "print(arr)\n",
    "print(\"-----------------------\")\n",
    "arr = np.random.randint(10, 20)# [low , high)\n",
    "print(arr)\n",
    "print(\"-----------------------\")\n",
    "arr = np.random.randint(10, 20, (3,3))# ([low , high) ,shape)\n",
    "print(arr)\n",
    "print(\"-----------------------\")\n",
    "arr = np.random.randint(10, 20, (3,3), dtype=\"int32\")# ([low , high) ,shape, dtype)\n",
    "print(arr)"
   ]
  },
  {
   "cell_type": "code",
   "execution_count": 74,
   "metadata": {},
   "outputs": [
    {
     "data": {
      "text/plain": [
       "array([[4, 4, 4],\n",
       "       [4, 1, 3],\n",
       "       [4, 1, 4]])"
      ]
     },
     "execution_count": 74,
     "metadata": {},
     "output_type": "execute_result"
    }
   ],
   "source": [
    "import numpy as np\n",
    "\n",
    "np.random.choice([1,2,3,4], size= (3, 3), p=[0.1, 0.2, 0.3, 0.4])\n"
   ]
  },
  {
   "cell_type": "code",
   "execution_count": 98,
   "metadata": {},
   "outputs": [
    {
     "name": "stdout",
     "output_type": "stream",
     "text": [
      "[1 2 3 4]\n",
      "-----\n",
      "[2 3 4 1]\n"
     ]
    }
   ],
   "source": [
    "import numpy as np\n",
    "np.random.seed(111)\n",
    "arr= np.array([1,2,3,4])\n",
    "print(arr)\n",
    "print(\"-----\")\n",
    "np.random.shuffle(arr)\n",
    "print(arr)\n"
   ]
  },
  {
   "cell_type": "code",
   "execution_count": 110,
   "metadata": {},
   "outputs": [
    {
     "name": "stdout",
     "output_type": "stream",
     "text": [
      "[4 2 5 7]\n",
      "[2 4 7 5]\n"
     ]
    }
   ],
   "source": [
    "import numpy as np\n",
    "\n",
    "arr= np.array([4,2,5,7])\n",
    "print(arr)\n",
    "arr1 = np.random.permutation(arr)\n",
    "print(arr1)"
   ]
  },
  {
   "cell_type": "markdown",
   "metadata": {},
   "source": [
    "# Lecture 16"
   ]
  },
  {
   "cell_type": "code",
   "execution_count": 116,
   "metadata": {},
   "outputs": [
    {
     "name": "stdout",
     "output_type": "stream",
     "text": [
      "Collecting nptypingNote: you may need to restart the kernel to use updated packages.\n"
     ]
    },
    {
     "name": "stderr",
     "output_type": "stream",
     "text": [
      "  WARNING: Failed to remove contents in a temporary directory 'C:\\Users\\saram\\anaconda3\\envs\\myenv3_12\\Lib\\site-packages\\~umpy.libs'.\n",
      "  You can safely remove it manually.\n",
      "  WARNING: Failed to remove contents in a temporary directory 'C:\\Users\\saram\\anaconda3\\envs\\myenv3_12\\Lib\\site-packages\\~umpy'.\n",
      "  You can safely remove it manually.\n"
     ]
    },
    {
     "name": "stdout",
     "output_type": "stream",
     "text": [
      "\n",
      "  Using cached nptyping-2.5.0-py3-none-any.whl (37 kB)\n",
      "Collecting beartype\n",
      "  Using cached beartype-0.16.4-py3-none-any.whl.metadata (29 kB)\n",
      "Collecting numpy<2.0.0,>=1.20.0 (from nptyping)\n",
      "  Using cached numpy-1.26.2-cp312-cp312-win_amd64.whl.metadata (61 kB)\n",
      "Using cached beartype-0.16.4-py3-none-any.whl (819 kB)\n",
      "Using cached numpy-1.26.2-cp312-cp312-win_amd64.whl (15.5 MB)\n",
      "Installing collected packages: numpy, beartype, nptyping\n",
      "  Attempting uninstall: numpy\n",
      "    Found existing installation: numpy 1.26.2\n",
      "    Uninstalling numpy-1.26.2:\n",
      "      Successfully uninstalled numpy-1.26.2\n",
      "  Attempting uninstall: nptyping\n",
      "    Found existing installation: nptyping 2.5.0\n",
      "    Uninstalling nptyping-2.5.0:\n",
      "      Successfully uninstalled nptyping-2.5.0\n",
      "Successfully installed beartype-0.16.4 nptyping-2.5.0 numpy-1.26.2\n"
     ]
    }
   ],
   "source": [
    "%pip install nptyping beartype --upgrade --force"
   ]
  },
  {
   "cell_type": "markdown",
   "metadata": {},
   "source": [
    "# scalar"
   ]
  },
  {
   "cell_type": "code",
   "execution_count": 114,
   "metadata": {},
   "outputs": [
    {
     "data": {
      "text/plain": [
       "array(1000)"
      ]
     },
     "metadata": {},
     "output_type": "display_data"
    },
    {
     "data": {
      "text/plain": [
       "numpy.ndarray"
      ]
     },
     "metadata": {},
     "output_type": "display_data"
    },
    {
     "data": {
      "text/plain": [
       "0"
      ]
     },
     "metadata": {},
     "output_type": "display_data"
    },
    {
     "data": {
      "text/plain": [
       "()"
      ]
     },
     "metadata": {},
     "output_type": "display_data"
    },
    {
     "data": {
      "text/plain": [
       "dtype('int32')"
      ]
     },
     "metadata": {},
     "output_type": "display_data"
    },
    {
     "data": {
      "text/plain": [
       "1"
      ]
     },
     "metadata": {},
     "output_type": "display_data"
    },
    {
     "data": {
      "text/plain": [
       "4"
      ]
     },
     "metadata": {},
     "output_type": "display_data"
    }
   ],
   "source": [
    "import numpy as np\n",
    "\n",
    "a:np.ndarray = np.array(1000)\n",
    "display(a)\n",
    "display(type(a))\n",
    "display(a.ndim)\n",
    "display(a.shape)\n",
    "display(a.dtype)\n",
    "display(a.size)\n",
    "display(a.itemsize)\n",
    "\n"
   ]
  },
  {
   "cell_type": "markdown",
   "metadata": {},
   "source": [
    "# vector"
   ]
  },
  {
   "cell_type": "code",
   "execution_count": 115,
   "metadata": {},
   "outputs": [
    {
     "data": {
      "text/plain": [
       "array([1, 3, 5, 6, 7, 8])"
      ]
     },
     "metadata": {},
     "output_type": "display_data"
    },
    {
     "data": {
      "text/plain": [
       "numpy.ndarray"
      ]
     },
     "metadata": {},
     "output_type": "display_data"
    },
    {
     "data": {
      "text/plain": [
       "1"
      ]
     },
     "metadata": {},
     "output_type": "display_data"
    },
    {
     "data": {
      "text/plain": [
       "(6,)"
      ]
     },
     "metadata": {},
     "output_type": "display_data"
    },
    {
     "data": {
      "text/plain": [
       "dtype('int32')"
      ]
     },
     "metadata": {},
     "output_type": "display_data"
    },
    {
     "data": {
      "text/plain": [
       "6"
      ]
     },
     "metadata": {},
     "output_type": "display_data"
    },
    {
     "data": {
      "text/plain": [
       "4"
      ]
     },
     "metadata": {},
     "output_type": "display_data"
    },
    {
     "data": {
      "text/plain": [
       "24"
      ]
     },
     "metadata": {},
     "output_type": "display_data"
    }
   ],
   "source": [
    "import numpy as np\n",
    "\n",
    "a:np.ndarray = np.array([1,3,5,6,7,8])\n",
    "display(a)\n",
    "display(type(a))\n",
    "display(a.ndim)\n",
    "display(a.shape)\n",
    "display(a.dtype)\n",
    "display(a.size)\n",
    "display(a.itemsize )\n",
    "display(a.itemsize * a.size )\n"
   ]
  },
  {
   "cell_type": "markdown",
   "metadata": {},
   "source": [
    "# Numpy with NDArray typing support"
   ]
  },
  {
   "cell_type": "code",
   "execution_count": null,
   "metadata": {},
   "outputs": [
    {
     "name": "stdout",
     "output_type": "stream",
     "text": [
      "[ 1  2  3  4  5  6  7  8  9 10]\n"
     ]
    }
   ],
   "source": [
    "from nptyping import Int, NDArray, Shape , UInt64\n",
    "from typing import Any\n",
    "\n",
    "data: NDArray[Shape[\"2\"], Any] = np.arange(1,11)\n",
    "print(data)"
   ]
  },
  {
   "cell_type": "code",
   "execution_count": 4,
   "metadata": {},
   "outputs": [
    {
     "name": "stdout",
     "output_type": "stream",
     "text": [
      "[[ 1  2  3  4  5]\n",
      " [ 6  7  8  9 10]]\n"
     ]
    }
   ],
   "source": [
    "from nptyping import Int, NDArray, Shape\n",
    "import numpy as np\n",
    "from typing import Any\n",
    "\n",
    "\n",
    "data: NDArray[Shape[\"Size\"], Any] = np.arange(1, 11).reshape(2, 5)\n",
    "print(data)\n"
   ]
  },
  {
   "cell_type": "code",
   "execution_count": 5,
   "metadata": {},
   "outputs": [
    {
     "name": "stdout",
     "output_type": "stream",
     "text": [
      "[ 1  2  3  4  5  6  7  8  9 10]\n",
      "[ 1  2  3  4  5  6  7  8  9 10]\n"
     ]
    }
   ],
   "source": [
    "from nptyping import Int32, NDArray, Shape , UInt64\n",
    "from typing import Any\n",
    "\n",
    "data1: NDArray[Shape['10'], Int32] = np.arange(1,11)\n",
    "print(data1)\n",
    "\n",
    "data = np.arange(1,11)\n",
    "print(data)"
   ]
  },
  {
   "cell_type": "code",
   "execution_count": 6,
   "metadata": {},
   "outputs": [
    {
     "data": {
      "text/plain": [
       "array([ 4, 10])"
      ]
     },
     "execution_count": 6,
     "metadata": {},
     "output_type": "execute_result"
    }
   ],
   "source": [
    "\n",
    "from nptyping import Bool\n",
    "\n",
    "state_bank:NDArray[Shape[\"10\"], Any] = np.array([1,3,4,6,8,10])\n",
    "\n",
    "select:NDArray[Shape[\"10\"], Bool] = np.array([False,False,True,False,False,True])\n",
    "state_bank[select]\n"
   ]
  },
  {
   "cell_type": "code",
   "execution_count": null,
   "metadata": {},
   "outputs": [
    {
     "data": {
      "text/plain": [
       "array([ 4,  6,  8, 10])"
      ]
     },
     "execution_count": 72,
     "metadata": {},
     "output_type": "execute_result"
    }
   ],
   "source": [
    "\n",
    "from nptyping import Bool\n",
    "\n",
    "state_bank:NDArray[Shape[\"10\"], Any] = np.array([1,3,4,6,8,10])\n",
    "\n",
    "\n",
    "state_bank[state_bank % 2 == 0]\n"
   ]
  },
  {
   "cell_type": "markdown",
   "metadata": {},
   "source": [
    "# in1d"
   ]
  },
  {
   "cell_type": "code",
   "execution_count": 15,
   "metadata": {},
   "outputs": [
    {
     "data": {
      "text/plain": [
       "array([False, False, False, False, False, False])"
      ]
     },
     "execution_count": 15,
     "metadata": {},
     "output_type": "execute_result"
    }
   ],
   "source": [
    "state_bank:NDArray[Shape[\"10\"], Any] = np.array([1,3,4,6,8,10])\n",
    "\n",
    "ubl_bank:NDArray[Shape[\"20\"], Any] = np.random.randint(1,80, 20)\n",
    "\n",
    "np.in1d(state_bank, ubl_bank)\n"
   ]
  },
  {
   "cell_type": "code",
   "execution_count": 16,
   "metadata": {},
   "outputs": [
    {
     "data": {
      "text/plain": [
       "array([1, 3])"
      ]
     },
     "execution_count": 16,
     "metadata": {},
     "output_type": "execute_result"
    }
   ],
   "source": [
    "# intersect1d\n",
    "\n",
    "state_bank:NDArray[Shape[\"10\"], Any] = np.array([1,3,4,6,8,10])\n",
    "\n",
    "ubl_bank:NDArray[Shape[\"20\"], Any] = np.random.randint(1,80, 20)\n",
    "\n",
    "np.intersect1d(state_bank, ubl_bank)\n"
   ]
  },
  {
   "cell_type": "code",
   "execution_count": null,
   "metadata": {},
   "outputs": [
    {
     "data": {
      "text/plain": [
       "array([ 7,  6,  4,  8,  9, 10])"
      ]
     },
     "execution_count": 110,
     "metadata": {},
     "output_type": "execute_result"
    }
   ],
   "source": [
    "x:NDArray[Shape[\"6\"], Any] = np.array([1,3,4,6,9,10])\n",
    "\n",
    "y:NDArray[Shape[\"6\"], Any] = np.array([7,6,4,8,8,10])\n",
    "\n",
    "np.where(x>y, x, y)"
   ]
  },
  {
   "cell_type": "code",
   "execution_count": null,
   "metadata": {},
   "outputs": [
    {
     "name": "stdout",
     "output_type": "stream",
     "text": [
      "[[ 1  3  4]\n",
      " [ 6  9 10]]\n",
      "-------------------------------\n",
      "[[ 7  6  4  8]\n",
      " [ 8 10  4  5]]\n"
     ]
    }
   ],
   "source": [
    "x:NDArray[Shape[\"Size, Size\"], Any] = np.array([[1,3,4],\n",
    "                                                [6,9,10]])\n",
    "\n",
    "\n",
    "\n",
    "y:NDArray[Shape[\"Size, Size\"], Any] = np.array([[7,6,4,8], \n",
    "                                                [8,10,4,5]])\n",
    "\n",
    "\n",
    "print(x)\n",
    "print(\"-------------------------------\")\n",
    "print(y)\n",
    "print(\"-------------------------------\")"
   ]
  },
  {
   "cell_type": "code",
   "execution_count": 19,
   "metadata": {},
   "outputs": [
    {
     "name": "stdout",
     "output_type": "stream",
     "text": [
      "[[0 1 2]\n",
      " [3 4 5]\n",
      " [6 7 8]]\n",
      "-------------------------------\n",
      "[[[ 0  1  2]\n",
      "  [ 3  4  5]\n",
      "  [ 6  7  8]]\n",
      "\n",
      " [[ 9 10 11]\n",
      "  [12 13 14]\n",
      "  [15 16 17]]]\n",
      "-------------------------------\n"
     ]
    }
   ],
   "source": [
    "x:NDArray[Shape[\"Size, Size\"], Any] = np.arange(3*3).reshape(3,3)\n",
    "\n",
    "\n",
    "\n",
    "y:NDArray[Shape[\"Size, Size, Size\"], Any] = np.arange(2*3*3).reshape(2,3,3)\n",
    "\n",
    "\n",
    "print(x)\n",
    "print(\"-------------------------------\")\n",
    "print(y)\n",
    "print(\"-------------------------------\")"
   ]
  },
  {
   "cell_type": "code",
   "execution_count": null,
   "metadata": {},
   "outputs": [
    {
     "name": "stdout",
     "output_type": "stream",
     "text": [
      "[[[ 0  1  2]\n",
      "  [ 3  4  5]\n",
      "  [ 6  7  8]]\n",
      "\n",
      " [[ 9 10 11]\n",
      "  [12 13 14]\n",
      "  [15 16 17]]]\n",
      "-------------------------------\n",
      "[[[ 0  1  2]\n",
      "  [ 3  4  5]\n",
      "  [ 6  7  8]]\n",
      "\n",
      " [[ 9 10 11]\n",
      "  [12 13 14]\n",
      "  [15 16 17]]\n",
      "\n",
      " [[18 19 20]\n",
      "  [21 22 23]\n",
      "  [24 25 26]]]\n",
      "-------------------------------\n"
     ]
    }
   ],
   "source": [
    "x:NDArray[Shape[\"Size, Size, Size\"], Any] = np.arange(2*3*3).reshape(2,3,3)\n",
    "\n",
    "\n",
    "\n",
    "y:NDArray[Shape[\"Size, Size, Size\"], Any] = np.arange(3*3*3).reshape(3,3,3)\n",
    "\n",
    "\n",
    "print(x)\n",
    "print(\"-------------------------------\")\n",
    "print(y)\n",
    "print(\"-------------------------------\")"
   ]
  },
  {
   "cell_type": "code",
   "execution_count": null,
   "metadata": {},
   "outputs": [
    {
     "name": "stdout",
     "output_type": "stream",
     "text": [
      "[[[ 0  1  2]\n",
      "  [ 3  4  5]\n",
      "  [ 6  7  8]]\n",
      "\n",
      " [[ 9 10 11]\n",
      "  [12 13 14]\n",
      "  [15 16 17]]\n",
      "\n",
      " [[18 19 20]\n",
      "  [21 22 23]\n",
      "  [24 25 26]]]\n"
     ]
    }
   ],
   "source": [
    "print(y[::,::,::])"
   ]
  },
  {
   "cell_type": "code",
   "execution_count": null,
   "metadata": {},
   "outputs": [
    {
     "name": "stdout",
     "output_type": "stream",
     "text": [
      "[[[ 0]\n",
      "  [ 3]]\n",
      "\n",
      " [[ 9]\n",
      "  [12]]]\n"
     ]
    }
   ],
   "source": [
    "#         1      2      3\n",
    "print(y[0:2:1, 0:2:1, 0:1:1])\n",
    "\n",
    "# 1step -- will slice from all arrays \n",
    "# 2.    --- will slice rows from all arrays\n",
    "# 3.   ----will slice coloumns from all arrays "
   ]
  }
 ],
 "metadata": {
  "kernelspec": {
   "display_name": "python1",
   "language": "python",
   "name": "python3"
  },
  "language_info": {
   "codemirror_mode": {
    "name": "ipython",
    "version": 3
   },
   "file_extension": ".py",
   "mimetype": "text/x-python",
   "name": "python",
   "nbconvert_exporter": "python",
   "pygments_lexer": "ipython3",
   "version": "3.12.0"
  }
 },
 "nbformat": 4,
 "nbformat_minor": 2
}
