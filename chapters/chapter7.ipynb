{
 "cells": [
  {
   "cell_type": "markdown",
   "metadata": {},
   "source": [
    "# USER INPUT AND WHILE LOOPS"
   ]
  },
  {
   "cell_type": "code",
   "execution_count": 3,
   "metadata": {},
   "outputs": [
    {
     "name": "stdout",
     "output_type": "stream",
     "text": [
      "My name is: saleem\n"
     ]
    }
   ],
   "source": [
    "message: str = input(\"Enter you name: \")\n",
    "print(f\"My name is: {message}\")"
   ]
  },
  {
   "cell_type": "code",
   "execution_count": 5,
   "metadata": {},
   "outputs": [
    {
     "name": "stdout",
     "output_type": "stream",
     "text": [
      "If you share your name, we can personalize the messages you see.\n",
      "What is your first name?\n",
      "\n",
      "Hello, ahmad!\n"
     ]
    }
   ],
   "source": [
    "prompt = \"If you share your name, we can personalize the messages you see.\"\n",
    "prompt += \"\\nWhat is your first name?\"\n",
    "\n",
    "print(prompt)\n",
    "name = input(prompt)\n",
    "print(f\"\\nHello, {name}!\")"
   ]
  }
 ],
 "metadata": {
  "kernelspec": {
   "display_name": "python1",
   "language": "python",
   "name": "python3"
  },
  "language_info": {
   "codemirror_mode": {
    "name": "ipython",
    "version": 3
   },
   "file_extension": ".py",
   "mimetype": "text/x-python",
   "name": "python",
   "nbconvert_exporter": "python",
   "pygments_lexer": "ipython3",
   "version": "3.12.0"
  }
 },
 "nbformat": 4,
 "nbformat_minor": 2
}
