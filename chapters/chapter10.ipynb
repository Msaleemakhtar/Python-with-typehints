{
 "cells": [
  {
   "cell_type": "markdown",
   "metadata": {},
   "source": []
  },
  {
   "cell_type": "markdown",
   "metadata": {},
   "source": [
    "# OOP (Classes)"
   ]
  },
  {
   "cell_type": "code",
   "execution_count": 8,
   "metadata": {},
   "outputs": [
    {
     "name": "stdout",
     "output_type": "stream",
     "text": [
      "l have 4 and my color is black and i have 1 nose\n",
      "red\n"
     ]
    }
   ],
   "source": [
    "\n",
    "\n",
    "\n",
    "class Animals:\n",
    "\n",
    "    Counter :int = 0\n",
    "   \n",
    "    def __init__(self, legs:int, color:str)->None:\n",
    "        self.legs = legs\n",
    "        self.color = color\n",
    "        \n",
    "    def bark(self)->None:\n",
    "        print(f\"l have {self.legs} and my color is {self.color}\")\n",
    "\n",
    "dog:Animals = Animals(4, \"black\")\n",
    "\n",
    "dog.bark()\n",
    "dog.color = \"red\"\n",
    "print(dog.color)"
   ]
  },
  {
   "cell_type": "code",
   "execution_count": 23,
   "metadata": {},
   "outputs": [
    {
     "name": "stdout",
     "output_type": "stream",
     "text": [
      "i have 4 and my color is white and my skin is grey & 0 and 0\n",
      "i have 4 and my color is red and my skin is grey & 0 and 0\n",
      "i have 4 and my color is blue and my skin is grey & 0 and 0\n",
      "0\n"
     ]
    }
   ],
   "source": [
    "\n",
    "\n",
    "\n",
    "class Animals:\n",
    "    skin:str = \"grey\"\n",
    "    counter :int = 0\n",
    "\n",
    "    def __init__(self, legs:int, color:str) -> None:\n",
    "        self.legs:int = legs\n",
    "        self.color: str = color\n",
    "        Animals.counter+=1\n",
    "\n",
    "    def bark(self)->None:\n",
    "        print(f\"i have {self.legs} and my color is {self.color} and my skin is {Animals.skin} & {self.counter} and {Animals.counter}\")\n",
    "\n",
    "dogs:Animals = Animals(4, \"white\")\\\n",
    "\n",
    "dogs.bark()\n",
    "dogs2:Animals = Animals(4, \"red\")\n",
    "dogs2.bark()\n",
    "dogs3:Animals = Animals(4, \"blue\")\n",
    "dogs3.bark()\n",
    "\n",
    "print(dogs.counter)"
   ]
  },
  {
   "cell_type": "code",
   "execution_count": 13,
   "metadata": {},
   "outputs": [
    {
     "name": "stdout",
     "output_type": "stream",
     "text": [
      "=======Employee1========\n",
      "\n",
      "        Employee name is saleem and salary is 50000 works in the company Edge TeleKom.\n",
      "        His designation is Marketing Manager.\n",
      "        His team consists of 49.\n",
      "         \n",
      "=======Employee2========\n",
      "\n",
      "        Employee name is Ahmad and salary is 40000 works in the company Edge TeleKom.\n",
      "        His designation is sales Manager.\n",
      "        His team consists of 30.\n",
      "         \n"
     ]
    }
   ],
   "source": [
    "class Employee:\n",
    "    # class variable \n",
    "    company_name:str = \"Edge TeleKom\"\n",
    "\n",
    "    # constructor is declared to intialize the object and it is optional because every class has default constructor\n",
    "\n",
    "\n",
    "    def __init__(self, name:str, salary:int) -> None:\n",
    "        # instance variables\n",
    "        self.name:str = name\n",
    "        self.salary:int = salary\n",
    "\n",
    "\n",
    "    # instance method\n",
    "    def show(self, designation:str, team:int):\n",
    "        print(f'''\n",
    "        Employee name is {self.name} and salary is {self.salary} works in the company {Employee.company_name}.\n",
    "        His designation is {designation}.\n",
    "        His team consists of {team}.\n",
    "         ''')\n",
    "      \n",
    "\n",
    "\n",
    "# first object is created\n",
    "print(\"=======Employee1========\")\n",
    "employee1: Employee = Employee(\"saleem\", 50000)\n",
    "employee1.show(\"Marketing Manager\", 49)\n",
    "print(\"=======Employee2========\")\n",
    "# second employee is created\n",
    "employee2:Employee = Employee(\"Ahmad\", 40000)\n",
    "employee2.show(\"sales Manager\", 30)\n",
    "        "
   ]
  },
  {
   "cell_type": "markdown",
   "metadata": {},
   "source": [
    "# Function Overloading"
   ]
  },
  {
   "cell_type": "code",
   "execution_count": 7,
   "metadata": {},
   "outputs": [
    {
     "name": "stdout",
     "output_type": "stream",
     "text": [
      "11\n",
      "12.399999999999999\n",
      "Hellosaleem\n"
     ]
    }
   ],
   "source": [
    "from typing import overload, Union\n",
    "\n",
    "\n",
    "# Function overloading signature blocks\n",
    "\n",
    "@overload\n",
    "def add(a:int, b:int)->int:\n",
    "    ...\n",
    "\n",
    "@overload\n",
    "def add(a:float, b:float)->float:\n",
    "    ...\n",
    "\n",
    "@overload\n",
    "def add(a:str, b:str)->str:\n",
    "    ...\n",
    "\n",
    "\n",
    "\n",
    "# implementation\n",
    "\n",
    "def add(a:Union[int, float, str], b:Union[int, float,str])->Union[int, float,str]:\n",
    "    if isinstance(a, int) and isinstance(b, int):\n",
    "        return a + b\n",
    "    elif isinstance(a, float) and isinstance(b, float):\n",
    "        return a + b\n",
    "    elif isinstance(a, str) and isinstance(b, str):\n",
    "        return a + b\n",
    "    else:\n",
    "        raise TypeError(\"Invalid argument type!\")\n",
    "    \n",
    " # function calling\n",
    "\n",
    "result1 = add(4, 7)\n",
    "result2 = add(4.6, 7.8)\n",
    "result3 = add(\"Hello\", \"saleem\")\n",
    "\n",
    "print(result1)\n",
    "print(result2)\n",
    "print(result3)\n",
    "\n",
    "  "
   ]
  },
  {
   "cell_type": "markdown",
   "metadata": {},
   "source": [
    "# Method Overloading"
   ]
  },
  {
   "cell_type": "code",
   "execution_count": 11,
   "metadata": {},
   "outputs": [
    {
     "name": "stdout",
     "output_type": "stream",
     "text": [
      "16\n",
      "17.2\n",
      "9 7\n"
     ]
    }
   ],
   "source": [
    "from typing import overload, Union\n",
    "\n",
    "\n",
    "\n",
    "class Adder:\n",
    "\n",
    "    #  overloading signature blocks\n",
    "\n",
    "    @overload\n",
    "    def add(self, a:int, b:int)->int:\n",
    "        ...\n",
    "\n",
    "    @overload\n",
    "    def add(self, a:float, b:float)->float:\n",
    "        ...\n",
    "\n",
    "    @overload\n",
    "    def add(self, a:str, b:str)->str:\n",
    "        ...\n",
    "\n",
    "\n",
    "\n",
    "    # implementation\n",
    "\n",
    "    def add(self, a:Union[int, float, str], b:Union[int, float,str])->Union[int, float,str]:\n",
    "        if isinstance(a, int) and isinstance(b, int):\n",
    "            return a + b\n",
    "        elif isinstance(a, float) and isinstance(b, float):\n",
    "            return a + b\n",
    "        elif isinstance(a, str) and isinstance(b, str):\n",
    "            return a + b\n",
    "        else:\n",
    "            raise TypeError(\"Invalid argument type!\")\n",
    "    \n",
    "\n",
    "adder:Adder = Adder()\n",
    "result1 = adder.add(9, 7)\n",
    "result2 = adder.add(9.6, 7.6)\n",
    "result3 = adder.add(\"9\",\" 7\")\n",
    "\n",
    "print(result1)\n",
    "print(result2)\n",
    "print(result3)\n",
    "\n",
    "  "
   ]
  },
  {
   "cell_type": "markdown",
   "metadata": {},
   "source": [
    "# Multiple inhertance"
   ]
  },
  {
   "cell_type": "code",
   "execution_count": 17,
   "metadata": {},
   "outputs": [
    {
     "name": "stdout",
     "output_type": "stream",
     "text": [
      "Father is speaking Urdue\n"
     ]
    }
   ],
   "source": [
    "class Mother:\n",
    "    def __init__(self, name:str) -> None:\n",
    "        self.name : str = name\n",
    "        self.eye_color:str = \"brown\"\n",
    "\n",
    "    # def speaking(self, words:str)->None:\n",
    "    #     print(f\"Mother is speaking {words}\")\n",
    "\n",
    "\n",
    "\n",
    "class Father:\n",
    "    def __init__(self, name:str) -> None:\n",
    "        self.name:str = name\n",
    "        self.height:str = \"6 feet\"\n",
    "\n",
    "    def speaking(self, words:str)->None:\n",
    "        print(f\"Father is speaking {words}\")\n",
    "\n",
    "\n",
    "\n",
    "class Child(Mother, Father):\n",
    "    def __init__(self, father_name: str, mother_name: str, child_name:str) -> None:  \n",
    "        Mother.__init__(self, mother_name)\n",
    "        Father.__init__(self, father_name)\n",
    "        self.child_name :str = child_name\n",
    "\n",
    "\n",
    "    # def speaking(self, words:str)->None:\n",
    "    #     print(f\"child is speaking {words}\")\n",
    "\n",
    "        \n",
    "saleem:Child = Child(\"Ghulam Muhammad\", \"Basheeran Bibi\", \"Muhammad saleem\")\n",
    "saleem.speaking(\"Urdue\")\n",
    "        "
   ]
  },
  {
   "cell_type": "code",
   "execution_count": 19,
   "metadata": {},
   "outputs": [
    {
     "name": "stdout",
     "output_type": "stream",
     "text": [
      "child is speaking Urdue\n"
     ]
    }
   ],
   "source": [
    "class Mother:\n",
    "    def __init__(self, name:str) -> None:\n",
    "        self.name : str = name\n",
    "        self.eye_color:str = \"brown\"\n",
    "\n",
    "    def speaking(self, words:str)->None:\n",
    "        print(f\"Mother is speaking {words}\")\n",
    "\n",
    "\n",
    "\n",
    "class Father:\n",
    "    def __init__(self, name:str) -> None:\n",
    "        self.name:str = name\n",
    "        self.height:str = \"6 feet\"\n",
    "\n",
    "    def speaking(self, words:str)->None:\n",
    "        print(f\"Father is speaking {words}\")\n",
    "\n",
    "\n",
    "\n",
    "class Child(Father, Mother ):\n",
    "    def __init__(self, father_name: str, mother_name: str, child_name:str) -> None:  \n",
    "        Mother.__init__(self, mother_name)\n",
    "        Father.__init__(self, father_name)\n",
    "        self.child_name :str = child_name\n",
    "\n",
    "\n",
    "    def speaking(self, words:str)->None:\n",
    "        print(f\"child is speaking {words}\")\n",
    "\n",
    "        \n",
    "saleem:Child = Child(\"Ghulam Muhammad\", \"Basheeran Bibi\", \"Muhammad saleem\")\n",
    "saleem.speaking(\"Urdue\")\n",
    "        "
   ]
  },
  {
   "cell_type": "markdown",
   "metadata": {},
   "source": [
    "# Overriding"
   ]
  },
  {
   "cell_type": "code",
   "execution_count": 24,
   "metadata": {},
   "outputs": [
    {
     "name": "stdout",
     "output_type": "stream",
     "text": [
      "Bird is eating bread\n",
      "Animal is eating grass\n"
     ]
    }
   ],
   "source": [
    "class Animal():\n",
    "    def eating(self,food : str )->None: #same method \n",
    "        print(f\"Animal is eating {food}\")\n",
    "\n",
    "\n",
    "class Bird(Animal):\n",
    "    def eating(self, food: str) -> None:\n",
    "        print(f\"Bird is eating {food}\")\n",
    "\n",
    "\n",
    "bird : Bird = Bird()\n",
    "bird.eating(\"bread\")\n",
    "\n",
    "animal : Animal = Animal()\n",
    "animal.eating(\"grass\")"
   ]
  },
  {
   "cell_type": "markdown",
   "metadata": {},
   "source": [
    "# polymorphism"
   ]
  },
  {
   "cell_type": "code",
   "execution_count": 27,
   "metadata": {},
   "outputs": [
    {
     "name": "stdout",
     "output_type": "stream",
     "text": [
      "Bird is eating grass\n",
      "<class '__main__.Bird'>\n"
     ]
    }
   ],
   "source": [
    "animal : Animal = Bird()# run time it will decide which object method it will be run\n",
    "animal.eating(\"grass\")\n",
    "print(type(animal))"
   ]
  },
  {
   "cell_type": "markdown",
   "metadata": {},
   "source": [
    "# Static Method and Static variable(class variable)"
   ]
  },
  {
   "cell_type": "code",
   "execution_count": 25,
   "metadata": {},
   "outputs": [
    {
     "name": "stdout",
     "output_type": "stream",
     "text": [
      "Addition: 30\n",
      "Multiplication: 200\n",
      "Static variable or Class variable PIAIC\n"
     ]
    }
   ],
   "source": [
    "class MathOperations:\n",
    "    #Static variables\n",
    "    counter : int = 100\n",
    "    organization : str = \"PIAIC\"\n",
    "\n",
    "    @staticmethod\n",
    "    def add(x: int, y: int) -> int:\n",
    "        \"\"\"Add two numbers.\"\"\"\n",
    "        return x + y\n",
    "\n",
    "    @staticmethod\n",
    "    def multiply(x: int, y: int) -> int:\n",
    "        \"\"\"Multiply two numbers.\"\"\"\n",
    "        return x * y\n",
    "\n",
    "# Using the static methods\n",
    "result_add = MathOperations.add(10, 20)\n",
    "result_multiply = MathOperations.multiply(10, 20)\n",
    "\n",
    "print(\"Addition:\", result_add)\n",
    "print(\"Multiplication:\", result_multiply)\n",
    "\n",
    "print(\"Static variable or Class variable\",MathOperations.organization)"
   ]
  },
  {
   "cell_type": "markdown",
   "metadata": {},
   "source": [
    "# everything is an object\n"
   ]
  },
  {
   "cell_type": "code",
   "execution_count": 28,
   "metadata": {},
   "outputs": [
    {
     "data": {
      "text/plain": [
       "<__main__.Human at 0x235924cddf0>"
      ]
     },
     "execution_count": 28,
     "metadata": {},
     "output_type": "execute_result"
    }
   ],
   "source": [
    "from typing import Any\n",
    "\n",
    "\n",
    "class Human():\n",
    "    def eating(self, food : str)->None:\n",
    "        print(f\"Human is eating {food}\")\n",
    "        \n",
    "\n",
    "   \n",
    "\n",
    "    \n",
    "# obj1 : Human = Human()\n",
    "# obj1.eating(\"Biryani\")\n",
    "Human.__call__()"
   ]
  },
  {
   "cell_type": "code",
   "execution_count": 26,
   "metadata": {},
   "outputs": [
    {
     "data": {
      "text/plain": [
       "True"
      ]
     },
     "execution_count": 26,
     "metadata": {},
     "output_type": "execute_result"
    }
   ],
   "source": [
    "callable(MathOperations)"
   ]
  }
 ],
 "metadata": {
  "kernelspec": {
   "display_name": "python1",
   "language": "python",
   "name": "python3"
  },
  "language_info": {
   "codemirror_mode": {
    "name": "ipython",
    "version": 3
   },
   "file_extension": ".py",
   "mimetype": "text/x-python",
   "name": "python",
   "nbconvert_exporter": "python",
   "pygments_lexer": "ipython3",
   "version": "3.12.0"
  }
 },
 "nbformat": 4,
 "nbformat_minor": 2
}
