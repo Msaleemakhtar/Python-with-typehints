{
 "cells": [
  {
   "cell_type": "markdown",
   "metadata": {},
   "source": [
    " # List in python"
   ]
  },
  {
   "cell_type": "code",
   "execution_count": 6,
   "metadata": {},
   "outputs": [
    {
     "name": "stdout",
     "output_type": "stream",
     "text": [
      "['tred', 'conndale', 'specialized', 'redlines']\n",
      "specialized\n",
      "Tred\n",
      "Specialized\n",
      "redlines\n",
      "specialized\n"
     ]
    }
   ],
   "source": [
    "# Lists are indexed, ordered, mutable ,duplicates allowed, contain any data type and also mixed data types\n",
    "\n",
    "bicycles : list[str] = [\"tred\", \"conndale\", \"specialized\", \"redlines\"]\n",
    "print(bicycles)# it will print representation of list -['tred', 'conndale', 'specialized', 'redlines']\n",
    "print(bicycles[2])# individual items are accessed to show\n",
    "print(bicycles[0].title()) # capitilize the first letter \n",
    "print(bicycles[2].title())\n",
    "print(bicycles[-1])# to access the last item inthe list -negative indexing start from -1\n",
    "print(bicycles[-2])"
   ]
  },
  {
   "cell_type": "code",
   "execution_count": 10,
   "metadata": {},
   "outputs": [
    {
     "name": "stdout",
     "output_type": "stream",
     "text": [
      "My fisr bicyle was a Rustam & Sohrab\n"
     ]
    }
   ],
   "source": [
    "bicycles : list[str] = [\"sohrab\", \"rustam\", \"tred\", \"conndale\", \"specialized\", \"redlines\"]\n",
    "message = f\"My fisr bicyle was a {{bicycles[1].title()}} & {bicycles[0].title()}\"\n",
    "print(message)"
   ]
  },
  {
   "cell_type": "code",
   "execution_count": 14,
   "metadata": {},
   "outputs": [
    {
     "name": "stdout",
     "output_type": "stream",
     "text": [
      "My fisr bicyle was a Rustam & Sohrab\n"
     ]
    }
   ],
   "source": [
    "bicycles : list[str] = [\"sohrab\", \"rustam\", \"tred\", \"conndale\", \"specialized\", \"redlines\"]\n",
    "message =f\"\"\"My fisr bicyle was a {bicycles[1].title()} & {bicycles[0].title()}\"\"\"\n",
    "print(message)"
   ]
  },
  {
   "cell_type": "markdown",
   "metadata": {},
   "source": [
    " # adding elements in the list. append(),  insert(), extend(), ---[index]= \"\""
   ]
  },
  {
   "cell_type": "code",
   "execution_count": 16,
   "metadata": {},
   "outputs": [
    {
     "name": "stdout",
     "output_type": "stream",
     "text": [
      "['sohrab', 'rustam', 'tred', 'conndale', 'specialized', 'redlines']\n",
      "['sohrabbb', 'rustam', 'tred', 'conndale', 'specialized', 'redlines']\n",
      "['sohrabbb', 'rustam', 'tred', 'conndale', 'specialized', 'redlines', 'honda']\n"
     ]
    }
   ],
   "source": [
    "# adding elements in list\n",
    "bicycles : list[str] = [\"sohrab\", \"rustam\", \"tred\", \"conndale\", \"specialized\", \"redlines\"]\n",
    "print(bicycles)\n",
    "bicycles[0]= \"sohrabbb\"# it will add the item at the index level and remove the previous one\n",
    "print(bicycles)\n",
    "bicycles.append(\"honda\") # it will add items in the end of the list\n",
    "print(bicycles)"
   ]
  },
  {
   "cell_type": "code",
   "execution_count": 17,
   "metadata": {},
   "outputs": [
    {
     "name": "stdout",
     "output_type": "stream",
     "text": [
      "['honda', 'yamaha', 'metro', 'united']\n"
     ]
    }
   ],
   "source": [
    "# 1---append() adding items in the list\n",
    "motorcycles : list[str] = []\n",
    "motorcycles.append(\"honda\")\n",
    "motorcycles.append(\"yamaha\")\n",
    "motorcycles.append(\"metro\")\n",
    "motorcycles.append(\"united\")\n",
    "print(motorcycles)"
   ]
  },
  {
   "cell_type": "code",
   "execution_count": 18,
   "metadata": {},
   "outputs": [
    {
     "name": "stdout",
     "output_type": "stream",
     "text": [
      "['honda', 'yamaha', 'metro', 'united']\n",
      "['honda', 'suzuki', 'yamaha', 'metro', 'united']\n"
     ]
    }
   ],
   "source": [
    "#2---- Inserting Elements into a List insert() \n",
    "\n",
    "motorcycles : list[str] = ['honda', 'yamaha', 'metro', 'united']\n",
    "print(motorcycles)\n",
    "motorcycles.insert(1, \"suzuki\")\n",
    "print(motorcycles)"
   ]
  },
  {
   "cell_type": "code",
   "execution_count": 19,
   "metadata": {},
   "outputs": [
    {
     "name": "stdout",
     "output_type": "stream",
     "text": [
      "['honda', 'yamaha', 'metro', 'united']\n",
      "['suzuki', 'yamaha', 'metro', 'united']\n"
     ]
    }
   ],
   "source": [
    "# 3----variable_namme[index] = \"\"\n",
    "motorcycles : list[str] = ['honda', 'yamaha', 'metro', 'united']\n",
    "print(motorcycles)\n",
    "motorcycles[0] = \"suzuki\"\n",
    "print(motorcycles)"
   ]
  },
  {
   "cell_type": "code",
   "execution_count": 21,
   "metadata": {},
   "outputs": [
    {
     "name": "stdout",
     "output_type": "stream",
     "text": [
      "['honda', 'yamaha', 'metro']\n",
      "['united', 'suzuki']\n",
      "['honda', 'yamaha', 'metro', 'united', 'suzuki']\n"
     ]
    }
   ],
   "source": [
    "# 4----extend()  combining two lists\n",
    "motorcycles : list[str] = ['honda', 'yamaha', 'metro']\n",
    "print(motorcycles)\n",
    "motorcycles1 : list[str] = ['united', 'suzuki']\n",
    "print(motorcycles1)\n",
    "motorcycles.extend(motorcycles1)\n",
    "print(motorcycles)"
   ]
  },
  {
   "cell_type": "markdown",
   "metadata": {},
   "source": [
    " # Removing Elements from a List"
   ]
  },
  {
   "cell_type": "code",
   "execution_count": 29,
   "metadata": {},
   "outputs": [
    {
     "name": "stdout",
     "output_type": "stream",
     "text": [
      "['honda', 'yamaha', 'metro', 'united']\n",
      "['yamaha', 'metro', 'united']\n"
     ]
    }
   ],
   "source": [
    "# 1---- Removing an Item Using the del Statement\n",
    "# You can remove an item from any position in a list using the del statement if you know its index\n",
    "motorcycles : list[str] = ['honda', 'yamaha', 'metro', 'united']\n",
    "print(motorcycles)\n",
    "del motorcycles[0]\n",
    "print(motorcycles)"
   ]
  },
  {
   "cell_type": "code",
   "execution_count": 30,
   "metadata": {},
   "outputs": [
    {
     "name": "stdout",
     "output_type": "stream",
     "text": [
      "['honda', 'yamaha', 'metro', 'united']\n",
      "['honda', 'yamaha', 'metro']\n",
      "united\n",
      "['honda', 'yamaha', 'metro', 'united']\n",
      "['honda', 'metro', 'united']\n",
      "yamaha\n"
     ]
    }
   ],
   "source": [
    "# 2---- Removing an Item Using the pop() Method\n",
    "\n",
    "\"\"\"The pop() method removes the last item in a list, \n",
    "but it lets you work with that item after removing it\"\"\"\n",
    "\n",
    "motorcycles : list[str] = ['honda', 'yamaha', 'metro', 'united']\n",
    "print(motorcycles)\n",
    "\n",
    "popped_motorcycles = motorcycles.pop()\n",
    "print(motorcycles)\n",
    "print(popped_motorcycles)\n",
    "\n",
    "# Popping Items from Any Position in a List\n",
    "\n",
    "\"\"\"You can use pop() to remove an item from any position in a list by including\n",
    "the index of the item you want to remove in parentheses\"\"\"\n",
    "\n",
    "motorcycles : list[str] = ['honda', 'yamaha', 'metro', 'united']\n",
    "print(motorcycles)\n",
    "\n",
    "popped_motorcycles = motorcycles.pop(1)\n",
    "print(motorcycles)\n",
    "print(popped_motorcycles)"
   ]
  },
  {
   "cell_type": "code",
   "execution_count": 32,
   "metadata": {},
   "outputs": [
    {
     "name": "stdout",
     "output_type": "stream",
     "text": [
      "['honda', 'yamaha', 'metro', 'united']\n",
      "['honda', 'yamaha', 'united']\n"
     ]
    }
   ],
   "source": [
    "# 3---- Removing an Item by Value ---remove() method\n",
    "\n",
    "motorcycles : list[str] = ['honda', 'yamaha', 'metro', 'united']\n",
    "print(motorcycles)\n",
    "motorcycles.remove(\"metro\")\n",
    "print(motorcycles)"
   ]
  },
  {
   "cell_type": "markdown",
   "metadata": {},
   "source": [
    "# Organizing a List"
   ]
  },
  {
   "cell_type": "code",
   "execution_count": 35,
   "metadata": {},
   "outputs": [
    {
     "name": "stdout",
     "output_type": "stream",
     "text": [
      "['honda', 'yamaha', 'metro', 'united']\n",
      "['honda', 'metro', 'united', 'yamaha']\n",
      "['yamaha', 'united', 'metro', 'honda']\n"
     ]
    }
   ],
   "source": [
    "# 1---- Sorting a List Permanently with the sort() Method\n",
    "\n",
    "\"\"\"The sort() method changes the order of the list permanently. The motorcycles\n",
    "are now in alphabetical order, and we can never revert to the original order:\n",
    "\"\"\"\n",
    "\n",
    "motorcycles : list[str] = ['honda', 'yamaha', 'metro', 'united']\n",
    "print(motorcycles)\n",
    "motorcycles.sort() # permanently change the order ---alphabetically\n",
    "print(motorcycles)\n",
    "motorcycles.sort(reverse=True) # permanently reverse the order ---alphabetically\n",
    "print(motorcycles)"
   ]
  },
  {
   "cell_type": "code",
   "execution_count": 37,
   "metadata": {},
   "outputs": [
    {
     "name": "stdout",
     "output_type": "stream",
     "text": [
      "['honda', 'yamaha', 'metro', 'united']\n",
      "['honda', 'metro', 'united', 'yamaha']\n",
      "['honda', 'yamaha', 'metro', 'united']\n"
     ]
    }
   ],
   "source": [
    "# 2----Sorting a List Temporarily with the sorted() Function\n",
    "\n",
    "motorcycles : list[str] = ['honda', 'yamaha', 'metro', 'united']\n",
    "print(motorcycles)# original order\n",
    "print(sorted(motorcycles)) # temporary order\n",
    "print(motorcycles)# original order"
   ]
  },
  {
   "cell_type": "code",
   "execution_count": 39,
   "metadata": {},
   "outputs": [
    {
     "name": "stdout",
     "output_type": "stream",
     "text": [
      "['honda', 'yamaha', 'metro', 'united']\n",
      "['united', 'metro', 'yamaha', 'honda']\n"
     ]
    },
    {
     "data": {
      "text/plain": [
       "4"
      ]
     },
     "execution_count": 39,
     "metadata": {},
     "output_type": "execute_result"
    }
   ],
   "source": [
    "# 3---- Printing a List in Reverse Order\n",
    "\n",
    "motorcycles : list[str] = ['honda', 'yamaha', 'metro', 'united']\n",
    "print(motorcycles)# original order\n",
    "motorcycles.reverse()\n",
    "print(motorcycles) # reverse order\n",
    "len(motorcycles)"
   ]
  },
  {
   "cell_type": "markdown",
   "metadata": {},
   "source": []
  }
 ],
 "metadata": {
  "kernelspec": {
   "display_name": "python1",
   "language": "python",
   "name": "python3"
  },
  "language_info": {
   "codemirror_mode": {
    "name": "ipython",
    "version": 3
   },
   "file_extension": ".py",
   "mimetype": "text/x-python",
   "name": "python",
   "nbconvert_exporter": "python",
   "pygments_lexer": "ipython3",
   "version": "3.12.0"
  }
 },
 "nbformat": 4,
 "nbformat_minor": 2
}
