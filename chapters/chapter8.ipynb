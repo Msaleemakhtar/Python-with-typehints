{
 "cells": [
  {
   "cell_type": "markdown",
   "metadata": {},
   "source": [
    "# Functions \n"
   ]
  },
  {
   "cell_type": "code",
   "execution_count": 7,
   "metadata": {},
   "outputs": [
    {
     "name": "stdout",
     "output_type": "stream",
     "text": [
      " Hello world\n"
     ]
    }
   ],
   "source": [
    "def add()->None:\n",
    "    print(\" Hello world\")\n",
    "add()"
   ]
  },
  {
   "cell_type": "code",
   "execution_count": 6,
   "metadata": {},
   "outputs": [
    {
     "data": {
      "text/plain": [
       "11"
      ]
     },
     "execution_count": 6,
     "metadata": {},
     "output_type": "execute_result"
    }
   ],
   "source": [
    "def add()->None:\n",
    "    sum = 5 + 6\n",
    "    return sum\n",
    "add()"
   ]
  },
  {
   "cell_type": "code",
   "execution_count": 9,
   "metadata": {},
   "outputs": [
    {
     "name": "stdout",
     "output_type": "stream",
     "text": [
      "pakistan\n"
     ]
    },
    {
     "data": {
      "text/plain": [
       "None"
      ]
     },
     "metadata": {},
     "output_type": "display_data"
    }
   ],
   "source": [
    "a : str = print(\"pakistan\")\n",
    "display(a)"
   ]
  },
  {
   "cell_type": "code",
   "execution_count": 10,
   "metadata": {},
   "outputs": [
    {
     "data": {
      "text/plain": [
       "8"
      ]
     },
     "metadata": {},
     "output_type": "display_data"
    }
   ],
   "source": [
    "a : str = len(\"pakistan\")\n",
    "display(a)"
   ]
  },
  {
   "cell_type": "code",
   "execution_count": 13,
   "metadata": {},
   "outputs": [
    {
     "name": "stdout",
     "output_type": "stream",
     "text": [
      "PIAIC is offering Generative AI course\n",
      "PIAIC is offering Generative AI course\n",
      "PIAIC is offering Generative AI course\n",
      "PIAIC is offering Generative AI course\n"
     ]
    }
   ],
   "source": [
    "# Create simple function without any argument (defualt function)\n",
    "\n",
    "def piaic()-> None:\n",
    "    print(\"PIAIC is offering Generative AI course\")\n",
    "    print(\"PIAIC is offering Generative AI course\")\n",
    "    print(\"PIAIC is offering Generative AI course\")\n",
    "    print(\"PIAIC is offering Generative AI course\")\n",
    "piaic()"
   ]
  },
  {
   "cell_type": "code",
   "execution_count": 16,
   "metadata": {},
   "outputs": [
    {
     "data": {
      "text/plain": [
       "10"
      ]
     },
     "execution_count": 16,
     "metadata": {},
     "output_type": "execute_result"
    }
   ],
   "source": [
    "# Required parameters functions\n",
    "\n",
    "def add(num1:int, num2:int)->int:\n",
    "    sum = num1 + num2\n",
    "    return sum\n",
    "\n",
    "add(2,8)"
   ]
  },
  {
   "cell_type": "code",
   "execution_count": 18,
   "metadata": {},
   "outputs": [
    {
     "name": "stdout",
     "output_type": "stream",
     "text": [
      "7\n",
      "6\n"
     ]
    },
    {
     "data": {
      "text/plain": [
       "13"
      ]
     },
     "execution_count": 18,
     "metadata": {},
     "output_type": "execute_result"
    }
   ],
   "source": [
    "# key word arguments\n",
    "\n",
    "\n",
    "def add(num1:int, num2:int)->int:\n",
    "    print(num1)\n",
    "    print(num2)\n",
    "    sum = num1 + num2\n",
    "    return sum\n",
    "\n",
    "add(num2=6, num1= 7)"
   ]
  },
  {
   "cell_type": "code",
   "execution_count": 20,
   "metadata": {},
   "outputs": [
    {
     "name": "stdout",
     "output_type": "stream",
     "text": [
      "5\n",
      "3\n"
     ]
    },
    {
     "data": {
      "text/plain": [
       "8"
      ]
     },
     "execution_count": 20,
     "metadata": {},
     "output_type": "execute_result"
    }
   ],
   "source": [
    "# default parameters\n",
    "\n",
    "def add(num1:int, num2:int=3)->int:\n",
    "    print(num1)\n",
    "    print(num2)\n",
    "    sum = num1 + num2\n",
    "    return sum\n",
    "\n",
    "add(5)"
   ]
  },
  {
   "cell_type": "markdown",
   "metadata": {},
   "source": [
    "# Lambda Function(Anonymous function)\n",
    "* '''A lambda function in Python is a small, anonymous, and inline function that can have any number of arguments, but can only have one expression. Lambda functions are often used when you need a simple function for a short period of time and don't want to define a full-fledged function using the def keyword. Lambda functions are also sometimes referred to as \"anonymous functions\" or \"lambda expressions'''\n",
    "* '''Lambda functions are typically used with functions that accept other functions as arguments, such as map(), filter(), and sorted(). They are also commonly used in situations where you need to define a simple function on the fly.'''"
   ]
  },
  {
   "cell_type": "code",
   "execution_count": 23,
   "metadata": {},
   "outputs": [
    {
     "name": "stdout",
     "output_type": "stream",
     "text": [
      "17\n"
     ]
    }
   ],
   "source": [
    "# A lambda function that adds two numbers\n",
    "add = lambda x, y : x + y\n",
    "# result = add(7, 8)\n",
    "# print(result)\n",
    "print(add(9,8))"
   ]
  },
  {
   "cell_type": "code",
   "execution_count": 26,
   "metadata": {},
   "outputs": [
    {
     "name": "stdout",
     "output_type": "stream",
     "text": [
      "[1, 4, 9, 16, 25, 36]\n"
     ]
    }
   ],
   "source": [
    "# Using lambda with map to square each element in a list\n",
    "numbers : list[int] = [1,2,3,4,5,6]\n",
    "squared = list(map(lambda x : x**2, numbers))\n",
    "print(squared)"
   ]
  },
  {
   "cell_type": "code",
   "execution_count": 27,
   "metadata": {},
   "outputs": [
    {
     "name": "stdout",
     "output_type": "stream",
     "text": [
      "[2, 4, 6]\n"
     ]
    }
   ],
   "source": [
    "# Using lambda with filter to select even numbers from a list\n",
    "numbers : list[int] = [1,2,3,4,5,6]\n",
    "even_number = list(filter(lambda x : x % 2 ==0, numbers))\n",
    "print(even_number)\n"
   ]
  },
  {
   "cell_type": "code",
   "execution_count": 39,
   "metadata": {},
   "outputs": [
    {
     "name": "stdout",
     "output_type": "stream",
     "text": [
      "[(1, 4), (2, 1), (3, 2), (4, 3), (5, 6), (7, 6)]\n"
     ]
    }
   ],
   "source": [
    "# Using lambda to sort a list of tuples by the second element\n",
    "data:tuple[int] = [(3, 2), (1, 4), (2, 1), (4, 3),(5, 6),(7, 6)]\n",
    "sorted_data = sorted(data, key= lambda x:x[0] )\n",
    "print(sorted_data)"
   ]
  },
  {
   "cell_type": "code",
   "execution_count": 40,
   "metadata": {},
   "outputs": [
    {
     "name": "stdout",
     "output_type": "stream",
     "text": [
      "[1, 4, 9, 16, 25]\n"
     ]
    }
   ],
   "source": [
    "from typing import List\n",
    "\n",
    "# A lambda function with type hints\n",
    "add = lambda x: int(x) + 5  # This lambda function takes an integer and returns an integer\n",
    "\n",
    "numbers: List[int] = [1, 2, 3, 4, 5]\n",
    "squared = list(map(lambda x: x**2, numbers))\n",
    "\n",
    "print(squared)\n"
   ]
  },
  {
   "cell_type": "code",
   "execution_count": 42,
   "metadata": {},
   "outputs": [
    {
     "name": "stdout",
     "output_type": "stream",
     "text": [
      "7\n"
     ]
    }
   ],
   "source": [
    "from typing import Callable\n",
    "\n",
    "# Type hint for a lambda function that takes two integers and returns an integer\n",
    "add: Callable[[int, int], int] = lambda x, y: x + y\n",
    "\n",
    "result: int = add(3, 4)\n",
    "print(result)  # Output: 7\n"
   ]
  },
  {
   "cell_type": "code",
   "execution_count": 46,
   "metadata": {},
   "outputs": [
    {
     "name": "stdout",
     "output_type": "stream",
     "text": [
      "[2, 3, 4, 2, 4, 6, -2, -1, 0]\n"
     ]
    }
   ],
   "source": [
    "from typing import List, Callable\n",
    "\n",
    "# Type hint for a list of lambda functions that take an integer and return an integer\n",
    "lambda_functions: List[Callable[[int], int]] = [\n",
    "    lambda x: x + 1,\n",
    "    lambda x: x * 2,\n",
    "    lambda x: x - 3\n",
    "]\n",
    "\n",
    "values: List[int] = [1, 2, 3]\n",
    "\n",
    "results = [func(val) for func in lambda_functions for val in values]\n",
    "print(results)\n"
   ]
  },
  {
   "cell_type": "markdown",
   "metadata": {},
   "source": [
    "# Generator Function\n",
    "* iterate on element one by one\n",
    "* stop after each iteration\n",
    "* remember old iteration value (last iterate value)\n",
    "* next iterate\n",
    "* go farward from last iterate value"
   ]
  },
  {
   "cell_type": "code",
   "execution_count": 63,
   "metadata": {},
   "outputs": [
    {
     "name": "stdout",
     "output_type": "stream",
     "text": [
      "<generator object my_range at 0x000002C905BB3880>\n",
      "1\n",
      "2\n",
      "3\n",
      "4\n",
      "generator functions\n",
      "5\n",
      "6\n",
      "7\n",
      "8\n",
      "9\n",
      "10\n"
     ]
    }
   ],
   "source": [
    "def my_range(start:int, stop:int, step:int = 1):\n",
    "    for i in range(start, stop+1, step):\n",
    "        yield i # generator functions\n",
    "\n",
    "\n",
    "a = my_range(1, 10)\n",
    "\n",
    "print(a)\n",
    "print(next(a))\n",
    "print(next(a))\n",
    "print(next(a))\n",
    "print(next(a))\n",
    "print(\"generator functions\")\n",
    "print(next(a))\n",
    "print(next(a))\n",
    "print(next(a))\n",
    "print(next(a))\n",
    "print(next(a))\n",
    "print(next(a))"
   ]
  },
  {
   "cell_type": "code",
   "execution_count": 64,
   "metadata": {},
   "outputs": [
    {
     "name": "stdout",
     "output_type": "stream",
     "text": [
      "<generator object my_range at 0x000002C905BB35B0>\n",
      "1\n",
      "2\n",
      "3\n",
      "4\n",
      "generator functions\n",
      "5\n",
      "6\n",
      "7\n",
      "8\n",
      "9\n",
      "10\n"
     ]
    }
   ],
   "source": [
    "\n",
    "\n",
    "from collections.abc import Iterator\n",
    "\n",
    "\n",
    "def my_range(start:int, stop:int, step:int = 1)->Iterator[int]:\n",
    "    for i in range(start, stop+1, step):\n",
    "        yield i # generator functions\n",
    "\n",
    "\n",
    "a:Iterator[int] = my_range(1, 10)\n",
    "\n",
    "print(a)\n",
    "print(next(a))\n",
    "print(next(a))\n",
    "print(next(a))\n",
    "print(next(a))\n",
    "print(\"generator functions\")\n",
    "print(next(a))\n",
    "print(next(a))\n",
    "print(next(a))\n",
    "print(next(a))\n",
    "print(next(a))\n",
    "print(next(a))"
   ]
  },
  {
   "cell_type": "code",
   "execution_count": 65,
   "metadata": {},
   "outputs": [
    {
     "name": "stdout",
     "output_type": "stream",
     "text": [
      "{'key1': 'value1', 'key2': 42}\n",
      "{'key3': 'value3', 'key4': 3.14}\n"
     ]
    }
   ],
   "source": [
    "from collections.abc import Iterator\n",
    "\n",
    "# Define the type alias MyDictT\n",
    "MyDictT = dict[str, object]\n",
    "\n",
    "# Define the yield_func function\n",
    "def yield_func() -> Iterator[MyDictT]:\n",
    "    a: MyDictT = {'key1': 'value1', 'key2': 42}  # Example dictionary a\n",
    "    b: MyDictT = {'key3': 'value3', 'key4': 3.14}  # Example dictionary b\n",
    "    \n",
    "    yield a  # Yield the dictionary a\n",
    "    yield b  # Yield the dictionary b\n",
    "\n",
    "# Usage example\n",
    "for my_dict in yield_func():\n",
    "    print(my_dict)\n"
   ]
  },
  {
   "cell_type": "code",
   "execution_count": 78,
   "metadata": {},
   "outputs": [
    {
     "name": "stdout",
     "output_type": "stream",
     "text": [
      "Hello saram\n",
      "Hello saleem\n",
      "Hello ahmad\n"
     ]
    }
   ],
   "source": [
    "from typing import Tuple\n",
    "def my_fun(*names)-> None:\n",
    "    for name in names:\n",
    "        print(\"Hello\", name)\n",
    "\n",
    "my_fun(\"saram\", \"saleem\", \"ahmad\",)"
   ]
  },
  {
   "cell_type": "code",
   "execution_count": 81,
   "metadata": {},
   "outputs": [
    {
     "name": "stdout",
     "output_type": "stream",
     "text": [
      "8\n",
      "15\n"
     ]
    }
   ],
   "source": [
    "from typing import Callable\n",
    "\n",
    "def apply_operation(a: int, b: int, operation: Callable[[int, int], int]) -> int:\n",
    "    return operation(a, b)\n",
    "\n",
    "def add(x: int, y: int) -> int:\n",
    "    return x + y\n",
    "\n",
    "def multiply(x: int, y: int) -> int:\n",
    "    return x * y\n",
    "\n",
    "result1 = apply_operation(5, 3, add)       # Calls add function\n",
    "result2 = apply_operation(5, 3, multiply)  # Calls multiply function\n",
    "\n",
    "print(result1)  # Output: 8\n",
    "print(result2)  # Output: 15\n"
   ]
  },
  {
   "cell_type": "code",
   "execution_count": 48,
   "metadata": {},
   "outputs": [
    {
     "name": "stdout",
     "output_type": "stream",
     "text": [
      "Something is happening before the callback function\n",
      "Num1 is 400\n",
      "Something is happening after the callback function\n"
     ]
    }
   ],
   "source": [
    "from typing import Callable\n",
    "\n",
    "def my_fun(func:Callable[[int], int])->Callable[[int], int]:\n",
    "    def inner_func(num1:int)->None:\n",
    "        print(\"Something is happening before the callback function\")\n",
    "        func(num1)\n",
    "        print(\"Something is happening after the callback function\")\n",
    "    return inner_func\n",
    "\n",
    "@my_fun\n",
    "def add(num1:int)->int:\n",
    "    sum1 = num1 +100\n",
    "    print(f\"Num1 is {sum1}\")\n",
    "   \n",
    " \n",
    "add(300)"
   ]
  },
  {
   "cell_type": "code",
   "execution_count": 52,
   "metadata": {},
   "outputs": [
    {
     "name": "stdout",
     "output_type": "stream",
     "text": [
      "Something is happening before the callback function\n",
      "Num1 is 400\n",
      "Something is happening after the callback function\n",
      "Result is 400\n"
     ]
    }
   ],
   "source": [
    "from typing import Callable\n",
    "\n",
    "def my_fun(func: Callable[[int], int]) -> Callable[[int], int]:\n",
    "    def inner_func(num1: int) -> int:\n",
    "        print(\"Something is happening before the callback function\")\n",
    "        result = func(num1)\n",
    "        print(\"Something is happening after the callback function\")\n",
    "        return result  # Ensure that inner_func returns an int\n",
    "    return inner_func\n",
    "\n",
    "@my_fun\n",
    "def add(num1: int) -> int:\n",
    "    sum1 = num1 + 100\n",
    "    print(f\"Num1 is {sum1}\")\n",
    "    return sum1  # Ensure that add returns an int\n",
    "\n",
    "result = add(300) \n",
    "print(f\"Result is {result}\")\n"
   ]
  }
 ],
 "metadata": {
  "kernelspec": {
   "display_name": "python1",
   "language": "python",
   "name": "python3"
  },
  "language_info": {
   "codemirror_mode": {
    "name": "ipython",
    "version": 3
   },
   "file_extension": ".py",
   "mimetype": "text/x-python",
   "name": "python",
   "nbconvert_exporter": "python",
   "pygments_lexer": "ipython3",
   "version": "3.12.0"
  }
 },
 "nbformat": 4,
 "nbformat_minor": 2
}
