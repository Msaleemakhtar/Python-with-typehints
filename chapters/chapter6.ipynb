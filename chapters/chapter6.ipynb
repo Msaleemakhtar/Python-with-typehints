{
 "cells": [
  {
   "cell_type": "markdown",
   "metadata": {},
   "source": [
    "# Dictionary Data Types\n",
    "* key- value pairs\n",
    "* ordered\n",
    "* mutable\n",
    "* unindexed\n",
    "* duplicates not allowed\n",
    "* any data type"
   ]
  },
  {
   "cell_type": "code",
   "execution_count": 1,
   "metadata": {},
   "outputs": [],
   "source": [
    "data: list[str] = [\"saleem\", \"ahmad\"]"
   ]
  },
  {
   "cell_type": "code",
   "execution_count": 4,
   "metadata": {},
   "outputs": [
    {
     "data": {
      "text/plain": [
       "{'fname': 'salemm', 'name': 'akhtar', 'education': 'MA'}"
      ]
     },
     "metadata": {},
     "output_type": "display_data"
    },
    {
     "name": "stdout",
     "output_type": "stream",
     "text": [
      "{'education': 'MA', 'fname': 'salemm', 'name': 'akhtar'}\n"
     ]
    }
   ],
   "source": [
    "from typing import Dict,Union\n",
    "import pprint\n",
    "\n",
    "\n",
    "\n",
    "\n",
    "data: Dict[str, str] = {\n",
    "                            \"fname\": \"salemm\",\n",
    "                            \"name\" : \"akhtar\",\n",
    "                            \"education\": \"MA\"\n",
    "\n",
    "                        }\n",
    "data[\"fname\"]\n",
    "display(data)\n",
    "pprint.pprint(data)"
   ]
  },
  {
   "cell_type": "code",
   "execution_count": 9,
   "metadata": {},
   "outputs": [
    {
     "name": "stdout",
     "output_type": "stream",
     "text": [
      "salemm\n",
      "akhtar\n",
      "MA\n",
      "pakistan\n"
     ]
    }
   ],
   "source": [
    "from typing import Dict,Union\n",
    "import pprint # ppprint is a package\n",
    "\n",
    "\n",
    "Key =Union[int, str]\n",
    "Value =Union[int, str, list, tuple, dict]\n",
    "\n",
    "data: Dict[Key, Value] = {\n",
    "                            \"fname\": \"salemm\",\n",
    "                            \"name\" : \"akhtar\",\n",
    "                            \"education\": \"MA\",\n",
    "                            0: \"pakistan\"\n",
    "\n",
    "                        }\n",
    "\n",
    "\n",
    "print(data[\"fname\"])\n",
    "print(data[\"name\"])\n",
    "print(data[\"education\"])\n",
    "print(data[0])\n"
   ]
  },
  {
   "cell_type": "code",
   "execution_count": 8,
   "metadata": {},
   "outputs": [
    {
     "name": "stdout",
     "output_type": "stream",
     "text": [
      "salemm\n",
      "akhtar\n",
      "MA\n",
      "[1, 2, 3, 4]\n",
      "red\n"
     ]
    }
   ],
   "source": [
    "from typing import Dict,Union\n",
    "import pprint # ppprint is a package\n",
    "\n",
    "\n",
    "Key =Union[int, str]# key have hashable functions\n",
    "Value =Union[int, str, list, tuple, dict]# any type can be in value but not in key\n",
    "\n",
    "data: Dict[Key, Value] = {\n",
    "                            \"fname\": \"salemm\",\n",
    "                            \"name\" : \"akhtar\",\n",
    "                            \"education\": \"MA\",\n",
    "                            'pakistan':[1,2,3,4],\n",
    "                            'saleem' : (1,2,7,8,9),\n",
    "                            \"aslam\" :{\"salee\": \"akram\",\n",
    "                                      \"asggg\":\"dddddd\",\n",
    "                                      \"hen\" : \"red\"\n",
    "                                      \n",
    "                                      \n",
    "                                      }                       \n",
    "                        }\n",
    "\n",
    "\n",
    "print(data[\"fname\"])\n",
    "print(data[\"name\"])\n",
    "print(data[\"education\"])\n",
    "print(data[\"pakistan\"])\n"
   ]
  },
  {
   "cell_type": "code",
   "execution_count": 10,
   "metadata": {},
   "outputs": [
    {
     "name": "stdout",
     "output_type": "stream",
     "text": [
      "\n",
      "key: fname\n",
      "value : salemm\n",
      "\n",
      "key: name\n",
      "value : akhtar\n",
      "\n",
      "key: education\n",
      "value : MA\n",
      "\n",
      "key: pakistan\n",
      "value : [1, 2, 3, 4]\n",
      "\n",
      "key: saleem\n",
      "value : (1, 2, 7, 8, 9)\n",
      "\n",
      "key: aslam\n",
      "value : {'salee': 'akram', 'asggg': 'dddddd', 'hen': 'red'}\n"
     ]
    }
   ],
   "source": [
    "from typing import Dict,Union\n",
    "import pprint # ppprint is a package\n",
    "\n",
    "Key =Union[int, str]# key have hashable functions\n",
    "Value =Union[int, str, list, tuple, dict]# any type can be in value but not in key\n",
    "\n",
    "data: Dict[Key, Value] = {\n",
    "                            \"fname\": \"salemm\",\n",
    "                            \"name\" : \"akhtar\",\n",
    "                            \"education\": \"MA\",\n",
    "                            'pakistan':[1,2,3,4],\n",
    "                            'saleem' : (1,2,7,8,9),\n",
    "                            \"aslam\" :{\"salee\": \"akram\",\n",
    "                                      \"asggg\":\"dddddd\",\n",
    "                                      \"hen\" : \"red\"\n",
    "                                      \n",
    "                                      \n",
    "                                      }                       \n",
    "                        }\n",
    "for k, v in data.items():\n",
    "    print(f\"\\nkey: {k}\")\n",
    "    print(f\"value : {v}\")"
   ]
  },
  {
   "cell_type": "code",
   "execution_count": 13,
   "metadata": {},
   "outputs": [
    {
     "name": "stdout",
     "output_type": "stream",
     "text": [
      " salemm\n",
      " akhtar\n",
      " MA\n",
      " [1, 2, 3, 4]\n",
      " (1, 2, 7, 8, 9)\n",
      " {'salee': 'akram', 'asggg': 'dddddd', 'hen': 'red'}\n"
     ]
    }
   ],
   "source": [
    "from typing import Dict,Union\n",
    "import pprint # ppprint is a package\n",
    "\n",
    "Key =Union[int, str]# key have hashable functions\n",
    "Value =Union[int, str, list, tuple, dict]# any type can be in value but not in key\n",
    "\n",
    "data: Dict[Key, Value] = {\n",
    "                            \"fname\": \"salemm\",\n",
    "                            \"name\" : \"akhtar\",\n",
    "                            \"education\": \"MA\",\n",
    "                            'pakistan':[1,2,3,4],\n",
    "                            'saleem' : (1,2,7,8,9),\n",
    "                            \"aslam\" :{\"salee\": \"akram\",\n",
    "                                      \"asggg\":\"dddddd\",\n",
    "                                      \"hen\" : \"red\"\n",
    "                                      \n",
    "                                      \n",
    "                                      }                       \n",
    "                        }\n",
    "for k in data.values():\n",
    "    print(f\" {k}\")\n",
    " "
   ]
  },
  {
   "cell_type": "code",
   "execution_count": 25,
   "metadata": {},
   "outputs": [
    {
     "name": "stdout",
     "output_type": "stream",
     "text": [
      "Hi Jen.\n",
      "Hi Sarah.\n",
      "\tSarah, I see you love C!\n",
      "Hi Edward.\n",
      "Hi Phil.\n",
      "\tPhil, I see you love Python!\n"
     ]
    }
   ],
   "source": [
    "favorite_languages:dict[str, str] = {\n",
    " 'jen': 'python',\n",
    " 'sarah': 'c',\n",
    " 'edward': 'rust',\n",
    " 'phil': 'python',\n",
    " }\n",
    "friends:list[str] = ['phil', 'sarah']\n",
    "friends:list[str] = ['phil', 'sarah']\n",
    "for name in favorite_languages.keys():\n",
    "    print(f\"Hi {name.title()}.\")\n",
    "    if name in friends:\n",
    "        language = favorite_languages[name].title()\n",
    "       \n",
    "        print(f\"\\t{name.title()}, I see you love {language}!\")"
   ]
  },
  {
   "cell_type": "code",
   "execution_count": 29,
   "metadata": {},
   "outputs": [
    {
     "name": "stdout",
     "output_type": "stream",
     "text": [
      "\n",
      "Jen's favorite languages are:['python', 'rust']\n",
      "\tPython\n",
      "\tRust\n",
      "\n",
      "Sarah's favorite languages are:['c']\n",
      "\tC\n",
      "\n",
      "Edward's favorite languages are:['rust', 'go']\n",
      "\tRust\n",
      "\tGo\n",
      "\n",
      "Phil's favorite languages are:['python', 'haskell']\n",
      "\tPython\n",
      "\tHaskell\n"
     ]
    }
   ],
   "source": [
    "favorite_languages = {\n",
    " 'jen': ['python', 'rust'],\n",
    " 'sarah': ['c'],\n",
    " 'edward': ['rust', 'go'],\n",
    " 'phil': ['python', 'haskell'],\n",
    " }\n",
    "for name, languages in favorite_languages.items():\n",
    "    print(f\"\\n{name.title()}'s favorite languages are:{languages}\")\n",
    "    for language in languages:\n",
    "        print(f\"\\t{language.title()}\")"
   ]
  }
 ],
 "metadata": {
  "kernelspec": {
   "display_name": "python1",
   "language": "python",
   "name": "python3"
  },
  "language_info": {
   "codemirror_mode": {
    "name": "ipython",
    "version": 3
   },
   "file_extension": ".py",
   "mimetype": "text/x-python",
   "name": "python",
   "nbconvert_exporter": "python",
   "pygments_lexer": "ipython3",
   "version": "3.12.0"
  }
 },
 "nbformat": 4,
 "nbformat_minor": 2
}
