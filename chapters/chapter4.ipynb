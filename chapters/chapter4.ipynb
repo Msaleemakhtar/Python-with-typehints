{
 "cells": [
  {
   "cell_type": "markdown",
   "metadata": {},
   "source": [
    "# WORKING WITH LISTS"
   ]
  },
  {
   "cell_type": "code",
   "execution_count": 9,
   "metadata": {},
   "outputs": [
    {
     "name": "stdout",
     "output_type": "stream",
     "text": [
      "['honda', 'suzuki', 'yamaha', 'united', 'metro']\n",
      "Honda is my favourite motocycle.\n",
      "\n",
      "Suzuki is my favourite motocycle.\n",
      "\n",
      "Yamaha is my favourite motocycle.\n",
      "\n",
      "United is my favourite motocycle.\n",
      "\n",
      "Metro is my favourite motocycle.\n",
      "\n"
     ]
    }
   ],
   "source": [
    "# for loop used to map all the items in the list\n",
    "\n",
    "motorcycles: list[str] = [\"honda\", \"suzuki\", \"yamaha\", \"united\", \"metro\"]\n",
    "print(motorcycles)\n",
    "for motorcycle in motorcycles:\n",
    "    print(f\"{motorcycle.title()} is my favourite motocycle.\\n\")"
   ]
  },
  {
   "cell_type": "code",
   "execution_count": 8,
   "metadata": {},
   "outputs": [
    {
     "name": "stdout",
     "output_type": "stream",
     "text": [
      "['honda', 'suzuki', 'yamaha', 'united', 'metro']\n",
      "Honda is my favourite motocycle\n",
      "I can't wait to see your next trick, Honda.\n",
      "\n",
      "Suzuki is my favourite motocycle\n",
      "I can't wait to see your next trick, Suzuki.\n",
      "\n",
      "Yamaha is my favourite motocycle\n",
      "I can't wait to see your next trick, Yamaha.\n",
      "\n",
      "United is my favourite motocycle\n",
      "I can't wait to see your next trick, United.\n",
      "\n",
      "Metro is my favourite motocycle\n",
      "I can't wait to see your next trick, Metro.\n",
      "\n"
     ]
    }
   ],
   "source": [
    "\n",
    "motorcycles: list[str] = [\"honda\", \"suzuki\", \"yamaha\", \"united\", \"metro\"]\n",
    "print(motorcycles)\n",
    "for motorcycle in motorcycles:\n",
    "    print(f\"{motorcycle.title()} is my favourite motocycle\")\n",
    "    print(f\"I can't wait to see your next trick, {motorcycle.title()}.\\n\")"
   ]
  },
  {
   "cell_type": "code",
   "execution_count": 4,
   "metadata": {},
   "outputs": [
    {
     "name": "stdout",
     "output_type": "stream",
     "text": [
      "['a', 'b', 'c', 'd', 'e', 'f', 'h', 'i', 'l', 'k', 'x', 'r', 'u', 'o', 'p', 'd', 'j']\n",
      "a\n"
     ]
    }
   ],
   "source": [
    "\n",
    "motorcycles: list[str] = list(\"abcdefhilkxruopdj\")\n",
    "print(motorcycles)\n",
    "print(motorcycles[0])"
   ]
  },
  {
   "cell_type": "code",
   "execution_count": 14,
   "metadata": {},
   "outputs": [
    {
     "name": "stdout",
     "output_type": "stream",
     "text": [
      "['honda', 'suzuki', 'yamaha', 'united', 'metro']\n",
      "Honda is my favourite motocycle.\n",
      "\n",
      "Suzuki is my favourite motocycle.\n",
      "\n",
      "Yamaha is my favourite motocycle.\n",
      "\n",
      "United is my favourite motocycle.\n",
      "\n",
      "Metro is my favourite motocycle.\n",
      "\n",
      "I can't wait to see your next trick.\n",
      "'working with people'\n"
     ]
    }
   ],
   "source": [
    "\n",
    "\n",
    "motorcycles: list[str] = [\"honda\", \"suzuki\", \"yamaha\", \"united\", \"metro\"]\n",
    "print(motorcycles)\n",
    "for motorcycle in motorcycles:\n",
    "    print(f\"{motorcycle.title()} is my favourite motocycle.\\n\")\n",
    "print(\"I can't wait to see your next trick.\\n'working with people'\")"
   ]
  },
  {
   "cell_type": "code",
   "execution_count": 21,
   "metadata": {},
   "outputs": [
    {
     "name": "stdout",
     "output_type": "stream",
     "text": [
      "Alice, that was a great trick!\n",
      "David, that was a great trick!\n",
      "Carolina, that was a great trick!\n",
      "I can't wait to see your next trick, Carolina.\n",
      "\n"
     ]
    }
   ],
   "source": [
    "magicians = ['alice', 'david', 'carolina']\n",
    "for magician in magicians:\n",
    "    print(f\"{magician.title()}, that was a great trick!\")\n",
    "print(f\"I can't wait to see your next trick, {magician.title()}.\\n\")"
   ]
  },
  {
   "cell_type": "markdown",
   "metadata": {},
   "source": [
    "# range function"
   ]
  },
  {
   "cell_type": "code",
   "execution_count": 24,
   "metadata": {},
   "outputs": [
    {
     "name": "stdout",
     "output_type": "stream",
     "text": [
      "[0, 1, 2, 3, 4, 5]\n"
     ]
    }
   ],
   "source": [
    "number = range(6)\n",
    "print(list(number))"
   ]
  },
  {
   "cell_type": "code",
   "execution_count": 27,
   "metadata": {},
   "outputs": [
    {
     "name": "stdout",
     "output_type": "stream",
     "text": [
      "[1, 2, 3, 4, 5]\n"
     ]
    }
   ],
   "source": [
    "number = list(range(1, 6))\n",
    "print(number)"
   ]
  },
  {
   "cell_type": "code",
   "execution_count": 28,
   "metadata": {},
   "outputs": [
    {
     "name": "stdout",
     "output_type": "stream",
     "text": [
      "[1, 4, 9, 16, 25, 36, 49, 64, 81, 100]\n"
     ]
    }
   ],
   "source": [
    "squares: list[int] = []\n",
    "for value in range(1, 11):\n",
    "    square = value**2\n",
    "    squares.append(square)\n",
    "print(squares)"
   ]
  },
  {
   "cell_type": "markdown",
   "metadata": {},
   "source": [
    "# list comprehension"
   ]
  },
  {
   "cell_type": "code",
   "execution_count": 30,
   "metadata": {},
   "outputs": [
    {
     "name": "stdout",
     "output_type": "stream",
     "text": [
      "[1, 4, 9, 16, 25, 36, 49, 64, 81, 100]\n"
     ]
    }
   ],
   "source": [
    "# list comprehension\n",
    "# list comprehension is used to write the code in one line, it combines the for loop and new value creation and also append\n",
    "squares: list[int] = [value**2 for value in range(1, 11)]\n",
    "print(squares)"
   ]
  },
  {
   "cell_type": "markdown",
   "metadata": {},
   "source": [
    "# Slicing a List"
   ]
  },
  {
   "cell_type": "code",
   "execution_count": 43,
   "metadata": {},
   "outputs": [
    {
     "name": "stdout",
     "output_type": "stream",
     "text": [
      "[1, 4, 9]\n",
      "[16, 25, 36, 49, 64, 81, 100]\n",
      "[1, 4, 9]\n",
      "[1, 4, 9]\n",
      "[1, 4, 9]\n",
      "[1, 4, 9]\n",
      "[100, 81, 64, 49, 36, 25]\n"
     ]
    }
   ],
   "source": [
    "#   indexing =       0  1   2   3   4   5   6   7   8   9\n",
    "squares: list[int] = [1, 4,  9, 16, 25, 36, 49, 64, 81, 100]\n",
    "# negative-index    -10 -9 -8  -7  -6  -5  -4  -3  -2   -1\n",
    "\n",
    "# If you omit the first index in a slice, Python automatically starts your slice at the beginning of the list\n",
    "print(squares[:3])\n",
    "print(squares[3:])  # all items from the third item through the last item\n",
    "print(squares[0:3])  # Operation always performed from left to right\n",
    "\n",
    "# it will print index from 0 to 2 due to one-off-one behaviour in python\n",
    "print(squares[-10:-7])\n",
    "# it will print index from 0 to 2 due to one-off-one behaviour\n",
    "print(squares[-10:3])\n",
    "print(squares[0:-7])\n",
    "# when step is set to -1 it will print from right to left;\n",
    "print(squares[-1:-7:-1])"
   ]
  },
  {
   "cell_type": "markdown",
   "metadata": {},
   "source": [
    "# Looping Through a Slice"
   ]
  },
  {
   "cell_type": "code",
   "execution_count": 50,
   "metadata": {},
   "outputs": [
    {
     "name": "stdout",
     "output_type": "stream",
     "text": [
      "Here are the first three elements of players:\n",
      "charles\n",
      "martina\n",
      "michael\n"
     ]
    }
   ],
   "source": [
    "players = ['charles', 'martina', 'michael', 'florence', 'eli']\n",
    "print(\"Here are the first three elements of players:\")\n",
    "for player in players[:3]:\n",
    "    print(player)"
   ]
  },
  {
   "cell_type": "code",
   "execution_count": 51,
   "metadata": {},
   "outputs": [
    {
     "name": "stdout",
     "output_type": "stream",
     "text": [
      "['charles', 'martina', 'michael', 'florence', 'eli', 'saleem']\n",
      "['charles', 'martina', 'michael', 'florence', 'eli', 'abdullah']\n"
     ]
    }
   ],
   "source": [
    "players = ['charles', 'martina', 'michael', 'florence', 'eli']\n",
    "\n",
    "player2 = players[:]\n",
    "\n",
    "players.append(\"saleem\")\n",
    "player2.append(\"abdullah\")\n",
    "print(players)\n",
    "print(player2)"
   ]
  },
  {
   "cell_type": "code",
   "execution_count": 56,
   "metadata": {},
   "outputs": [
    {
     "name": "stdout",
     "output_type": "stream",
     "text": [
      "['charles', 'martina', 'michael', 'florence', 'eli', 'saleem']\n",
      "['charles', 'martina', 'michael', 'florence', 'eli']\n"
     ]
    }
   ],
   "source": [
    "players = ['charles', 'martina', 'michael', 'florence', 'eli']\n",
    "\n",
    "player2 = players[:]\n",
    "\n",
    "players.append(\"saleem\")\n",
    "# player2.append(\"abdullah\")\n",
    "print(players)\n",
    "print(player2)"
   ]
  },
  {
   "cell_type": "code",
   "execution_count": 59,
   "metadata": {},
   "outputs": [
    {
     "name": "stdout",
     "output_type": "stream",
     "text": [
      "['charles', 'martina', 'michael', 'florence', 'eli', 'saleem']\n",
      "['charles', 'martina', 'michael', 'florence', 'eli', 'abdullah']\n"
     ]
    }
   ],
   "source": [
    "players = ['charles', 'martina', 'michael', 'florence', 'eli']\n",
    "\n",
    "player2 = players.copy()  # deep copy\n",
    "\n",
    "players.append(\"saleem\")\n",
    "player2.append(\"abdullah\")\n",
    "print(players)\n",
    "print(player2)"
   ]
  },
  {
   "cell_type": "code",
   "execution_count": 19,
   "metadata": {},
   "outputs": [
    {
     "name": "stdout",
     "output_type": "stream",
     "text": [
      "user is in the list\n"
     ]
    }
   ],
   "source": [
    "\n",
    "\n",
    "\n",
    "data_base : list[tuple[str, str]] = [(\"saleem\", \"123\"),\n",
    "                                     (\"saram\", \"345\"),\n",
    "                                     (\"nadeem\", \"321\")\n",
    "                                     ]\n",
    "user_input: str = input(\"enter your input\")\n",
    "user_password:str = input(\"Enter your password\")\n",
    "for row in data_base:\n",
    "    user, password = row\n",
    "    if  user_input == user and user_password  == password:\n",
    "        print(\"user is in the list\")\n",
    "        break\n",
    "    else:\n",
    "        print(\"not found\") \n",
    "        break   \n",
    "\n"
   ]
  },
  {
   "cell_type": "code",
   "execution_count": 21,
   "metadata": {},
   "outputs": [
    {
     "name": "stdout",
     "output_type": "stream",
     "text": [
      "not found\n"
     ]
    }
   ],
   "source": [
    "\n",
    "\n",
    "data_base : list[tuple[str, str]] = [(\"saleem\", \"123\"),\n",
    "                                     (\"saram\", \"345\"),\n",
    "                                     (\"nadeem\", \"321\")\n",
    "                                     ]\n",
    "user_input: str = input(\"enter your input\")\n",
    "user_password:str = input(\"Enter your password\")\n",
    "for row in data_base:\n",
    "    user, password = row\n",
    "    if  user_input == user and user_password  == password:\n",
    "        print(\"user is in the list\")\n",
    "        break\n",
    "else:\n",
    "    print(\"not found\") \n",
    "         \n"
   ]
  },
  {
   "cell_type": "code",
   "execution_count": 25,
   "metadata": {},
   "outputs": [
    {
     "data": {
      "text/plain": [
       "<enumerate at 0x24c3f91e4d0>"
      ]
     },
     "execution_count": 25,
     "metadata": {},
     "output_type": "execute_result"
    }
   ],
   "source": [
    "#enumerate is generator function\n",
    "players = ['charles', 'martina', 'michael', 'florence', 'eli']\n",
    "enumerate(players)"
   ]
  },
  {
   "cell_type": "code",
   "execution_count": 22,
   "metadata": {},
   "outputs": [
    {
     "data": {
      "text/plain": [
       "[(0, 'charles'), (1, 'martina'), (2, 'michael'), (3, 'florence'), (4, 'eli')]"
      ]
     },
     "execution_count": 22,
     "metadata": {},
     "output_type": "execute_result"
    }
   ],
   "source": [
    "players = ['charles', 'martina', 'michael', 'florence', 'eli']\n",
    "\n",
    "\n",
    "list(enumerate(players))"
   ]
  },
  {
   "cell_type": "code",
   "execution_count": 24,
   "metadata": {},
   "outputs": [
    {
     "name": "stdout",
     "output_type": "stream",
     "text": [
      "0 charles\n",
      "1 martina\n",
      "2 michael\n",
      "3 florence\n",
      "4 eli\n"
     ]
    }
   ],
   "source": [
    "players = ['charles', 'martina', 'michael', 'florence', 'eli']\n",
    "enumerate(players)\n",
    "\n",
    "for index, name in enumerate(players):\n",
    "    print(index, name)"
   ]
  },
  {
   "cell_type": "code",
   "execution_count": 27,
   "metadata": {},
   "outputs": [
    {
     "name": "stdout",
     "output_type": "stream",
     "text": [
      "3 X 1 = 3\n",
      "3 X 2 = 6\n",
      "3 X 3 = 9\n",
      "3 X 4 = 12\n",
      "3 X 5 = 15\n",
      "3 X 6 = 18\n",
      "3 X 7 = 21\n",
      "3 X 8 = 24\n",
      "3 X 9 = 27\n",
      "3 X 10 = 30\n"
     ]
    }
   ],
   "source": [
    "for n in range(1,11):\n",
    "    print(f\"{3} X {n} = {n*3}\")"
   ]
  },
  {
   "cell_type": "code",
   "execution_count": 28,
   "metadata": {},
   "outputs": [
    {
     "name": "stdout",
     "output_type": "stream",
     "text": [
      "6 X 1 = 6\n",
      "6 X 2 = 12\n",
      "6 X 3 = 18\n",
      "6 X 4 = 24\n",
      "6 X 5 = 30\n",
      "6 X 6 = 36\n",
      "6 X 7 = 42\n",
      "6 X 8 = 48\n",
      "6 X 9 = 54\n",
      "6 X 10 = 60\n"
     ]
    }
   ],
   "source": [
    "num : int = int(input(\"enter num\"))\n",
    "for n in range(1,11):\n",
    "    print(f\"{num} X {n} = {n*num}\")"
   ]
  },
  {
   "cell_type": "code",
   "execution_count": 31,
   "metadata": {},
   "outputs": [
    {
     "name": "stdout",
     "output_type": "stream",
     "text": [
      "('charles', 'martina', 'michael', 'florence', 'eli')\n"
     ]
    }
   ],
   "source": [
    "players = ['charles', 'martina', 'michael', 'florence', 'eli']\n",
    "player22 = tuple(players)\n",
    "print(player22)"
   ]
  },
  {
   "cell_type": "markdown",
   "metadata": {},
   "source": [
    "# sets data types\n",
    "* unordered\n",
    "* immutable\n",
    "* unindexed\n",
    "* duplicates not allowed\n",
    "* Mix of  data types \n",
    "* any data type"
   ]
  },
  {
   "cell_type": "code",
   "execution_count": 33,
   "metadata": {},
   "outputs": [
    {
     "name": "stdout",
     "output_type": "stream",
     "text": [
      "{'saleem', 123, True}\n"
     ]
    }
   ],
   "source": [
    "# access thr value from set\n",
    "data_list = {\"saleem\", True, 123}\n",
    "print(data_list)"
   ]
  },
  {
   "cell_type": "code",
   "execution_count": 34,
   "metadata": {},
   "outputs": [
    {
     "name": "stdout",
     "output_type": "stream",
     "text": [
      "d\n",
      "c\n",
      "b\n",
      "a\n"
     ]
    }
   ],
   "source": [
    "# access thr value from set\n",
    "\n",
    "list_1 = {\"a\", \"b\", \"c\", \"d\"}\n",
    "for x in list_1:\n",
    "    print(x)"
   ]
  },
  {
   "cell_type": "code",
   "execution_count": 36,
   "metadata": {},
   "outputs": [
    {
     "name": "stdout",
     "output_type": "stream",
     "text": [
      "{'d', 'c', 'b', 'a'}\n",
      "{'e', 'b', 'a', 'd', 'c'}\n"
     ]
    }
   ],
   "source": [
    "# add the value in setmby using add()function\n",
    "list_1 = {\"a\", \"b\", \"c\", \"d\"}\n",
    "print(list_1)\n",
    "list_1.add(\"e\")\n",
    "print(list_1)"
   ]
  },
  {
   "cell_type": "code",
   "execution_count": 40,
   "metadata": {},
   "outputs": [
    {
     "name": "stdout",
     "output_type": "stream",
     "text": [
      "{'d', 'c', 'b', 'a'}\n",
      "{'c', 'b', 'a'}\n"
     ]
    }
   ],
   "source": [
    "# remove the value in setmby using remove()function\n",
    "list_1 = {\"a\", \"b\", \"c\", \"d\"}\n",
    "print(list_1)\n",
    "list_1.remove(\"d\")\n",
    "print(list_1)"
   ]
  },
  {
   "cell_type": "code",
   "execution_count": 38,
   "metadata": {},
   "outputs": [
    {
     "name": "stdout",
     "output_type": "stream",
     "text": [
      "{'d', 'c', 'b', 'a'}\n",
      "{'q', '0', 'p', 'n'}\n",
      "{'q', '0', 'p', 'n', 'b', 'a', 'd', 'c'}\n"
     ]
    }
   ],
   "source": [
    "# update the value in set by using update()function\n",
    "list_1 = {\"a\", \"b\", \"c\", \"d\"}\n",
    "list_2 = {\"n\", \"0\", \"p\", \"q\"}\n",
    "print(list_1)\n",
    "print(list_2)\n",
    "list_1.update(list_2)\n",
    "print(list_1)"
   ]
  },
  {
   "cell_type": "code",
   "execution_count": 39,
   "metadata": {},
   "outputs": [
    {
     "name": "stdout",
     "output_type": "stream",
     "text": [
      "{'d', 'c', 'b', 'a'}\n",
      "{'q', '0', 'p', 'n'}\n",
      "{'q', '0', 'p', 'n', 'b', 'a', 'd', 'c'}\n"
     ]
    }
   ],
   "source": [
    "# joing two lists by using union()function\n",
    "list_1 = {\"a\", \"b\", \"c\", \"d\"}\n",
    "list_2 = {\"n\", \"0\", \"p\", \"q\"}\n",
    "print(list_1)\n",
    "print(list_2)\n",
    "list_3 = list_1.union(list_2)\n",
    "print(list_3)"
   ]
  },
  {
   "cell_type": "code",
   "execution_count": 43,
   "metadata": {},
   "outputs": [
    {
     "name": "stdout",
     "output_type": "stream",
     "text": [
      "{'q', 'c', 'b', 'a'}\n",
      "{'q', '0', 'n', 'a'}\n",
      "{'q', 'a'}\n"
     ]
    }
   ],
   "source": [
    "# keep only duplicate whie joining\n",
    "list_1 = {\"a\", \"b\", \"c\", \"q\"}\n",
    "list_2 = {\"n\", \"0\", \"a\", \"q\"}\n",
    "print(list_1)\n",
    "print(list_2)\n",
    "list_1.intersection_update(list_2)\n",
    "print(list_1)"
   ]
  },
  {
   "cell_type": "code",
   "execution_count": 44,
   "metadata": {},
   "outputs": [
    {
     "name": "stdout",
     "output_type": "stream",
     "text": [
      "{'q', 'c', 'b', 'a'}\n",
      "{'q', '0', 'n', 'a'}\n",
      "{'0', 'n', 'b', 'c'}\n"
     ]
    }
   ],
   "source": [
    "# keep all value except duplicate whie joining\n",
    "list_1 = {\"a\", \"b\", \"c\", \"q\"}\n",
    "list_2 = {\"n\", \"0\", \"a\", \"q\"}\n",
    "print(list_1)\n",
    "print(list_2)\n",
    "list_1.symmetric_difference_update(list_2)\n",
    "print(list_1)"
   ]
  },
  {
   "cell_type": "markdown",
   "metadata": {},
   "source": [
    "# Dictionary Data Types\n",
    "* key- value pairs\n",
    "* ordered\n",
    "* mutable\n",
    "* unindexed\n",
    "* duplicates not allowed\n",
    "* any data type\n"
   ]
  }
 ],
 "metadata": {
  "kernelspec": {
   "display_name": "python1",
   "language": "python",
   "name": "python3"
  },
  "language_info": {
   "codemirror_mode": {
    "name": "ipython",
    "version": 3
   },
   "file_extension": ".py",
   "mimetype": "text/x-python",
   "name": "python",
   "nbconvert_exporter": "python",
   "pygments_lexer": "ipython3",
   "version": "3.12.0"
  }
 },
 "nbformat": 4,
 "nbformat_minor": 2
}
