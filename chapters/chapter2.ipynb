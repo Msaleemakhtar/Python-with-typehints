{
 "cells": [
  {
   "cell_type": "code",
   "execution_count": 1,
   "metadata": {},
   "outputs": [
    {
     "data": {
      "text/plain": [
       "'hello world'"
      ]
     },
     "metadata": {},
     "output_type": "display_data"
    }
   ],
   "source": [
    "display(\"hello world\")"
   ]
  },
  {
   "cell_type": "code",
   "execution_count": null,
   "metadata": {},
   "outputs": [],
   "source": []
  },
  {
   "cell_type": "markdown",
   "metadata": {},
   "source": [
    "# String Data type in python"
   ]
  },
  {
   "cell_type": "code",
   "execution_count": 3,
   "metadata": {},
   "outputs": [
    {
     "name": "stdout",
     "output_type": "stream",
     "text": [
      "18\n"
     ]
    }
   ],
   "source": [
    "#  \"\\\"  line continue, in execution backslash will be ignored and execute like(2 + 8 + 9)\n",
    "print(2 +\\\n",
    "       7 +\\\n",
    "        9)"
   ]
  },
  {
   "cell_type": "code",
   "execution_count": 15,
   "metadata": {},
   "outputs": [
    {
     "name": "stdout",
     "output_type": "stream",
     "text": [
      "PIAIC Students Card\n",
      "Student Name: Saleem\n",
      "fname: Ghulam\n",
      "Age : 41\n",
      "Education : Masters in Computer science\n"
     ]
    }
   ],
   "source": [
    "# Boundaries\n",
    "# 'string text', \"string text\", '''string text''', \"\"\" string text\"\"\"\n",
    "name:str = \"Saleem\"\n",
    "fname:str = \"Ghulam\"\n",
    "age:int = 41\n",
    "education:str = \"Masters in Computer science\"\n",
    "\n",
    "card:str = \"PIAIC Students Card\\nStudent Name: \" + name +\\\n",
    "\"\\nfname: \" + fname +\\\n",
    "\"\\nAge : \" + str(age) + \"\\n\" +\\\n",
    "\"Education : \" + education\n",
    "\n",
    "print(card)"
   ]
  },
  {
   "cell_type": "code",
   "execution_count": 1,
   "metadata": {},
   "outputs": [
    {
     "name": "stdout",
     "output_type": "stream",
     "text": [
      "\n",
      "PIAIC Students Card\n",
      "Student Name:------- \n",
      "fname: --------\n",
      "Age : ---------\n",
      "Education : -------\n",
      "\n"
     ]
    }
   ],
   "source": [
    "# Boundaries\n",
    "# 'string text', \"string text\", '''string text''', \"\"\" string text\"\"\"\n",
    "name:str = \"Saleem\"\n",
    "fname:str = \"Ghulam\"\n",
    "age:int = 41\n",
    "education:str = \"Masters in Computer science\"\n",
    "\n",
    "card:str = \"\"\"\n",
    "PIAIC Students Card\n",
    "Student Name:------- \n",
    "fname: --------\n",
    "Age : ---------\n",
    "Education : -------\n",
    "\"\"\"\n",
    "\n",
    "print(card)"
   ]
  },
  {
   "cell_type": "code",
   "execution_count": 17,
   "metadata": {},
   "outputs": [
    {
     "name": "stdout",
     "output_type": "stream",
     "text": [
      "\n",
      "PIAIC Students Card\n",
      "Student Name:------- \n",
      "fname: --------\n",
      "Age : ---------\n",
      "\"Education : -------\n",
      "\n"
     ]
    }
   ],
   "source": [
    "# Boundaries\n",
    "# 'string text', \"string text\", '''string text''', \"\"\" string text\"\"\"\n",
    "name:str = \"Saleem\"\n",
    "fname:str = \"Ghulam\"\n",
    "age:int = 41\n",
    "education:str = \"Masters in Computer science\"\n",
    "\n",
    "card:str = '''\n",
    "PIAIC Students Card\n",
    "Student Name:------- \n",
    "fname: --------\n",
    "Age : ---------\n",
    "\"Education : -------\n",
    "'''\n",
    "\n",
    "print(card)"
   ]
  },
  {
   "cell_type": "markdown",
   "metadata": {},
   "source": [
    "# f-string"
   ]
  },
  {
   "cell_type": "code",
   "execution_count": 19,
   "metadata": {},
   "outputs": [
    {
     "name": "stdout",
     "output_type": "stream",
     "text": [
      "\n",
      "PIAIC Students Card\n",
      "Student Name: Saleem\n",
      "fname: Ghulam\n",
      "Age : 41\n",
      "Education : Masters in Computer science\n",
      "\n"
     ]
    }
   ],
   "source": [
    "# Boundaries\n",
    "# 'string text', \"string text\", '''string text''', \"\"\" string text\"\"\"\n",
    "name:str = \"Saleem\"\n",
    "fname:str = \"Ghulam\"\n",
    "age:int = 41\n",
    "education:str = \"Masters in Computer science\"\n",
    "\n",
    "card:str = f\"\"\"\n",
    "PIAIC Students Card\n",
    "Student Name: {name}\n",
    "fname: {fname}\n",
    "Age : {age}\n",
    "Education : {education}\n",
    "\"\"\"\n",
    "\n",
    "print(card)"
   ]
  },
  {
   "cell_type": "code",
   "execution_count": 21,
   "metadata": {},
   "outputs": [
    {
     "name": "stdout",
     "output_type": "stream",
     "text": [
      "\n",
      "PIAIC Students Card\n",
      "Student Name: Saleem\n",
      "fname: Ghulam\n",
      "Age : 41\n",
      "Education : Masters in Computer science\n",
      "\n",
      "Total = 22\n",
      "\n",
      "\n"
     ]
    }
   ],
   "source": [
    "# Boundaries\n",
    "# 'string text', \"string text\", '''string text''', \"\"\" string text\"\"\"\n",
    "name:str = \"Saleem\"\n",
    "fname:str = \"Ghulam\"\n",
    "age:int = 41\n",
    "education:str = \"Masters in Computer science\"\n",
    "\n",
    "card:str = f'''\n",
    "PIAIC Students Card\n",
    "Student Name: {name}\n",
    "fname: {fname}\n",
    "Age : {age}\n",
    "Education : {education}\n",
    "\n",
    "Total = {5 + 8 +9}\n",
    "\n",
    "'''\n",
    "\n",
    "print(card)"
   ]
  },
  {
   "cell_type": "code",
   "execution_count": 25,
   "metadata": {},
   "outputs": [
    {
     "name": "stdout",
     "output_type": "stream",
     "text": [
      "\n",
      "PIAIC Students Card\n",
      "Student Name: Saleem\n",
      "fname: Ghulam\n",
      "Age : 41\n",
      "Education : Masters in Computer science\n",
      "\n"
     ]
    }
   ],
   "source": [
    "name:str = \"Saleem\"\n",
    "fname:str = \"Ghulam\"\n",
    "age:int = 41\n",
    "education:str = \"Masters in Computer science\"\n",
    "\n",
    "card:str = f'''\n",
    "PIAIC Students Card\n",
    "Student Name: %s\n",
    "fname: %s\n",
    "Age : %d\n",
    "Education : %s\n",
    "''' %(name, fname, age, education)\n",
    "\n",
    "print(card)"
   ]
  },
  {
   "cell_type": "code",
   "execution_count": 28,
   "metadata": {},
   "outputs": [
    {
     "name": "stdout",
     "output_type": "stream",
     "text": [
      "\n",
      "PIAIC Students Card\n",
      "Student Name:Saleem\n",
      "fname: Ghulam Muhammad\n",
      "Age : 41\n",
      "Education : Masters in Computer science\n",
      "\n"
     ]
    }
   ],
   "source": [
    "name:str = \"Saleem\"\n",
    "fname:str = \"Ghulam Muhammad\"\n",
    "age:int = 41\n",
    "education:str = \"Masters in Computer science\"\n",
    "\n",
    "card:str = '''\n",
    "PIAIC Students Card\n",
    "Student Name:{}\n",
    "fname: {}\n",
    "Age : {}\n",
    "Education : {}\n",
    "'''.format(name, fname, age, education)\n",
    "\n",
    "print(card)"
   ]
  },
  {
   "cell_type": "code",
   "execution_count": 29,
   "metadata": {},
   "outputs": [
    {
     "name": "stdout",
     "output_type": "stream",
     "text": [
      "\n",
      "PIAIC Students Card\n",
      "Student Name:Saleem\n",
      "fname: Ghulam Muhammad\n",
      "Age : 41\n",
      "Education : Masters in Computer science\n",
      "\n"
     ]
    }
   ],
   "source": [
    "name:str = \"Saleem\"\n",
    "fname:str = \"Ghulam Muhammad\"\n",
    "age:int = 41\n",
    "education:str = \"Masters in Computer science\"\n",
    "\n",
    "card:str = '''\n",
    "PIAIC Students Card\n",
    "Student Name:{1}\n",
    "fname: {2}\n",
    "Age : {3}\n",
    "Education : {0}\n",
    "'''.format( education, name, fname, age)\n",
    "#               0       1       2    3\n",
    "\n",
    "print(card)"
   ]
  },
  {
   "cell_type": "code",
   "execution_count": 31,
   "metadata": {},
   "outputs": [
    {
     "name": "stdout",
     "output_type": "stream",
     "text": [
      "\n",
      "PIAIC Students Card\n",
      "Student Name:Saleem\n",
      "fname: Ghulam Muhammad\n",
      "Age : 41\n",
      "Education : Masters in Computer science\n",
      "\n"
     ]
    }
   ],
   "source": [
    "name:str = \"Saleem\"\n",
    "fname:str = \"Ghulam Muhammad\"\n",
    "age:int = 41\n",
    "education:str = \"Masters in Computer science\"\n",
    "\n",
    "card:str = '''\n",
    "PIAIC Students Card\n",
    "Student Name:{b}\n",
    "fname: {c}\n",
    "Age : {d}\n",
    "Education : {a}\n",
    "'''.format( a= education, b= name, c = fname, d =age)\n",
    "\n",
    "\n",
    "print(card)"
   ]
  },
  {
   "cell_type": "code",
   "execution_count": 30,
   "metadata": {},
   "outputs": [
    {
     "name": "stdout",
     "output_type": "stream",
     "text": [
      "\n",
      "PIAIC Students Card\n",
      "Student Name: Saleem\n",
      "fname: Ghulam\n",
      "Age : 41\n",
      "Education : Masters in Computer science\n",
      "\n"
     ]
    }
   ],
   "source": [
    "name:str = \"Saleem\"\n",
    "fname:str = \"Ghulam\"\n",
    "age:int = 41\n",
    "education:str = \"Masters in Computer science\"\n",
    "\n",
    "card:str = f'''\n",
    "PIAIC Students Card\n",
    "Student Name: %s\n",
    "fname: %s\n",
    "Age : %d\n",
    "Education : %s\n",
    "''' %(name, fname, age, education)\n",
    "\n",
    "print(card)"
   ]
  },
  {
   "cell_type": "markdown",
   "metadata": {},
   "source": [
    "# execute ()  method "
   ]
  },
  {
   "cell_type": "code",
   "execution_count": 35,
   "metadata": {},
   "outputs": [
    {
     "name": "stdout",
     "output_type": "stream",
     "text": [
      "I am a student of PIAIC\n",
      "9\n"
     ]
    }
   ],
   "source": [
    "student_code : str = \"\"\"\n",
    "print(\"I am a student of PIAIC\")\n",
    "\n",
    "a : int = 2\n",
    "b : int = 7\n",
    "print(a + b)\n",
    "\"\"\"\n",
    "exec(student_code)"
   ]
  },
  {
   "cell_type": "markdown",
   "metadata": {},
   "source": [
    "## F-string and Jinja style"
   ]
  },
  {
   "cell_type": "code",
   "execution_count": 22,
   "metadata": {},
   "outputs": [
    {
     "data": {
      "text/plain": [
       "'\\nStudent Name : Saleem\\n'"
      ]
     },
     "execution_count": 22,
     "metadata": {},
     "output_type": "execute_result"
    }
   ],
   "source": [
    "f'''\n",
    "Student Name : {name}\n",
    "'''"
   ]
  },
  {
   "cell_type": "code",
   "execution_count": 2,
   "metadata": {},
   "outputs": [
    {
     "name": "stdout",
     "output_type": "stream",
     "text": [
      "aslemmmm\n"
     ]
    }
   ],
   "source": [
    "# jinja Style \n",
    "name:str = \"aslemmmm\"\n",
    "\n",
    "student:str = \"\"\"\n",
    "Student Name : {{name}}\n",
    "\"\"\"\n",
    "print(name)"
   ]
  },
  {
   "cell_type": "code",
   "execution_count": 37,
   "metadata": {},
   "outputs": [
    {
     "name": "stdout",
     "output_type": "stream",
     "text": [
      "['__add__', '__class__', '__contains__', '__delattr__', '__dir__', '__doc__', '__eq__', '__format__', '__ge__', '__getattribute__', '__getitem__', '__getnewargs__', '__getstate__', '__gt__', '__hash__', '__init__', '__init_subclass__', '__iter__', '__le__', '__len__', '__lt__', '__mod__', '__mul__', '__ne__', '__new__', '__reduce__', '__reduce_ex__', '__repr__', '__rmod__', '__rmul__', '__setattr__', '__sizeof__', '__str__', '__subclasshook__', 'capitalize', 'casefold', 'center', 'count', 'encode', 'endswith', 'expandtabs', 'find', 'format', 'format_map', 'index', 'isalnum', 'isalpha', 'isascii', 'isdecimal', 'isdigit', 'isidentifier', 'islower', 'isnumeric', 'isprintable', 'isspace', 'istitle', 'isupper', 'join', 'ljust', 'lower', 'lstrip', 'maketrans', 'partition', 'removeprefix', 'removesuffix', 'replace', 'rfind', 'rindex', 'rjust', 'rpartition', 'rsplit', 'rstrip', 'split', 'splitlines', 'startswith', 'strip', 'swapcase', 'title', 'translate', 'upper', 'zfill']\n",
      "81\n",
      "['capitalize', 'casefold', 'center', 'count', 'encode', 'endswith', 'expandtabs', 'find', 'format', 'index', 'isalnum', 'isalpha', 'isascii', 'isdecimal', 'isdigit', 'isidentifier', 'islower', 'isnumeric', 'isprintable', 'isspace', 'istitle', 'isupper', 'join', 'ljust', 'lower', 'lstrip', 'maketrans', 'partition', 'removeprefix', 'removesuffix', 'replace', 'rfind', 'rindex', 'rjust', 'rpartition', 'rsplit', 'rstrip', 'split', 'splitlines', 'startswith', 'strip', 'swapcase', 'title', 'translate', 'upper', 'zfill']\n"
     ]
    }
   ],
   "source": [
    "\n",
    "string_method = dir(str)\n",
    "print(string_method)\n",
    "print(len(string_method))\n",
    "a:list[str] = [i for i in dir(str) if \"_\" not in i]\n",
    "print(a)\n",
    "\n"
   ]
  },
  {
   "cell_type": "markdown",
   "metadata": {},
   "source": [
    "# {} placeholder"
   ]
  },
  {
   "cell_type": "code",
   "execution_count": 19,
   "metadata": {},
   "outputs": [
    {
     "data": {
      "text/plain": [
       "'pakistan value is 5 and value  4'"
      ]
     },
     "execution_count": 19,
     "metadata": {},
     "output_type": "execute_result"
    }
   ],
   "source": [
    "# {} placeholder\n",
    "a = 5 \n",
    "b = 4\n",
    "\"pakistan value is {} and value  {}\".format(a, b)"
   ]
  },
  {
   "cell_type": "code",
   "execution_count": 20,
   "metadata": {},
   "outputs": [
    {
     "name": "stdout",
     "output_type": "stream",
     "text": [
      "Muhammad saleem\n"
     ]
    }
   ],
   "source": [
    "name:str = \"MuHaMMad SAleem\"\n",
    "print(name.capitalize())"
   ]
  },
  {
   "cell_type": "code",
   "execution_count": 21,
   "metadata": {},
   "outputs": [
    {
     "name": "stdout",
     "output_type": "stream",
     "text": [
      "muhammad saleem\n"
     ]
    }
   ],
   "source": [
    "name:str = \"MuHaMMad SAleem\"\n",
    "print(name.casefold())"
   ]
  },
  {
   "cell_type": "code",
   "execution_count": 24,
   "metadata": {},
   "outputs": [
    {
     "name": "stdout",
     "output_type": "stream",
     "text": [
      "muhammad saleem\n",
      "MUHAMMAD SALEEM\n",
      "Muhammad saleem\n"
     ]
    }
   ],
   "source": [
    "name:str = \"MuHaMMad SAleem\"\n",
    "print(name.lower()) # all letters in lowercase\n",
    "print(name.upper()) # all letters in uppercase\n",
    "print(name.capitalize()) # first letter of each word will be capitalized\n"
   ]
  },
  {
   "cell_type": "code",
   "execution_count": 28,
   "metadata": {},
   "outputs": [
    {
     "data": {
      "text/plain": [
       "'      Muhammad            Saleem           '"
      ]
     },
     "metadata": {},
     "output_type": "display_data"
    },
    {
     "data": {
      "text/plain": [
       "'Muhammad            Saleem           '"
      ]
     },
     "metadata": {},
     "output_type": "display_data"
    },
    {
     "data": {
      "text/plain": [
       "'      Muhammad            Saleem'"
      ]
     },
     "metadata": {},
     "output_type": "display_data"
    },
    {
     "data": {
      "text/plain": [
       "'Muhammad            Saleem'"
      ]
     },
     "metadata": {},
     "output_type": "display_data"
    },
    {
     "data": {
      "text/plain": [
       "'MuhammadSaleem'"
      ]
     },
     "metadata": {},
     "output_type": "display_data"
    }
   ],
   "source": [
    "import re\n",
    "\n",
    "name : str = \"      Muhammad            Saleem           \"\n",
    "\n",
    "display(name)\n",
    "display(name.lstrip())\n",
    "display(name.rstrip())\n",
    "display(name.strip())\n",
    "name1 : str = re.sub(' {2,100}', '' , name).strip()\n",
    "#name1 : str = re.sub(' {2,100} ', '' , name).strip()\n",
    "display(name1)"
   ]
  },
  {
   "cell_type": "code",
   "execution_count": 31,
   "metadata": {},
   "outputs": [
    {
     "name": "stdout",
     "output_type": "stream",
     "text": [
      "hello\t\tworld\n",
      "hello\n",
      "world\n"
     ]
    }
   ],
   "source": [
    "print(\"hello\\t\\tworld\")# tab command\n",
    "print(\"hello\\nworld\") # line break "
   ]
  },
  {
   "cell_type": "code",
   "execution_count": 32,
   "metadata": {},
   "outputs": [
    {
     "data": {
      "text/plain": [
       "'nostarch.com'"
      ]
     },
     "execution_count": 32,
     "metadata": {},
     "output_type": "execute_result"
    }
   ],
   "source": [
    "remove_url : str = 'https://nostarch.com'\n",
    "remove_url.removeprefix(\"https://\")"
   ]
  }
 ],
 "metadata": {
  "kernelspec": {
   "display_name": "Python 3",
   "language": "python",
   "name": "python3"
  },
  "language_info": {
   "codemirror_mode": {
    "name": "ipython",
    "version": 3
   },
   "file_extension": ".py",
   "mimetype": "text/x-python",
   "name": "python",
   "nbconvert_exporter": "python",
   "pygments_lexer": "ipython3",
   "version": "3.12.0"
  }
 },
 "nbformat": 4,
 "nbformat_minor": 2
}
