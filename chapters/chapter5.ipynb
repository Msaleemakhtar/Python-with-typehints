{
 "cells": [
  {
   "cell_type": "markdown",
   "metadata": {},
   "source": [
    "# Chapter - 5"
   ]
  },
  {
   "cell_type": "markdown",
   "metadata": {},
   "source": [
    "# IF STATEMENTS"
   ]
  },
  {
   "cell_type": "code",
   "execution_count": 2,
   "metadata": {},
   "outputs": [
    {
     "name": "stdout",
     "output_type": "stream",
     "text": [
      "Honda\n",
      "BMW\n",
      "Toyota\n",
      "Shurti\n",
      "Mehran\n"
     ]
    }
   ],
   "source": [
    "cars:list[str] = [\"honda\", \"bmw\",\"toyota\", \"shurti\", \"mehran\"]\n",
    "for car in cars:\n",
    "    if car == \"bmw\":\n",
    "        print(car.upper())\n",
    "    else:\n",
    "        print(car.title())"
   ]
  },
  {
   "cell_type": "code",
   "execution_count": 6,
   "metadata": {},
   "outputs": [
    {
     "data": {
      "text/plain": [
       "True"
      ]
     },
     "execution_count": 6,
     "metadata": {},
     "output_type": "execute_result"
    }
   ],
   "source": [
    "car = \"honda\"\n",
    "car == \"honda\"\n"
   ]
  },
  {
   "cell_type": "code",
   "execution_count": 7,
   "metadata": {},
   "outputs": [
    {
     "data": {
      "text/plain": [
       "False"
      ]
     },
     "execution_count": 7,
     "metadata": {},
     "output_type": "execute_result"
    }
   ],
   "source": [
    "car = \"audi\"# “Set the value of car equal to 'audi'.”\n",
    "car == \"honda\"#“Is the value of car equal to 'bmw'?” will rteturn true & false"
   ]
  },
  {
   "cell_type": "code",
   "execution_count": 25,
   "metadata": {},
   "outputs": [
    {
     "data": {
      "text/plain": [
       "True"
      ]
     },
     "execution_count": 25,
     "metadata": {},
     "output_type": "execute_result"
    }
   ],
   "source": [
    "car = \"Audi\"\n",
    "car.lower() == 'audi'"
   ]
  },
  {
   "cell_type": "code",
   "execution_count": 29,
   "metadata": {},
   "outputs": [
    {
     "name": "stdout",
     "output_type": "stream",
     "text": [
      "Is car == 'subaru'? I predict True.\n",
      "True\n",
      "\n",
      "Is car == 'audi'? I predict False.\n",
      "False\n"
     ]
    }
   ],
   "source": [
    "car = 'subaru'\n",
    "print(\"Is car == 'subaru'? I predict True.\")\n",
    "print(car == 'subaru')\n",
    "print(\"\\nIs car == 'audi'? I predict False.\")\n",
    "print(car == 'audi')"
   ]
  },
  {
   "cell_type": "code",
   "execution_count": 31,
   "metadata": {},
   "outputs": [
    {
     "name": "stdout",
     "output_type": "stream",
     "text": [
      "Your admission cost is $25.\n"
     ]
    }
   ],
   "source": [
    "age = 12\n",
    "if age < 4:\n",
    "    price = 0\n",
    "elif age < 18:\n",
    "    price = 25\n",
    "else:\n",
    "    price = 40\n",
    "print(f\"Your admission cost is ${price}.\")"
   ]
  },
  {
   "cell_type": "code",
   "execution_count": 1,
   "metadata": {},
   "outputs": [
    {
     "name": "stdout",
     "output_type": "stream",
     "text": [
      "otp sent on your number\n",
      "Welcome to PIAIC\n"
     ]
    }
   ],
   "source": [
    "user_name:str = input(\"Enter your user_name\")\n",
    "user_pwd:str = input(\"Enter your password\")\n",
    "\n",
    "if user_name == \"admin\" and user_pwd == \"admin\":\n",
    "    print(\"otp sent on your number\")\n",
    "    otp:str = input(\" enter otp\")\n",
    "    if otp == \"123\":\n",
    "        print(\"Welcome to PIAIC\")\n",
    "else:\n",
    "    print(\"Invalid user\")"
   ]
  },
  {
   "cell_type": "markdown",
   "metadata": {},
   "source": [
    "# Grading Rule\n",
    "https://www.infoworld.com/article/3630372/get-started-with-python-type-hints.html"
   ]
  },
  {
   "cell_type": "code",
   "execution_count": 6,
   "metadata": {},
   "outputs": [
    {
     "name": "stdout",
     "output_type": "stream",
     "text": [
      "Dear student your grade is :\t A \n",
      "66.0\n"
     ]
    }
   ],
   "source": [
    "from typing import Union\n",
    "\n",
    "per :Union[int, float] = float(input(\"Enter your percentage\"))\n",
    "grade:Union[str, None] = None\n",
    "\n",
    "if (per >= 0 )and (per <= 33):\n",
    "    grade = \"Fail\"\n",
    "elif (per >= 33) and (per <= 40):\n",
    "    grade = \"D\"\n",
    "elif (per >= 40) and (per <= 50):\n",
    "    grade = \"C\"\n",
    "elif (per >= 50) and (per <= 60):\n",
    "    grade = \"B\"\n",
    "elif (per >= 60) and (per <= 70):\n",
    "    grade = \"A\"\n",
    "elif (per >= 70) and (per <= 80):\n",
    "    grade = \"A+\"\n",
    "elif (per >= 80) and (per <= 90):\n",
    "    grade = \"A++\"\n",
    "elif (per >= 90) and (per <= 100):\n",
    "    grade = \"Excellent\"\n",
    "\n",
    "print(f\"Dear student your grade is :\\t {grade} \")\n",
    "print(per)\n",
    "print(grade)"
   ]
  },
  {
   "cell_type": "markdown",
   "metadata": {},
   "source": [
    "# Type alias\n",
    "https://peps.python.org/pep-0484/#type-aliases"
   ]
  },
  {
   "cell_type": "code",
   "execution_count": 30,
   "metadata": {},
   "outputs": [
    {
     "name": "stdout",
     "output_type": "stream",
     "text": [
      "[30, 45, 56, 61, 73, 82, 91]\n",
      "['Fail', 'C', 'B', 'A', 'A+', 'A++', 'Excellent']\n"
     ]
    }
   ],
   "source": [
    "from typing import Union\n",
    "\n",
    "#perType =Union[int, float]\n",
    "perType = int|float\n",
    "percentages : list[perType] = [30, 45, 56, 61, 73, 82, 91,]\n",
    "\n",
    "grades : list[str] = []\n",
    "\n",
    "\n",
    "for per in percentages:\n",
    "    grade : str = \"\"\n",
    "    if (per >= 0 )and (per <= 33):\n",
    "        grade = \"Fail\"\n",
    "    elif (per >= 33) and (per <= 40):\n",
    "        grade = \"D\"\n",
    "    elif (per >= 40) and (per <= 50):\n",
    "        grade = \"C\"\n",
    "    elif (per >= 50) and (per <= 60):\n",
    "        grade = \"B\"\n",
    "    elif (per >= 60) and (per <= 70):\n",
    "        grade = \"A\"\n",
    "    elif (per >= 70) and (per <= 80):\n",
    "        grade = \"A+\"\n",
    "    elif (per >= 80) and (per <= 90):\n",
    "        grade = \"A++\"\n",
    "    elif (per >= 90) and (per <= 100):\n",
    "        grade = \"Excellent\"\n",
    "\n",
    "\n",
    "    grades.append(grade)\n",
    "\n",
    "print(percentages)\n",
    "print(grades)"
   ]
  },
  {
   "cell_type": "code",
   "execution_count": 17,
   "metadata": {},
   "outputs": [
    {
     "name": "stdout",
     "output_type": "stream",
     "text": [
      "[0, 1, 2, 3, 4, 5, 6]\n"
     ]
    }
   ],
   "source": [
    "roll_no: list[int] = list(range(len(percentages)))\n",
    "print(roll_no)"
   ]
  },
  {
   "cell_type": "code",
   "execution_count": 14,
   "metadata": {},
   "outputs": [
    {
     "data": {
      "text/plain": [
       "<zip at 0x1d66e56bf80>"
      ]
     },
     "execution_count": 14,
     "metadata": {},
     "output_type": "execute_result"
    }
   ],
   "source": [
    "zip(grades, percentages) # <zip at 0x10c2c00c0> generator function iteration perform->list, for"
   ]
  },
  {
   "cell_type": "code",
   "execution_count": 23,
   "metadata": {},
   "outputs": [
    {
     "data": {
      "text/plain": [
       "[(0, 'Fail', 30),\n",
       " (1, 'C', 45),\n",
       " (2, 'B', 56),\n",
       " (3, 'A', 61),\n",
       " (4, 'A+', 73),\n",
       " (5, 'A++', 82),\n",
       " (6, 'Excellent', 91)]"
      ]
     },
     "metadata": {},
     "output_type": "display_data"
    }
   ],
   "source": [
    "data_base = list(zip(roll_no, grades, percentages))\n",
    "sorted(data_base)\n",
    "display(data_base)"
   ]
  },
  {
   "cell_type": "code",
   "execution_count": 29,
   "metadata": {},
   "outputs": [
    {
     "data": {
      "text/plain": [
       "[(0, 'Fail', 30),\n",
       " (1, 'C', 45),\n",
       " (2, 'B', 56),\n",
       " (3, 'A', 61),\n",
       " (4, 'A+', 73),\n",
       " (5, 'A++', 82),\n",
       " (6, 'Excellent', 91)]"
      ]
     },
     "metadata": {},
     "output_type": "display_data"
    },
    {
     "data": {
      "text/plain": [
       "[(6, 'Excellent', 91),\n",
       " (5, 'A++', 82),\n",
       " (4, 'A+', 73),\n",
       " (3, 'A', 61),\n",
       " (2, 'B', 56),\n",
       " (1, 'C', 45),\n",
       " (0, 'Fail', 30)]"
      ]
     },
     "execution_count": 29,
     "metadata": {},
     "output_type": "execute_result"
    }
   ],
   "source": [
    "display(data_base)\n",
    "sorted(data_base, key=lambda x:x[2], reverse=True)\n"
   ]
  }
 ],
 "metadata": {
  "kernelspec": {
   "display_name": "python1",
   "language": "python",
   "name": "python3"
  },
  "language_info": {
   "codemirror_mode": {
    "name": "ipython",
    "version": 3
   },
   "file_extension": ".py",
   "mimetype": "text/x-python",
   "name": "python",
   "nbconvert_exporter": "python",
   "pygments_lexer": "ipython3",
   "version": "3.12.0"
  }
 },
 "nbformat": 4,
 "nbformat_minor": 2
}
