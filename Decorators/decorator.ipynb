{
 "cells": [
  {
   "cell_type": "markdown",
   "metadata": {},
   "source": [
    "# decorators"
   ]
  },
  {
   "cell_type": "code",
   "execution_count": 4,
   "metadata": {},
   "outputs": [
    {
     "data": {
      "text/plain": [
       "64"
      ]
     },
     "execution_count": 4,
     "metadata": {},
     "output_type": "execute_result"
    }
   ],
   "source": [
    "from typing import  Callable\n",
    "\n",
    "\n",
    "class Decorator:\n",
    "\n",
    "    def __init__(self,func:Callable[[int, int], int]) -> None:\n",
    "        self.function = func\n",
    "\n",
    "    def __call__(self, a:int, b:int ) -> int:\n",
    "        result = self.function(a, b)\n",
    "        square = result**2\n",
    "        return square\n",
    "\n",
    "def add(a:int, b:int)->int:\n",
    "    return a + b\n",
    "obj = Decorator(add)# create the object and pass function to it\n",
    "\n",
    "obj(2, 6) # obj.__call___()"
   ]
  },
  {
   "cell_type": "code",
   "execution_count": 5,
   "metadata": {},
   "outputs": [
    {
     "data": {
      "text/plain": [
       "49"
      ]
     },
     "execution_count": 5,
     "metadata": {},
     "output_type": "execute_result"
    }
   ],
   "source": [
    "from typing import Any, Callable\n",
    "\n",
    "\n",
    "class Decorator:\n",
    "\n",
    "    def __init__(self,func:Callable[[int, int], int]) -> None:\n",
    "        self.function = func\n",
    "\n",
    "    def __call__(self, a:int, b:int ) -> int:\n",
    "        result = self.function(a, b)\n",
    "        square = result**2\n",
    "        return square\n",
    "    \n",
    "# add the class here\n",
    "@Decorator\n",
    "def add(a, b)->int:\n",
    "    return a +b\n",
    "#obj = Decorator(add)# create the object and pass function to it\n",
    "#obj(2, 6) # obj.__add___()\n",
    "\n",
    "\n",
    "# after declaring decorator above the outer function \n",
    "\n",
    "add(4,3)"
   ]
  },
  {
   "cell_type": "code",
   "execution_count": 13,
   "metadata": {},
   "outputs": [
    {
     "name": "stdout",
     "output_type": "stream",
     "text": [
      "14\n"
     ]
    }
   ],
   "source": [
    "\n",
    "from typing import Callable, List, Union\n",
    "\n",
    "class Decorator:\n",
    "    def __init__(self, func:Callable[[int], int]) -> None:\n",
    "        self.function = func\n",
    "\n",
    "    def __call__(self, *args: int) -> int:\n",
    "        try:\n",
    "            if any([isinstance(i, str) for i in args]):\n",
    "                raise TypeError(\"string can not be used\")\n",
    "            else:\n",
    "                return self.function(*args)\n",
    "        except Exception as e:\n",
    "            print(e)\n",
    "        \n",
    "@Decorator\n",
    "def add(*args: int) -> int:\n",
    "    sum_result = 0\n",
    "    for num in args:\n",
    "        sum_result = sum_result + num\n",
    "    return sum_result\n",
    "\n",
    "print(add(2, 3, 4, 5))\n"
   ]
  },
  {
   "cell_type": "code",
   "execution_count": 14,
   "metadata": {},
   "outputs": [
    {
     "name": "stdout",
     "output_type": "stream",
     "text": [
      "14\n",
      "Strings cannot be used as arguments\n"
     ]
    }
   ],
   "source": [
    "from typing import Callable, List, Union\n",
    "\n",
    "class Decorator:\n",
    "    def __init__(self, func: Callable[..., int]) -> None:\n",
    "        self.function = func\n",
    "\n",
    "    def __call__(self, *args:int):\n",
    "        try:\n",
    "            if any(isinstance(i, str) for i in args):\n",
    "                raise TypeError(\"Strings cannot be used as arguments\")\n",
    "            else:\n",
    "                return self.function(*args)\n",
    "        except Exception as e:\n",
    "            print(e)\n",
    "\n",
    "@Decorator\n",
    "def add(*args:int) -> int:\n",
    "    sum_result = 0\n",
    "    for num in args:\n",
    "        if isinstance(num, int):\n",
    "            sum_result += num\n",
    "        else:\n",
    "            raise TypeError(\"Strings cannot be used as arguments\")\n",
    "    return sum_result\n",
    "\n",
    "result = add(2, 3, 4, 5)\n",
    "print(result)  # Should print 14\n",
    "\n",
    "# result = add(2, 3, \"4\")  # This will raise a TypeError for using a string as an argument.\n"
   ]
  },
  {
   "cell_type": "code",
   "execution_count": 20,
   "metadata": {},
   "outputs": [
    {
     "name": "stdout",
     "output_type": "stream",
     "text": [
      "14\n",
      "Strings cannot be used as arguments\n"
     ]
    }
   ],
   "source": [
    "from typing import Callable, Union, Any\n",
    "\n",
    "class Decorator:\n",
    "    def __init__(self, func: Callable[..., int]) -> None:\n",
    "        self.function = func\n",
    "\n",
    "    def __call__(self, *args:Union[int, str])->Any:\n",
    "        try:\n",
    "            if any(isinstance(i, str) for i in args):\n",
    "                raise TypeError(\"Strings cannot be used as arguments\")\n",
    "            else:\n",
    "                return self.function(*args)\n",
    "        except Exception as e:\n",
    "            print(e)\n",
    "\n",
    "@Decorator\n",
    "def add(*args: Union[int, str]) -> int:\n",
    "    sum_result = 0\n",
    "    for num in args:\n",
    "        if isinstance(num, int):\n",
    "            sum_result += num\n",
    "        else:\n",
    "            raise TypeError(\"Strings cannot be used as arguments\")\n",
    "    return sum_result\n",
    "\n",
    "result = add(2, 3, 4, 5)\n",
    "print(result)  # Should print 14\n",
    "\n",
    "result = add(2, 3, \"4\")  # type: ignore # This will raise a TypeError for using a string as an argument.\n"
   ]
  },
  {
   "cell_type": "code",
   "execution_count": 39,
   "metadata": {},
   "outputs": [
    {
     "name": "stdout",
     "output_type": "stream",
     "text": [
      "saleem akhtar\n",
      "saleemakhtar@gmail.com\n",
      "Muhammad akhtar\n",
      "Ali Saram\n",
      "all deleted  \n",
      "@gmail.com\n",
      "deted  \n"
     ]
    }
   ],
   "source": [
    "#Property decorator-- convert the method into attribute\n",
    "\n",
    "class Employee:\n",
    "    def __init__(self, first:str, last:str) -> None:\n",
    "        self.firstname:str = first\n",
    "        self.lastname:str = last\n",
    "        #self.mail:str = first + last + \"@gmail.com\"\n",
    "\n",
    "    @property\n",
    "    def mail(self)->str:\n",
    "        return f\"{self.firstname}{self.lastname}@gmail.com\"\n",
    "    \n",
    "\n",
    "    @property\n",
    "    def fullname(self)->str: # this is a getter method\n",
    "        return f\"{self.firstname} {self.lastname}\"\n",
    "    \n",
    "    @fullname.setter\n",
    "    def fullname(self, name:str)->None:# this is a setter method\n",
    "        first, last = name.split()\n",
    "        self.firstname = first\n",
    "        self.lastname = last\n",
    "\n",
    "\n",
    "    @fullname.deleter   \n",
    "    def fullname(self)->None:\n",
    "        self.firstname = \"\"\n",
    "        self.lastname = \"\"\n",
    "\n",
    "\n",
    "e:Employee = Employee(\"saleem\", \"akhtar\")\n",
    "e1:Employee = Employee(\"saram\", \"ali\")\n",
    "e2:Employee = Employee(\"hamza\", \"saleem\")\n",
    "\n",
    "\n",
    "print(e.firstname, e.lastname)\n",
    "print(e.mail)\n",
    "e.firstname = \"Muhammad\"\n",
    "print(e.firstname, e.lastname)\n",
    "# setting name\n",
    "e.fullname = \"Ali Saram\"\n",
    "# after setting\n",
    "print(e.fullname)\n",
    "\n",
    "del e.fullname\n",
    "print(\"all deleted\", e.firstname, e.lastname)\n",
    "print(e.mail)\n",
    "print(\"deted\", e.fullname)"
   ]
  }
 ],
 "metadata": {
  "kernelspec": {
   "display_name": "python1",
   "language": "python",
   "name": "python3"
  },
  "language_info": {
   "codemirror_mode": {
    "name": "ipython",
    "version": 3
   },
   "file_extension": ".py",
   "mimetype": "text/x-python",
   "name": "python",
   "nbconvert_exporter": "python",
   "pygments_lexer": "ipython3",
   "version": "3.12.0"
  }
 },
 "nbformat": 4,
 "nbformat_minor": 2
}
