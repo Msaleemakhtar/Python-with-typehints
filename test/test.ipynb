{
 "cells": [
  {
   "cell_type": "code",
   "execution_count": 17,
   "metadata": {},
   "outputs": [
    {
     "name": "stdout",
     "output_type": "stream",
     "text": [
      "RangeIndex(start=0, stop=5, step=1)\n",
      "0    1\n",
      "1    2\n",
      "2    3\n",
      "3    3\n",
      "4    6\n",
      "dtype: int64\n",
      "4    6\n",
      "dtype: int64\n",
      "0     2\n",
      "1     4\n",
      "2     6\n",
      "3     6\n",
      "4    12\n",
      "dtype: int64\n"
     ]
    }
   ],
   "source": [
    "import pandas as pd\n",
    "import numpy as np\n",
    "\n",
    "s1:pd.Series = pd.Series([1,2,3,3,6])\n",
    "\n",
    "print(s1.index)\n",
    "print(s1)\n",
    "s1.array\n",
    "\n",
    "print(s1[s1 > 3])\n",
    "print(s1 * 2)\n",
    "\n"
   ]
  },
  {
   "cell_type": "code",
   "execution_count": 5,
   "metadata": {},
   "outputs": [
    {
     "name": "stdout",
     "output_type": "stream",
     "text": [
      "0    61\n",
      "1     2\n",
      "2     3\n",
      "3     3\n",
      "dtype: int64\n"
     ]
    }
   ],
   "source": [
    "s1:pd.Series = pd.Series((61,2,3,3,))\n",
    "print(s1)"
   ]
  },
  {
   "cell_type": "code",
   "execution_count": 6,
   "metadata": {},
   "outputs": [
    {
     "name": "stdout",
     "output_type": "stream",
     "text": [
      "name       saleem\n",
      "fname      Ghulam\n",
      "roll_no      1233\n",
      "dtype: object\n"
     ]
    }
   ],
   "source": [
    "s1:pd.Series = pd.Series({\"name\": \"saleem\", \"fname\": \"Ghulam\", \"roll_no\": \"1233\"})\n",
    "print(s1)"
   ]
  },
  {
   "cell_type": "code",
   "execution_count": 7,
   "metadata": {},
   "outputs": [
    {
     "data": {
      "text/plain": [
       "4    q\n",
       "2    b\n",
       "3    f\n",
       "5    e\n",
       "dtype: object"
      ]
     },
     "execution_count": 7,
     "metadata": {},
     "output_type": "execute_result"
    }
   ],
   "source": [
    "list1:list[str] = [\"q\", \"b\", \"f\", \"e\"]\n",
    "index1:list[int] = [4,2,3,5]\n",
    "\n",
    "s2:pd.Series = pd.Series(list1, index=index1)\n",
    "s2"
   ]
  },
  {
   "cell_type": "code",
   "execution_count": 8,
   "metadata": {},
   "outputs": [
    {
     "data": {
      "text/plain": [
       "a  a  a  a    1\n",
       "   b  b  b    2\n",
       "b  c  c  c    3\n",
       "   f  f  f    4\n",
       "   h  h  h    5\n",
       "dtype: int64"
      ]
     },
     "execution_count": 8,
     "metadata": {},
     "output_type": "execute_result"
    }
   ],
   "source": [
    "\n",
    "import pandas as pd\n",
    "\n",
    "indexes:list[list[str]] = [['a', 'a', 'b', 'b', 'b'],\n",
    "                          ['a', 'b', 'c', 'f', 'h'],\n",
    "                          ['a', 'b', 'c', 'f', 'h'],\n",
    "                          ['a', 'b', 'c', 'f', 'h']]\n",
    "values:list[int] = [1,2,3,4,5]\n",
    "\n",
    "\n",
    "s3:pd.Series = pd.Series(values, index=indexes)\n",
    "\n",
    "s3"
   ]
  },
  {
   "cell_type": "code",
   "execution_count": 9,
   "metadata": {},
   "outputs": [
    {
     "data": {
      "text/plain": [
       "1    [a, a, b, b, b]\n",
       "2    [a, b, c, f, h]\n",
       "3    [a, b, c, f, h]\n",
       "4    [a, b, c, f, h]\n",
       "dtype: object"
      ]
     },
     "execution_count": 9,
     "metadata": {},
     "output_type": "execute_result"
    }
   ],
   "source": [
    "import pandas as pd\n",
    "\n",
    "indexes:list[list[str]] = [['a', 'a', 'b', 'b', 'b'],\n",
    "                          ['a', 'b', 'c', 'f', 'h'],\n",
    "                          ['a', 'b', 'c', 'f', 'h'],\n",
    "                          ['a', 'b', 'c', 'f', 'h']]\n",
    "\n",
    "values:list[int] = [1,2,3,4]\n",
    "\n",
    "\n",
    "s3:pd.Series = pd.Series(indexes, index=values)\n",
    "\n",
    "s3"
   ]
  },
  {
   "cell_type": "code",
   "execution_count": 10,
   "metadata": {},
   "outputs": [
    {
     "data": {
      "text/plain": [
       "California     True\n",
       "Ohio          False\n",
       "Oregon        False\n",
       "Texas         False\n",
       "dtype: bool"
      ]
     },
     "execution_count": 10,
     "metadata": {},
     "output_type": "execute_result"
    }
   ],
   "source": [
    "\n",
    "sdata:dict[str, int] = {\"Ohio\": 35000, \"Texas\": 71000, \"Oregon\": 16000, \"Utah\": 5000}\n",
    "\n",
    "obj3:pd.Series = pd.Series(sdata)\n",
    "\n",
    "states:list[str] = [\"California\", \"Ohio\", \"Oregon\", \"Texas\"]\n",
    "\n",
    "obj3 = pd.Series(sdata, index=states)\n",
    "\n",
    "\n",
    "#pd.notna(obj3)\n",
    "obj3.isna()\n"
   ]
  },
  {
   "cell_type": "code",
   "execution_count": 11,
   "metadata": {},
   "outputs": [
    {
     "data": {
      "text/plain": [
       "Ohio      35000\n",
       "Oregon    16000\n",
       "Texas     71000\n",
       "Name: saleem data, dtype: int64"
      ]
     },
     "execution_count": 11,
     "metadata": {},
     "output_type": "execute_result"
    }
   ],
   "source": [
    "\n",
    "sdata:dict[str, int] = {\"Ohio\": 35000, \"Texas\": 71000, \"Oregon\": 16000, \"Utah\": 5000}\n",
    "\n",
    "obj3:pd.Series = pd.Series(sdata)\n",
    "\n",
    "states:list[str] = [\"Ohio\", \"Oregon\", \"Texas\"]\n",
    "\n",
    "obj3 = pd.Series(sdata, index=states, name=\"saleem data\")\n",
    "\n",
    "\n",
    "#pd.notna(obj3)\n",
    "obj3.isna()\n",
    "obj3"
   ]
  },
  {
   "cell_type": "code",
   "execution_count": 12,
   "metadata": {},
   "outputs": [
    {
     "name": "stdout",
     "output_type": "stream",
     "text": [
      "0\n"
     ]
    }
   ],
   "source": [
    "x = 5\n",
    "while x >0:\n",
    "    x-=1\n",
    "\n",
    "print(x)"
   ]
  },
  {
   "cell_type": "code",
   "execution_count": 14,
   "metadata": {},
   "outputs": [
    {
     "name": "stdout",
     "output_type": "stream",
     "text": [
      "Index(['foo', 'foo', 'bar', 'bar'], dtype='object')\n"
     ]
    }
   ],
   "source": [
    "print(pd.Index([\"foo\", \"foo\", \"bar\", \"bar\"]))\n"
   ]
  },
  {
   "cell_type": "code",
   "execution_count": 23,
   "metadata": {},
   "outputs": [],
   "source": [
    "import pandas as pd\n",
    "import numpy as np\n",
    "\n",
    "\n"
   ]
  },
  {
   "cell_type": "code",
   "execution_count": 28,
   "metadata": {},
   "outputs": [
    {
     "data": {
      "text/plain": [
       "0     blue\n",
       "1     blue\n",
       "2     blue\n",
       "3     blue\n",
       "4    green\n",
       "5    green\n",
       "6    green\n",
       "7      red\n",
       "8      red\n",
       "9      red\n",
       "dtype: object"
      ]
     },
     "execution_count": 28,
     "metadata": {},
     "output_type": "execute_result"
    }
   ],
   "source": [
    "obj = pd.Series([\"blue\", \"green\", \"red\"], index=[0,4,7])\n",
    "rendex= obj.reindex(np.arange(10), method=\"ffill\")\n",
    "rendex"
   ]
  },
  {
   "cell_type": "code",
   "execution_count": 63,
   "metadata": {},
   "outputs": [
    {
     "name": "stdout",
     "output_type": "stream",
     "text": [
      "          one  two  three\n",
      "Ohio        0    1      2\n",
      "Colorado    3    4      5\n",
      "Utah        6    7      8\n",
      "          one  two  three\n",
      "Ohio        0    1      2\n",
      "Colorado    3    4      5\n",
      "Utah        6    7      8\n",
      "-----------------------\n",
      "   caps  source  thrice  fist  second  third\n",
      "1   NaN     NaN     NaN   NaN     NaN    NaN\n",
      "2   NaN     NaN     NaN   NaN     NaN    NaN\n",
      "3   NaN     NaN     NaN   NaN     NaN    NaN\n",
      "4   NaN     NaN     NaN   NaN     NaN    NaN\n"
     ]
    }
   ],
   "source": [
    "frame = pd.DataFrame(np.arange(9).reshape((3,3)), \n",
    "                     index=[\"Ohio\", \"Colorado\", \"Utah\"], \n",
    "                     columns=[\"one\", \"two\", \"three\"])\n",
    "print(frame)\n",
    "\n",
    "\n",
    "print(\"-----------------------\")\n",
    "state = [\"caps\", \"source\", \"thrice\",\"fist\", \"second\", \"third\"]\n",
    "frame2= frame.reindex(index=[1,2,3,4], columns= state )\n",
    "\n",
    "print(frame2)"
   ]
  },
  {
   "cell_type": "code",
   "execution_count": 76,
   "metadata": {},
   "outputs": [
    {
     "name": "stdout",
     "output_type": "stream",
     "text": [
      "          one  two  three\n",
      "Ohio        0    1      2\n",
      "Colorado    3    4      5\n",
      "Utah        6    7      8\n",
      "----------------\n",
      "      one  two  three\n",
      "Utah    6    7      8\n",
      "----------------\n",
      "          two  three\n",
      "Ohio        1      2\n",
      "Colorado    4      5\n",
      "Utah        7      8\n"
     ]
    }
   ],
   "source": [
    "frame = pd.DataFrame(np.arange(9).reshape((3,3)), \n",
    "                     index=[\"Ohio\", \"Colorado\", \"Utah\"], \n",
    "                     columns=[\"one\", \"two\", \"three\"])\n",
    "print(frame)\n",
    "print(\"----------------\")\n",
    "\n",
    "data = frame.drop(index=[\"Ohio\", \"Colorado\"])\n",
    "data1 = frame.drop([\"one\"], axis=\"columns\")\n",
    "\n",
    "print(data)\n",
    "\n",
    "\n",
    "print(\"----------------\")\n",
    "print(data1)"
   ]
  },
  {
   "cell_type": "code",
   "execution_count": 79,
   "metadata": {},
   "outputs": [
    {
     "data": {
      "text/html": [
       "<div>\n",
       "<style scoped>\n",
       "    .dataframe tbody tr th:only-of-type {\n",
       "        vertical-align: middle;\n",
       "    }\n",
       "\n",
       "    .dataframe tbody tr th {\n",
       "        vertical-align: top;\n",
       "    }\n",
       "\n",
       "    .dataframe thead th {\n",
       "        text-align: right;\n",
       "    }\n",
       "</style>\n",
       "<table border=\"1\" class=\"dataframe\">\n",
       "  <thead>\n",
       "    <tr style=\"text-align: right;\">\n",
       "      <th></th>\n",
       "      <th>b</th>\n",
       "      <th>d</th>\n",
       "      <th>e</th>\n",
       "    </tr>\n",
       "  </thead>\n",
       "  <tbody>\n",
       "    <tr>\n",
       "      <th>Utah</th>\n",
       "      <td>1.750172</td>\n",
       "      <td>0.297848</td>\n",
       "      <td>0.156259</td>\n",
       "    </tr>\n",
       "    <tr>\n",
       "      <th>Ohio</th>\n",
       "      <td>0.631958</td>\n",
       "      <td>1.546587</td>\n",
       "      <td>0.428664</td>\n",
       "    </tr>\n",
       "    <tr>\n",
       "      <th>Texas</th>\n",
       "      <td>0.372579</td>\n",
       "      <td>0.069942</td>\n",
       "      <td>1.181978</td>\n",
       "    </tr>\n",
       "    <tr>\n",
       "      <th>Oregon</th>\n",
       "      <td>0.636177</td>\n",
       "      <td>0.495053</td>\n",
       "      <td>0.698227</td>\n",
       "    </tr>\n",
       "  </tbody>\n",
       "</table>\n",
       "</div>"
      ],
      "text/plain": [
       "               b         d         e\n",
       "Utah    1.750172  0.297848  0.156259\n",
       "Ohio    0.631958  1.546587  0.428664\n",
       "Texas   0.372579  0.069942  1.181978\n",
       "Oregon  0.636177  0.495053  0.698227"
      ]
     },
     "execution_count": 79,
     "metadata": {},
     "output_type": "execute_result"
    }
   ],
   "source": [
    "frame = pd.DataFrame(np.random.standard_normal((4, 3)),\n",
    "                                 columns=list(\"bde\"),\n",
    "                                 index=[\"Utah\", \"Ohio\", \"Texas\", \"Oregon\"])\n",
    "\n",
    "\n",
    "\n",
    "np.abs(frame)"
   ]
  },
  {
   "cell_type": "code",
   "execution_count": 81,
   "metadata": {},
   "outputs": [
    {
     "data": {
      "text/plain": [
       "b    2.632968\n",
       "d    1.508132\n",
       "e    2.779346\n",
       "dtype: float64"
      ]
     },
     "execution_count": 81,
     "metadata": {},
     "output_type": "execute_result"
    }
   ],
   "source": [
    "frame = pd.DataFrame(np.random.standard_normal((4, 3)),\n",
    "                                 columns=list(\"bde\"),\n",
    "                                 index=[\"Utah\", \"Ohio\", \"Texas\", \"Oregon\"])\n",
    "\n",
    "\n",
    "\n",
    "np.abs(frame)\n",
    "\n",
    "\n",
    "\n",
    "\n",
    "def f1(x):\n",
    "    return x.max() - x.min()\n",
    "\n",
    "frame.apply(f1)\n",
    "\n"
   ]
  },
  {
   "cell_type": "code",
   "execution_count": null,
   "metadata": {},
   "outputs": [],
   "source": [
    "name = \"saleem\"\n",
    "print(name.upper())\n",
    "\n",
    "[i for i in dir(name) if \"_\" not in i]"
   ]
  },
  {
   "cell_type": "code",
   "execution_count": 13,
   "metadata": {},
   "outputs": [
    {
     "name": "stdout",
     "output_type": "stream",
     "text": [
      "20000\n"
     ]
    }
   ],
   "source": [
    "name1 :str = 20000\n",
    "print(name1)"
   ]
  },
  {
   "cell_type": "code",
   "execution_count": 17,
   "metadata": {},
   "outputs": [
    {
     "data": {
      "text/plain": [
       "('pakistan', 2, 2.0)"
      ]
     },
     "execution_count": 17,
     "metadata": {},
     "output_type": "execute_result"
    }
   ],
   "source": [
    "func: tuple[str, int , float] = (\"pakistan\", 2, 2.0)\n",
    "\n",
    "func"
   ]
  },
  {
   "cell_type": "code",
   "execution_count": 29,
   "metadata": {},
   "outputs": [
    {
     "name": "stdout",
     "output_type": "stream",
     "text": [
      "My name is saleem and my age is 43\n"
     ]
    }
   ],
   "source": [
    "name : str = 'saleem'\n",
    "age:int = 43\n",
    "\n",
    "print(\"My name is %s and my age is %d\" %(name, age))"
   ]
  },
  {
   "cell_type": "code",
   "execution_count": 30,
   "metadata": {},
   "outputs": [
    {
     "name": "stdout",
     "output_type": "stream",
     "text": [
      "My name is saleem and my age is 43\n"
     ]
    }
   ],
   "source": [
    "name : str = 'saleem'\n",
    "age:int = 43\n",
    "\n",
    "print(\"My name is {} and my age is {}\".format(name, age))"
   ]
  },
  {
   "cell_type": "code",
   "execution_count": 36,
   "metadata": {},
   "outputs": [
    {
     "name": "stdout",
     "output_type": "stream",
     "text": [
      "My name is saleem and my age is 43\n"
     ]
    }
   ],
   "source": [
    "name : str = 'saleem'\n",
    "age:int = 43\n",
    "\n",
    "print(f\"My name is {name} and my age is {age}\")"
   ]
  },
  {
   "cell_type": "code",
   "execution_count": null,
   "metadata": {},
   "outputs": [],
   "source": [
    "name : str = 'saleem'\n",
    "age:int = 43\n",
    "\n",
    "print(f'''My name is \n",
    "      {name} \n",
    "      and my age is \n",
    "      {age}''')"
   ]
  },
  {
   "cell_type": "code",
   "execution_count": 41,
   "metadata": {},
   "outputs": [
    {
     "name": "stdout",
     "output_type": "stream",
     "text": [
      "My name is \n",
      "      saleem \n",
      "      and my age is \n",
      "      43\n"
     ]
    }
   ],
   "source": [
    "my_name : str = 'saleem'\n",
    "my_age:int = 43\n",
    "\n",
    "print(f'''My name is \n",
    "      {my_name} \n",
    "      and my age is \n",
    "      {my_age}''')"
   ]
  },
  {
   "cell_type": "code",
   "execution_count": 42,
   "metadata": {},
   "outputs": [
    {
     "ename": "SyntaxError",
     "evalue": "unterminated string literal (detected at line 1) (1991690063.py, line 1)",
     "output_type": "error",
     "traceback": [
      "\u001b[1;36m  Cell \u001b[1;32mIn[42], line 1\u001b[1;36m\u001b[0m\n\u001b[1;33m    name: str = 'My name is salemm \\n father's name'\u001b[0m\n\u001b[1;37m                                                   ^\u001b[0m\n\u001b[1;31mSyntaxError\u001b[0m\u001b[1;31m:\u001b[0m unterminated string literal (detected at line 1)\n"
     ]
    }
   ],
   "source": [
    "name: str = 'My name is salemm \\n father's name'"
   ]
  },
  {
   "cell_type": "code",
   "execution_count": 47,
   "metadata": {},
   "outputs": [
    {
     "data": {
      "text/plain": [
       "\"My name is salemm\\n father's name\""
      ]
     },
     "execution_count": 47,
     "metadata": {},
     "output_type": "execute_result"
    }
   ],
   "source": [
    "name: str = \"My name is salemm\\n father's name\"\n",
    "name"
   ]
  },
  {
   "cell_type": "code",
   "execution_count": 46,
   "metadata": {},
   "outputs": [
    {
     "name": "stdout",
     "output_type": "stream",
     "text": [
      "My name is salemm\n",
      " father's name\n"
     ]
    }
   ],
   "source": [
    "name: str = \"My name is salemm\\n father's name\"\n",
    "print(name)"
   ]
  },
  {
   "cell_type": "code",
   "execution_count": 50,
   "metadata": {},
   "outputs": [
    {
     "name": "stdout",
     "output_type": "stream",
     "text": [
      "My name is salemm\n",
      " father's name\n"
     ]
    }
   ],
   "source": [
    "name: str = 'My name is salemm\\n father\\'s name'\n",
    "print(name)"
   ]
  },
  {
   "cell_type": "code",
   "execution_count": 48,
   "metadata": {},
   "outputs": [
    {
     "name": "stdout",
     "output_type": "stream",
     "text": [
      "My name is \"salemm\"\n",
      " father name\n"
     ]
    }
   ],
   "source": [
    "name: str = 'My name is \"salemm\"\\n father name'\n",
    "print(name)"
   ]
  },
  {
   "cell_type": "code",
   "execution_count": 51,
   "metadata": {},
   "outputs": [
    {
     "data": {
      "text/plain": [
       "'abc'"
      ]
     },
     "execution_count": 51,
     "metadata": {},
     "output_type": "execute_result"
    }
   ],
   "source": [
    "\"a\" + \"b\" + \"c\""
   ]
  },
  {
   "cell_type": "code",
   "execution_count": 54,
   "metadata": {},
   "outputs": [
    {
     "data": {
      "text/plain": [
       "'a7'"
      ]
     },
     "execution_count": 54,
     "metadata": {},
     "output_type": "execute_result"
    }
   ],
   "source": [
    "\"a\" + \"7\""
   ]
  },
  {
   "cell_type": "code",
   "execution_count": 60,
   "metadata": {},
   "outputs": [
    {
     "name": "stdout",
     "output_type": "stream",
     "text": [
      "My name is : saleem\n",
      " MY father name is : GM/n age is : 23\n"
     ]
    }
   ],
   "source": [
    "name : str = \"saleem\"\n",
    "fname:str = \"GM\"\n",
    "age:int = 23\n",
    "\n",
    "print(\"My name is : \" + name + \"\\n MY father name is : \" + fname + \"/n age is : \" + str(age))"
   ]
  },
  {
   "cell_type": "code",
   "execution_count": 61,
   "metadata": {},
   "outputs": [
    {
     "ename": "TypeError",
     "evalue": "can only concatenate str (not \"int\") to str",
     "output_type": "error",
     "traceback": [
      "\u001b[1;31m---------------------------------------------------------------------------\u001b[0m",
      "\u001b[1;31mTypeError\u001b[0m                                 Traceback (most recent call last)",
      "\u001b[1;32mc:\\Users\\saram\\OneDrive\\Desktop\\python\\test\\test.ipynb Cell 33\u001b[0m line \u001b[0;36m5\n\u001b[0;32m      <a href='vscode-notebook-cell:/c%3A/Users/saram/OneDrive/Desktop/python/test/test.ipynb#X46sZmlsZQ%3D%3D?line=1'>2</a>\u001b[0m fname:\u001b[39mstr\u001b[39m \u001b[39m=\u001b[39m \u001b[39m\"\u001b[39m\u001b[39mGM\u001b[39m\u001b[39m\"\u001b[39m\n\u001b[0;32m      <a href='vscode-notebook-cell:/c%3A/Users/saram/OneDrive/Desktop/python/test/test.ipynb#X46sZmlsZQ%3D%3D?line=2'>3</a>\u001b[0m age:\u001b[39mint\u001b[39m \u001b[39m=\u001b[39m \u001b[39m23\u001b[39m\n\u001b[1;32m----> <a href='vscode-notebook-cell:/c%3A/Users/saram/OneDrive/Desktop/python/test/test.ipynb#X46sZmlsZQ%3D%3D?line=4'>5</a>\u001b[0m \u001b[39mprint\u001b[39m(\u001b[39m\"\u001b[39;49m\u001b[39mMy name is : \u001b[39;49m\u001b[39m\"\u001b[39;49m \u001b[39m+\u001b[39;49m name \u001b[39m+\u001b[39;49m \u001b[39m\"\u001b[39;49m\u001b[39m\\n\u001b[39;49;00m\u001b[39m MY father name is : \u001b[39;49m\u001b[39m\"\u001b[39;49m \u001b[39m+\u001b[39;49m fname \u001b[39m+\u001b[39;49m \u001b[39m\"\u001b[39;49m\u001b[39m/n age is : \u001b[39;49m\u001b[39m\"\u001b[39;49m \u001b[39m+\u001b[39;49m age)\n",
      "\u001b[1;31mTypeError\u001b[0m: can only concatenate str (not \"int\") to str"
     ]
    }
   ],
   "source": [
    "name : str = \"saleem\"\n",
    "fname:str = \"GM\"\n",
    "age:int = 23\n",
    "\n",
    "print(\"My name is : \" + name + \"\\n MY father name is : \" + fname + \"/n age is : \" + age)\n"
   ]
  },
  {
   "cell_type": "code",
   "execution_count": 63,
   "metadata": {},
   "outputs": [
    {
     "name": "stdout",
     "output_type": "stream",
     "text": [
      "17\n"
     ]
    }
   ],
   "source": [
    "print(2+\\\n",
    "      8 +\\\n",
    "        7)"
   ]
  },
  {
   "cell_type": "code",
   "execution_count": 75,
   "metadata": {},
   "outputs": [
    {
     "name": "stdout",
     "output_type": "stream",
     "text": [
      "PIAIC Students:\n",
      "student name :saleem \n",
      "age: 30\n",
      "educaion : MA in Arts\n"
     ]
    }
   ],
   "source": [
    "name : str = \"saleem\"\n",
    "education:str = \"MA in Arts\"\n",
    "age:int = 30\n",
    "\n",
    "print(\"PIAIC Students:\\nstudent name :\" + name+\\\n",
    "      \" \\nage: \" + str(age)\\\n",
    "        +\"\\neducaion : \" + education)"
   ]
  },
  {
   "cell_type": "code",
   "execution_count": 77,
   "metadata": {},
   "outputs": [
    {
     "name": "stdout",
     "output_type": "stream",
     "text": [
      "PIAIC Students:\n",
      "    student name :{name}\n",
      "    age:{age}\n",
      "    educaion : {education} \n"
     ]
    }
   ],
   "source": [
    "name : str = \"saleem\"\n",
    "education:str = \"MA in Arts\"\n",
    "age:int = 30\n",
    "\n",
    "print('''PIAIC Students:\n",
    "    student name :{name}\n",
    "    age:{age}\n",
    "    educaion : {education} ''')"
   ]
  },
  {
   "cell_type": "code",
   "execution_count": 80,
   "metadata": {},
   "outputs": [
    {
     "name": "stdout",
     "output_type": "stream",
     "text": [
      "PIAIC Students:\n",
      "    student name :saleem\n",
      "    age:30\n",
      "    educaion : MA in Arts \n",
      "\n",
      "Total = 12\n",
      "\n",
      "\n"
     ]
    }
   ],
   "source": [
    "name : str = \"saleem\"\n",
    "education:str = \"MA in Arts\"\n",
    "age:int = 30\n",
    "\n",
    "print(f'''PIAIC Students:\n",
    "    student name :{name}\n",
    "    age:{age}\n",
    "    educaion : {education} \n",
    "\n",
    "Total = {2 + 4+6}\n",
    "\n",
    "''')"
   ]
  },
  {
   "cell_type": "code",
   "execution_count": 85,
   "metadata": {},
   "outputs": [
    {
     "name": "stdout",
     "output_type": "stream",
     "text": [
      "PIAIC Students:\n",
      "    student name :{{name}}\n",
      "    age:{{age}}\n",
      "    educaion : {{education}}\n",
      "\n",
      "\n",
      "\n",
      "\n"
     ]
    }
   ],
   "source": [
    "name : str = \"saleem\"\n",
    "education:str = \"MA in Arts\"\n",
    "age:int = 30\n",
    "\n",
    "print(\"\"\"PIAIC Students:\n",
    "    student name :{{name}}\n",
    "    age:{{age}}\n",
    "    educaion : {{education}}\n",
    "\n",
    "\n",
    "\n",
    "\"\"\")"
   ]
  },
  {
   "cell_type": "code",
   "execution_count": 87,
   "metadata": {},
   "outputs": [
    {
     "name": "stdout",
     "output_type": "stream",
     "text": [
      "PIAIC Students:\n",
      "    student name :saleem\n",
      "    age:30\n",
      "    educaion : MA in Arts\n",
      "\n"
     ]
    }
   ],
   "source": [
    "name : str = \"saleem\"\n",
    "education:str = \"MA in Arts\"\n",
    "age:int = 30\n",
    "\n",
    "card: str= f\"\"\"PIAIC Students:\n",
    "    student name :{name}\n",
    "    age:{age}\n",
    "    educaion : {education}\n",
    "\"\"\"\n",
    "\n",
    "print(card)"
   ]
  },
  {
   "cell_type": "code",
   "execution_count": 92,
   "metadata": {},
   "outputs": [
    {
     "name": "stdout",
     "output_type": "stream",
     "text": [
      "\n",
      "PIAIC Students:\n",
      "student name :saleem\n",
      "age:30\n",
      "educaion : MA in Arts \n",
      "\n"
     ]
    }
   ],
   "source": [
    "name : str = \"saleem\"\n",
    "education:str = \"MA in Arts\"\n",
    "age:int = 30\n",
    "\n",
    "card: str = \"\"\"\n",
    "PIAIC Students:\n",
    "student name :%s\n",
    "age:%d\n",
    "educaion : %s \n",
    "\"\"\" %(name, age, education )\n",
    "\n",
    "print(card)"
   ]
  },
  {
   "cell_type": "code",
   "execution_count": 94,
   "metadata": {},
   "outputs": [
    {
     "name": "stdout",
     "output_type": "stream",
     "text": [
      "PIAIC Students:\n",
      "    student name :saleem\n",
      "    age:30\n",
      "    educaion : MA in Arts\n",
      "\n"
     ]
    }
   ],
   "source": [
    "name : str = \"saleem\"\n",
    "education:str = \"MA in Arts\"\n",
    "age:int = 30\n",
    "\n",
    "card: str= \"\"\"PIAIC Students:\n",
    "    student name :{}\n",
    "    age:{}\n",
    "    educaion : {}\n",
    "\"\"\".format(name, age, education )\n",
    "\n",
    "print(card)"
   ]
  },
  {
   "cell_type": "code",
   "execution_count": 96,
   "metadata": {},
   "outputs": [
    {
     "name": "stdout",
     "output_type": "stream",
     "text": [
      "PIAIC Students:\n",
      "    student name :saleem\n",
      "    age:30\n",
      "    educaion : MA in Arts\n",
      "\n"
     ]
    }
   ],
   "source": [
    "name : str = \"saleem\"\n",
    "education:str = \"MA in Arts\"\n",
    "age:int = 30\n",
    "\n",
    "card: str= \"\"\"PIAIC Students:\n",
    "    student name :{1}\n",
    "    age:{2}\n",
    "    educaion : {0}\n",
    "\"\"\".format(education ,name, age)\n",
    "\n",
    "print(card)"
   ]
  },
  {
   "cell_type": "code",
   "execution_count": 40,
   "metadata": {},
   "outputs": [
    {
     "name": "stdout",
     "output_type": "stream",
     "text": [
      "PIAIC Students:\n",
      "    student name :saleem\n",
      "    age:30\n",
      "    educaion : MA in Arts\n",
      "\n"
     ]
    }
   ],
   "source": [
    "name : str = \"saleem\"\n",
    "education:str = \"MA in Arts\"\n",
    "age:int = 30\n",
    "\n",
    "card: str= \"\"\"PIAIC Students:\n",
    "    student name :{b}\n",
    "    age:{c}\n",
    "    educaion : {a}\n",
    "\"\"\".format(a= education ,b=name, c = age)\n",
    "\n",
    "print(card)"
   ]
  },
  {
   "cell_type": "code",
   "execution_count": 32,
   "metadata": {},
   "outputs": [
    {
     "data": {
      "text/plain": [
       "'Muhammad                 saleem         Akhtar          '"
      ]
     },
     "metadata": {},
     "output_type": "display_data"
    },
    {
     "data": {
      "text/plain": [
       "'      Muhammad                 saleem         Akhtar'"
      ]
     },
     "metadata": {},
     "output_type": "display_data"
    },
    {
     "data": {
      "text/plain": [
       "'Muhammad                 saleem         Akhtar'"
      ]
     },
     "metadata": {},
     "output_type": "display_data"
    },
    {
     "name": "stdout",
     "output_type": "stream",
     "text": [
      "Muhammad saleem Akhtar\n"
     ]
    }
   ],
   "source": [
    "import re\n",
    "\n",
    "name : str = \"      Muhammad                 saleem         Akhtar          \"\n",
    "\n",
    "display(name.lstrip())\n",
    "display(name.rstrip())\n",
    "display(name.strip())\n",
    "\n",
    "name1 : str = re.sub(' {2,50}', \" \", name).strip()\n",
    "print(name1)"
   ]
  },
  {
   "cell_type": "code",
   "execution_count": 29,
   "metadata": {},
   "outputs": [
    {
     "data": {
      "text/plain": [
       "'nostarch.com'"
      ]
     },
     "execution_count": 29,
     "metadata": {},
     "output_type": "execute_result"
    }
   ],
   "source": [
    "nostarch_url:str = 'https://nostarch.com'\n",
    "nostarch_url.removeprefix(\"https://\")"
   ]
  },
  {
   "cell_type": "code",
   "execution_count": null,
   "metadata": {},
   "outputs": [],
   "source": [
    "names: list[str] = [chr(i) for i in range(65,91)]\n",
    "names"
   ]
  },
  {
   "cell_type": "code",
   "execution_count": 46,
   "metadata": {},
   "outputs": [
    {
     "name": "stdout",
     "output_type": "stream",
     "text": [
      "qasim\n",
      "7\n",
      "3.0\n"
     ]
    }
   ],
   "source": [
    "a, b, c = ('qasim', 7, 3.0)\n",
    "print(a)\n",
    "print(b)\n",
    "print(c)"
   ]
  },
  {
   "cell_type": "code",
   "execution_count": 47,
   "metadata": {},
   "outputs": [
    {
     "name": "stdout",
     "output_type": "stream",
     "text": [
      "qasim\n",
      "7\n",
      "3.0\n"
     ]
    }
   ],
   "source": [
    "a, b, c = ['qasim', 7, 3.0]\n",
    "print(a)\n",
    "print(b)\n",
    "print(c)"
   ]
  },
  {
   "cell_type": "code",
   "execution_count": 52,
   "metadata": {},
   "outputs": [
    {
     "name": "stdout",
     "output_type": "stream",
     "text": [
      "98\n",
      "66\n",
      "b\n",
      "B\n"
     ]
    }
   ],
   "source": [
    "print(ord(\"b\"))\n",
    "print(ord(\"B\"))\n",
    "\n",
    "print(chr(98))\n",
    "print(chr(66))"
   ]
  },
  {
   "cell_type": "markdown",
   "metadata": {},
   "source": [
    "#  -------------------------------------------           List"
   ]
  },
  {
   "cell_type": "code",
   "execution_count": 56,
   "metadata": {},
   "outputs": [
    {
     "name": "stdout",
     "output_type": "stream",
     "text": [
      "['aslam', 'hamza', 'rumaisa', 20, True, 10, 20]\n"
     ]
    }
   ],
   "source": [
    "name = [\"aslam\", \"hamza\", \"rumaisa\", 20, True, 10,20]\n",
    "\n",
    "print(name)"
   ]
  },
  {
   "cell_type": "code",
   "execution_count": 58,
   "metadata": {},
   "outputs": [
    {
     "name": "stdout",
     "output_type": "stream",
     "text": [
      "['aslam', 'hamza', 'rumaisa', 20, True, 10, 20]\n"
     ]
    }
   ],
   "source": [
    "name:list[str| int| bool| float]= [\"aslam\", \"hamza\", \"rumaisa\", 20, True, 10,20]\n",
    "\n",
    "print(name)"
   ]
  },
  {
   "cell_type": "code",
   "execution_count": 60,
   "metadata": {},
   "outputs": [
    {
     "name": "stdout",
     "output_type": "stream",
     "text": [
      "['aslam', 'hamza', 'rumaisa', 20, True, 10.2]\n",
      "<class 'list'>\n"
     ]
    }
   ],
   "source": [
    "name:list[str| int| bool|float]= [\"aslam\", \"hamza\", \"rumaisa\", 20, True, 10.20]\n",
    "\n",
    "print(name)\n",
    "print(type(name))"
   ]
  },
  {
   "cell_type": "code",
   "execution_count": 59,
   "metadata": {},
   "outputs": [
    {
     "name": "stdout",
     "output_type": "stream",
     "text": [
      "['aslam', 'hamza', 'rumaisa', 20, True, 10.2]\n"
     ]
    }
   ],
   "source": [
    "from typing import Any\n",
    "\n",
    "name:list[Any]= [\"aslam\", \"hamza\", \"rumaisa\", 20, True, 10.20]\n",
    "\n",
    "print(name)"
   ]
  },
  {
   "cell_type": "code",
   "execution_count": 62,
   "metadata": {},
   "outputs": [
    {
     "data": {
      "text/plain": [
       "['annnnnnhhtuocnjiuhv']"
      ]
     },
     "metadata": {},
     "output_type": "display_data"
    }
   ],
   "source": [
    "liststr : list[str] = [\"annnnnnhhtuocnjiuhv\"]\n",
    "display(liststr)"
   ]
  },
  {
   "cell_type": "code",
   "execution_count": 64,
   "metadata": {},
   "outputs": [
    {
     "data": {
      "text/plain": [
       "['a', 'n', 'v', 'b', 'f', 'd']"
      ]
     },
     "metadata": {},
     "output_type": "display_data"
    }
   ],
   "source": [
    "liststr : list[str] = list(\"anvbfd\")\n",
    "display(liststr)"
   ]
  },
  {
   "cell_type": "code",
   "execution_count": 69,
   "metadata": {},
   "outputs": [
    {
     "data": {
      "text/plain": [
       "['__add__',\n",
       " '__class__',\n",
       " '__class_getitem__',\n",
       " '__contains__',\n",
       " '__delattr__',\n",
       " '__delitem__',\n",
       " '__dir__',\n",
       " '__doc__',\n",
       " '__eq__',\n",
       " '__format__',\n",
       " '__ge__',\n",
       " '__getattribute__',\n",
       " '__getitem__',\n",
       " '__getstate__',\n",
       " '__gt__',\n",
       " '__hash__',\n",
       " '__iadd__',\n",
       " '__imul__',\n",
       " '__init__',\n",
       " '__init_subclass__',\n",
       " '__iter__',\n",
       " '__le__',\n",
       " '__len__',\n",
       " '__lt__',\n",
       " '__mul__',\n",
       " '__ne__',\n",
       " '__new__',\n",
       " '__reduce__',\n",
       " '__reduce_ex__',\n",
       " '__repr__',\n",
       " '__reversed__',\n",
       " '__rmul__',\n",
       " '__setattr__',\n",
       " '__setitem__',\n",
       " '__sizeof__',\n",
       " '__str__',\n",
       " '__subclasshook__',\n",
       " 'append',\n",
       " 'clear',\n",
       " 'copy',\n",
       " 'count',\n",
       " 'extend',\n",
       " 'index',\n",
       " 'insert',\n",
       " 'pop',\n",
       " 'remove',\n",
       " 'reverse',\n",
       " 'sort']"
      ]
     },
     "execution_count": 69,
     "metadata": {},
     "output_type": "execute_result"
    }
   ],
   "source": [
    "\n",
    "\n",
    "dir(list)"
   ]
  },
  {
   "cell_type": "code",
   "execution_count": 73,
   "metadata": {},
   "outputs": [
    {
     "name": "stdout",
     "output_type": "stream",
     "text": [
      "No Python documentation found for 'reverse'.\n",
      "Use help() to get the interactive help utility.\n",
      "Use help(str) for help on the str class.\n",
      "\n"
     ]
    }
   ],
   "source": [
    "help(\"reverse\")"
   ]
  },
  {
   "cell_type": "code",
   "execution_count": 76,
   "metadata": {},
   "outputs": [
    {
     "name": "stdout",
     "output_type": "stream",
     "text": [
      "['a', 'b', 'c', 'd']\n",
      "['Qasim', 'a', 'b', 'c', 'd']\n"
     ]
    }
   ],
   "source": [
    "names : list[str] = ['a','b','c','d']\n",
    "\n",
    "print(names)\n",
    "\n",
    "names.insert(0,\"Qasim\") # insert on perticular postion\n",
    "\n",
    "print(names)"
   ]
  },
  {
   "cell_type": "code",
   "execution_count": 1,
   "metadata": {},
   "outputs": [
    {
     "name": "stdout",
     "output_type": "stream",
     "text": [
      "Valid User qasim\n"
     ]
    }
   ],
   "source": [
    "data_base : list[tuple[str,str]] = [(\"qasim\",'123'),\n",
    "                                    (\"sirzia\",'345'),\n",
    "                                    ('ikhlas','789')\n",
    "                                    ]\n",
    "input_user : str = input(\"Enter user name\")\n",
    "input_password : str = input(\"Enter user password\")\n",
    "\n",
    "\n",
    "\n",
    "for row in data_base:\n",
    "    user, password = row\n",
    "    if input_user == user and input_password == password:\n",
    "        print(f\"Valid User {user}\")\n",
    "        break\n",
    "else:\n",
    "    print(\"Not found or Invalid user name\")"
   ]
  },
  {
   "cell_type": "code",
   "execution_count": 6,
   "metadata": {},
   "outputs": [
    {
     "name": "stdout",
     "output_type": "stream",
     "text": [
      "Sir Zia\n",
      "Muhammad Qasim\n",
      "DR Noman\n",
      "Hello world\n"
     ]
    }
   ],
   "source": [
    "names:list[str] = ['Sir Zia', \"Muhammad Qasim\", \"DR Noman\"]\n",
    "\n",
    "for i in names:\n",
    "    print(i)\n",
    "   \n",
    "else:\n",
    "    print(\"Hello world\")"
   ]
  },
  {
   "cell_type": "code",
   "execution_count": 9,
   "metadata": {},
   "outputs": [
    {
     "name": "stdout",
     "output_type": "stream",
     "text": [
      "DR Noman\n",
      "Sir Zia\n",
      "Muhammad Qasim\n",
      "Hello world\n"
     ]
    }
   ],
   "source": [
    "names: list[str] = [ \"DR Noman\", 'Sir Zia', \"Muhammad Qasim\"]\n",
    "\n",
    "for i in names:\n",
    "    \n",
    "    print(i)\n",
    "else:\n",
    "    print(\"Hello world\")\n"
   ]
  },
  {
   "cell_type": "code",
   "execution_count": 13,
   "metadata": {},
   "outputs": [
    {
     "data": {
      "text/plain": [
       "[(0, 'alice'), (1, 'david'), (2, 'carolina')]"
      ]
     },
     "execution_count": 13,
     "metadata": {},
     "output_type": "execute_result"
    }
   ],
   "source": [
    "magicians = ['alice', 'david', 'carolina']\n",
    "\n",
    "list(enumerate(magicians))\n"
   ]
  },
  {
   "cell_type": "code",
   "execution_count": 17,
   "metadata": {},
   "outputs": [
    {
     "name": "stdout",
     "output_type": "stream",
     "text": [
      "['pizza', 'falafel', 'carrot cake']\n",
      "['pizza', 'falafel', 'carrot cake']\n",
      "['pizza', 'falafel', 'carrot cake']\n",
      "['Tikka', 'falafel', 'carrot cake']\n"
     ]
    }
   ],
   "source": [
    "my_foods = ['pizza', 'falafel', 'carrot cake'] \n",
    "friend_foods = my_foods[:]# deep copy\n",
    "\n",
    "print(my_foods)\n",
    "print(friend_foods)\n",
    "\n",
    "friend_foods[0] = \"Tikka\"\n",
    "\n",
    "print(my_foods)\n",
    "print(friend_foods)"
   ]
  },
  {
   "cell_type": "code",
   "execution_count": 23,
   "metadata": {},
   "outputs": [
    {
     "data": {
      "text/plain": [
       "['Audi', 'BMW', 'Subaru', 'Toyota']"
      ]
     },
     "execution_count": 23,
     "metadata": {},
     "output_type": "execute_result"
    }
   ],
   "source": [
    "cars : list[str] = ['audi', 'bmw', 'subaru', 'toyota']\n",
    "\n",
    "[i.upper() if i=='bmw' else i.title() for i in cars]"
   ]
  },
  {
   "cell_type": "code",
   "execution_count": 26,
   "metadata": {},
   "outputs": [
    {
     "name": "stdout",
     "output_type": "stream",
     "text": [
      "[1, 2, 3, 7]\n",
      "7\n"
     ]
    }
   ],
   "source": [
    "data: set = {7, 1, 2, 1, 1, 1, 1, 3, 2}\n",
    "\n",
    "# Convert the set to a list to access elements by index\n",
    "data_list = list(data)\n",
    "print(data_list)\n",
    "# Access the first element (unique in a set, but order is not guaranteed)\n",
    "print(data_list[3])\n"
   ]
  },
  {
   "cell_type": "code",
   "execution_count": 5,
   "metadata": {},
   "outputs": [
    {
     "name": "stdout",
     "output_type": "stream",
     "text": [
      "value from list of set : 1 \n",
      "value from list of set : 2 \n",
      "value from list of set : 3 \n",
      "value from list of set : 4 \n"
     ]
    }
   ],
   "source": [
    "#                     \n",
    "l1 : list[set[int]] = list({1,2,3,4,1,1,1,1})\n",
    "\n",
    "for k in l1:\n",
    "    print(f\"value from list of set : {k} \")"
   ]
  },
  {
   "cell_type": "code",
   "execution_count": 8,
   "metadata": {},
   "outputs": [
    {
     "name": "stdout",
     "output_type": "stream",
     "text": [
      "write quite or exit to stop this program\n",
      "write quite or exit to stop this program\n",
      "write quite or exit to stop this program\n",
      "write quite or exit to stop this program\n",
      "write quite or exit to stop this program\n",
      "write quite or exit to stop this program\n",
      "write quite or exit to stop this program\n",
      "write quite or exit to stop this program\n",
      "write quite or exit to stop this program\n"
     ]
    },
    {
     "data": {
      "text/plain": [
       "[{'name': 'a', 'education': 'f'},\n",
       " {'name': 'c', 'education': 'b'},\n",
       " {'name': 'g', 'education': 'g'},\n",
       " {'name': 'g', 'education': 'y'},\n",
       " {'name': 'u', 'education': 'i'},\n",
       " {'name': 'f', 'education': 'j'},\n",
       " {'name': 'v', 'education': 'n'},\n",
       " {'name': 't', 'education': 'u'}]"
      ]
     },
     "metadata": {},
     "output_type": "display_data"
    }
   ],
   "source": [
    "data : list[dict[str,str]] = []\n",
    "\n",
    "flag : bool = True\n",
    "\n",
    "while flag:\n",
    "    print(\"write quite or exit to stop this program\")\n",
    "    name : str = input (\"Your good name ? \\t:\")\n",
    "    eduction: str = input(\"Your last education? \\t\")\n",
    "\n",
    "    if name in ['exit','quite','close','stop'] or eduction  in ['exit','quite','close','stop']:\n",
    "        flag=False\n",
    "        break\n",
    "    data.append({\"name\":name,\n",
    "                 \"education\": eduction})\n",
    "\n",
    "display(data)"
   ]
  },
  {
   "cell_type": "code",
   "execution_count": 10,
   "metadata": {},
   "outputs": [
    {
     "ename": "NameError",
     "evalue": "name 'b' is not defined",
     "output_type": "error",
     "traceback": [
      "\u001b[1;31m---------------------------------------------------------------------------\u001b[0m",
      "\u001b[1;31mNameError\u001b[0m                                 Traceback (most recent call last)",
      "\u001b[1;32mc:\\Users\\saram\\OneDrive\\Desktop\\python\\test\\test.ipynb Cell 69\u001b[0m line \u001b[0;36m3\n\u001b[0;32m      <a href='vscode-notebook-cell:/c%3A/Users/saram/OneDrive/Desktop/python/test/test.ipynb#Y125sZmlsZQ%3D%3D?line=0'>1</a>\u001b[0m a \u001b[39m=\u001b[39m \u001b[39m10\u001b[39m\n\u001b[1;32m----> <a href='vscode-notebook-cell:/c%3A/Users/saram/OneDrive/Desktop/python/test/test.ipynb#Y125sZmlsZQ%3D%3D?line=2'>3</a>\u001b[0m \u001b[39mwhile\u001b[39;00m b:\n\u001b[0;32m      <a href='vscode-notebook-cell:/c%3A/Users/saram/OneDrive/Desktop/python/test/test.ipynb#Y125sZmlsZQ%3D%3D?line=3'>4</a>\u001b[0m     \u001b[39mprint\u001b[39m(\u001b[39m\"\u001b[39m\u001b[39mabc\u001b[39m\u001b[39m\"\u001b[39m)\n\u001b[0;32m      <a href='vscode-notebook-cell:/c%3A/Users/saram/OneDrive/Desktop/python/test/test.ipynb#Y125sZmlsZQ%3D%3D?line=4'>5</a>\u001b[0m     \u001b[39mbreak\u001b[39;00m\n",
      "\u001b[1;31mNameError\u001b[0m: name 'b' is not defined"
     ]
    }
   ],
   "source": [
    "a = 10\n",
    "\n",
    "while a:\n",
    "    print(\"abc\")\n",
    "    break"
   ]
  },
  {
   "cell_type": "code",
   "execution_count": 14,
   "metadata": {},
   "outputs": [
    {
     "name": "stdout",
     "output_type": "stream",
     "text": [
      "12\n"
     ]
    }
   ],
   "source": [
    "result: int = len(\"Hello World!\")\n",
    "print(result)  # Output: 12"
   ]
  },
  {
   "cell_type": "code",
   "execution_count": 17,
   "metadata": {},
   "outputs": [
    {
     "name": "stdout",
     "output_type": "stream",
     "text": [
      "<class 'function'>\n"
     ]
    },
    {
     "data": {
      "text/plain": [
       "['__annotations__',\n",
       " '__builtins__',\n",
       " '__call__',\n",
       " '__class__',\n",
       " '__closure__',\n",
       " '__code__',\n",
       " '__defaults__',\n",
       " '__delattr__',\n",
       " '__dict__',\n",
       " '__dir__',\n",
       " '__doc__',\n",
       " '__eq__',\n",
       " '__format__',\n",
       " '__ge__',\n",
       " '__get__',\n",
       " '__getattribute__',\n",
       " '__getstate__',\n",
       " '__globals__',\n",
       " '__gt__',\n",
       " '__hash__',\n",
       " '__init__',\n",
       " '__init_subclass__',\n",
       " '__kwdefaults__',\n",
       " '__le__',\n",
       " '__lt__',\n",
       " '__module__',\n",
       " '__name__',\n",
       " '__ne__',\n",
       " '__new__',\n",
       " '__qualname__',\n",
       " '__reduce__',\n",
       " '__reduce_ex__',\n",
       " '__repr__',\n",
       " '__setattr__',\n",
       " '__sizeof__',\n",
       " '__str__',\n",
       " '__subclasshook__',\n",
       " '__type_params__']"
      ]
     },
     "execution_count": 17,
     "metadata": {},
     "output_type": "execute_result"
    }
   ],
   "source": [
    "from typing import Callable\n",
    "\n",
    "square: Callable[[int], int] = lambda x: x * x\n",
    "print(type(square))\n",
    "\n",
    "\n",
    "\n",
    "square(5)\n",
    "dir(square)"
   ]
  },
  {
   "cell_type": "markdown",
   "metadata": {},
   "source": [
    "\"\"\"\n",
    "Factorial Function Call (factorial(5)):\n",
    "\n",
    "n is 5, which is not equal to 0.\n",
    "The else branch is executed, and it returns 5 * factorial(4).\n",
    "Nested Factorial Function Call (factorial(4)):\n",
    "\n",
    "n is 4, which is not equal to 0.\n",
    "The else branch is executed, and it returns 4 * factorial(3).\n",
    "Nested Factorial Function Call (factorial(3)):\n",
    "\n",
    "n is 3, which is not equal to 0.\n",
    "The else branch is executed, and it returns 3 * factorial(2).\n",
    "Nested Factorial Function Call (factorial(2)):\n",
    "\n",
    "n is 2, which is not equal to 0.\n",
    "The else branch is executed, and it returns 2 * factorial(1).\n",
    "Nested Factorial Function Call (factorial(1)):\n",
    "\n",
    "n is 1, which is not equal to 0.\n",
    "The else branch is executed, and it returns 1 * factorial(0).\n",
    "Nested Factorial Function Call (factorial(0)):\n",
    "\n",
    "n is 0.\n",
    "The base case is triggered, and it returns 1.\n",
    "Now, the recursive calls start to unwind:\n",
    "\n",
    "factorial(1) returns 1 * 1 = 1.\n",
    "factorial(2) returns 2 * 1 = 2.\n",
    "factorial(3) returns 3 * 2 = 6.\n",
    "factorial(4) returns 4 * 6 = 24.\n",
    "factorial(5) returns 5 * 24 = 120.\n",
    "\"\"\""
   ]
  },
  {
   "cell_type": "code",
   "execution_count": 1,
   "metadata": {},
   "outputs": [
    {
     "name": "stdout",
     "output_type": "stream",
     "text": [
      "7\n"
     ]
    }
   ],
   "source": [
    "\n",
    "from typing import Callable\n",
    "\n",
    "add:Callable[[int, int], int] = lambda x, y: x + y\n",
    "\n",
    "print(add(3,4))\n",
    "\n"
   ]
  },
  {
   "cell_type": "code",
   "execution_count": 4,
   "metadata": {},
   "outputs": [
    {
     "data": {
      "text/plain": [
       "[2, 4, 6, 8, 10]"
      ]
     },
     "execution_count": 4,
     "metadata": {},
     "output_type": "execute_result"
    }
   ],
   "source": [
    "data = [1,2,3,4,5,6,7,8,9,10]\n",
    "\n",
    "data = list(filter(lambda x:x%2==0 ,data))\n",
    "\n",
    "data"
   ]
  },
  {
   "cell_type": "code",
   "execution_count": 13,
   "metadata": {},
   "outputs": [
    {
     "name": "stdout",
     "output_type": "stream",
     "text": [
      "<generator object my_range at 0x0000020E5566AF20>\n",
      "1\n",
      "2\n",
      "------------------------------\n",
      "[3, 4, 5, 6, 7, 8, 9, 10, 11]\n"
     ]
    }
   ],
   "source": [
    "from collections.abc import Iterator\n",
    "\n",
    "def my_range(start:int, end:int, step:int)->Iterator[int]:\n",
    "    for i in range(start, end+1, step):\n",
    "        yield i\n",
    "\n",
    "my_fun:Iterator[int] = my_range(1,11, 1)\n",
    "print(my_fun)\n",
    "print(next(my_fun))\n",
    "print(next(my_fun))\n",
    "print(\"------------------------------\")\n",
    "\n",
    "print(list(my_fun))\n",
    "\n"
   ]
  },
  {
   "cell_type": "code",
   "execution_count": 12,
   "metadata": {},
   "outputs": [
    {
     "name": "stdout",
     "output_type": "stream",
     "text": [
      "Hello dear Monica\n",
      "Hello dear Luke\n",
      "Hello dear Steve\n",
      "Hello dear John\n",
      "Hello dear Sir Zia\n",
      "Hello dear Muhammad Qasim\n"
     ]
    }
   ],
   "source": [
    "from typing import Tuple\n",
    "\n",
    "def my_greet(*names)->None:\n",
    "    for name in names:\n",
    "        print(\"Hello dear\", name)\n",
    "\n",
    "my_greet(\"Monica\", \"Luke\", \"Steve\", \"John\",\"Sir Zia\", \"Muhammad Qasim\")  "
   ]
  },
  {
   "cell_type": "code",
   "execution_count": 25,
   "metadata": {},
   "outputs": [
    {
     "name": "stdout",
     "output_type": "stream",
     "text": [
      "Hello Monica\n",
      "Hello Luke\n",
      "Hello Steve\n",
      "Hello John\n",
      "Hello Sir Zia\n",
      "Hello Muhammad Qasim\n"
     ]
    }
   ],
   "source": [
    "from typing import Tuple\n",
    "\n",
    "def greet(*names) -> None:\n",
    "    \"\"\"\n",
    "    This function greets all persons in the names tuple.\n",
    "    \"\"\"\n",
    "    for name in names:\n",
    "        print(\"Hello\", name)\n",
    "\n",
    "greet(\"Monica\", \"Luke\", \"Steve\", \"John\",\"Sir Zia\", \"Muhammad Qasim\")"
   ]
  },
  {
   "cell_type": "code",
   "execution_count": 31,
   "metadata": {},
   "outputs": [
    {
     "name": "stdout",
     "output_type": "stream",
     "text": [
      "{'a': 'saleem', 'b': 'ahmad'}\n"
     ]
    }
   ],
   "source": [
    "\n",
    "\n",
    "\n",
    "def greet(**xyz)->None:\n",
    "    print(xyz)\n",
    "\n",
    "\n",
    "greet(a = \"saleem\", b = \"ahmad\") \n"
   ]
  },
  {
   "cell_type": "code",
   "execution_count": 32,
   "metadata": {},
   "outputs": [
    {
     "name": "stdout",
     "output_type": "stream",
     "text": [
      "Before function call: 2260587385984\n",
      "Inside function (before modification): 2260587385984\n",
      "Inside function (after modification): 2260587385984\n",
      "After function call: 2260587385984\n"
     ]
    }
   ],
   "source": [
    "def modify_list(lst: list):\n",
    "    print(\"Inside function (before modification):\", id(lst))\n",
    "    lst.append(4)\n",
    "    print(\"Inside function (after modification):\", id(lst))\n",
    "\n",
    "my_list = [1, 2, 3]\n",
    "print(\"Before function call:\", id(my_list))\n",
    "modify_list(my_list)\n",
    "print(\"After function call:\", id(my_list))"
   ]
  },
  {
   "cell_type": "code",
   "execution_count": 40,
   "metadata": {},
   "outputs": [
    {
     "name": "stdout",
     "output_type": "stream",
     "text": [
      "list index out of range\n"
     ]
    }
   ],
   "source": [
    "try:\n",
    "    my_list = [1, 2, 3]\n",
    "    print(my_list[3])  # This will raise an IndexError\n",
    "except IndexError as e:\n",
    "    print(e)"
   ]
  },
  {
   "cell_type": "code",
   "execution_count": 44,
   "metadata": {},
   "outputs": [
    {
     "name": "stdout",
     "output_type": "stream",
     "text": [
      "Division successful: 2.0\n",
      "This block is always executed\n"
     ]
    }
   ],
   "source": [
    "try:\n",
    "    numerator = 10\n",
    "    denominator = 5\n",
    "    result = numerator / denominator\n",
    "except ZeroDivisionError as e:\n",
    "    print(\"Caught a ZeroDivisionError:\", str(e))\n",
    "else:\n",
    "    print(\"Division successful:\", result)\n",
    "finally:\n",
    "    print(\"This block is always executed\")"
   ]
  },
  {
   "cell_type": "code",
   "execution_count": 48,
   "metadata": {},
   "outputs": [
    {
     "name": "stdout",
     "output_type": "stream",
     "text": [
      "2260604893696\n",
      "2260604895040\n",
      "['a', 'b', 'c', 'd']\n",
      "2260604417088\n"
     ]
    }
   ],
   "source": [
    "a : list[str] = ['a','b'] # mutable\n",
    "b : list[str] = ['c','d'] # mutable\n",
    "\n",
    "print(id(a))\n",
    "print(id(b))\n",
    "\n",
    "c = a + b\n",
    "print(c)\n",
    "print(id(c))\n"
   ]
  },
  {
   "cell_type": "code",
   "execution_count": 51,
   "metadata": {},
   "outputs": [
    {
     "name": "stdout",
     "output_type": "stream",
     "text": [
      "140715754801720\n",
      "140715754801720\n",
      "140715754801752\n",
      "num_b: 5\n",
      "num_a: 6\n"
     ]
    }
   ],
   "source": [
    "num_a:int = 5\n",
    "print(id(num_a))\n",
    "num_b = num_a\n",
    "print(id(num_b))\n",
    "num_a = num_a + 1\n",
    "print(id(num_a))\n",
    "print(\"num_b:\", num_b) # Output: num_b: 5\n",
    "print(\"num_a:\", num_a)"
   ]
  },
  {
   "cell_type": "code",
   "execution_count": 54,
   "metadata": {},
   "outputs": [
    {
     "name": "stdout",
     "output_type": "stream",
     "text": [
      "logic1\n",
      "logic2\n",
      "2.5\n",
      "1\n",
      "Some thing is wrong!\n",
      "logic4\n",
      "logic5\n"
     ]
    }
   ],
   "source": [
    "print(\"logic1\")\n",
    "print(\"logic2\")\n",
    "\n",
    "l1 : list[int] = [1,2,3]\n",
    "\n",
    "try:\n",
    "    print(5/2)\n",
    "    print(l1[0])\n",
    "    \n",
    "    open(\"aa.txt\")\n",
    "except (ZeroDivisionError):\n",
    "    print(\"Zerro Division Error!\")\n",
    "except IndexError:\n",
    "    print(\"Index Error\")\n",
    "except NameError:\n",
    "    print(\"Name not defined\")\n",
    "except:\n",
    "    print(\"Some thing is wrong!\")\n",
    "\n",
    "\n",
    "print(\"logic4\")\n",
    "print(\"logic5\")"
   ]
  },
  {
   "cell_type": "markdown",
   "metadata": {},
   "source": [
    "# OOP Concepts"
   ]
  },
  {
   "cell_type": "code",
   "execution_count": 7,
   "metadata": {},
   "outputs": [
    {
     "name": "stdout",
     "output_type": "stream",
     "text": [
      "My car has silver Color and modal is 2019\n",
      "{'__module__': '__main__', '__doc__': 'the purpose of this class is to show the specs of class', '__init__': <function MYCar.__init__ at 0x000001E029D8E0C0>, 'brak': <function MYCar.brak at 0x000001E029D8E160>, '__dict__': <attribute '__dict__' of 'MYCar' objects>, '__weakref__': <attribute '__weakref__' of 'MYCar' objects>}\n",
      "MYCar\n",
      "__main__\n",
      "the purpose of this class is to show the specs of class\n",
      "True\n"
     ]
    }
   ],
   "source": [
    "class MYCar:\n",
    "\n",
    "    '''the purpose of this class is to show the specs of class'''\n",
    "    # constructor /method   \n",
    "    def __init__(self, color:str, modal:int) -> None:\n",
    "        # instance variable\n",
    "        self.color:str = color \n",
    "        # instance variable\n",
    "        self.modal:int = modal\n",
    "        \n",
    "    # instance methods\n",
    "    def brak(self)->None:\n",
    "        print(f\"My car has {self.color} Color and modal is {self.modal}\")\n",
    "\n",
    "\n",
    "suzuki:MYCar = MYCar(\"silver\", 2019)#  constructor is used to initialized the object and memory is allocated\n",
    "suzuki.brak()\n",
    "\n",
    "\n",
    "# builtin functions of class\n",
    "print(MYCar.__dict__)# about class all methods and attributes\n",
    "print(MYCar.__name__)# name of class\n",
    "print(MYCar.__module__)# in which module class is present\n",
    "print(MYCar.__doc__)\n",
    "print(isinstance(suzuki, MYCar)) # it will check suzuki obj is in class Mycar & it will return true or false, \n"
   ]
  },
  {
   "cell_type": "code",
   "execution_count": 8,
   "metadata": {},
   "outputs": [
    {
     "name": "stdout",
     "output_type": "stream",
     "text": [
      "MYCar\n"
     ]
    }
   ],
   "source": [
    "print(MYCar.__name__)"
   ]
  },
  {
   "cell_type": "code",
   "execution_count": 24,
   "metadata": {},
   "outputs": [
    {
     "name": "stdout",
     "output_type": "stream",
     "text": [
      "My car has silver Color and modal is 2019\n",
      "1235555\n",
      "1235555\n",
      "1111111111\n",
      "37777777\n",
      "{'color': 'silver', 'modal': 2019, 'engine_no': 37777777}\n"
     ]
    },
    {
     "data": {
      "text/plain": [
       "333333333333"
      ]
     },
     "execution_count": 24,
     "metadata": {},
     "output_type": "execute_result"
    }
   ],
   "source": [
    "class MYCar:\n",
    "    '''the purpose of this class is to show the specs of class'''\n",
    "\n",
    "    # class variable\n",
    "    engine_no = 1235555\n",
    "\n",
    "    # constructor /method   \n",
    "    def __init__(self, color:str, modal:int) -> None:\n",
    "        # instance variable\n",
    "        self.color:str = color \n",
    "        # instance variable\n",
    "        self.modal:int = modal\n",
    "        \n",
    "    # instance methods\n",
    "    def brak(self)->None:\n",
    "        print(f\"My car has {self.color} Color and modal is {self.modal}\")\n",
    "\n",
    "    # class variable are modified in class method\n",
    "    @classmethod  # decorator is used to represent the class method\n",
    "    def cls_engine_no(cls):\n",
    "        state = cls.engine_no = 333333333333\n",
    "        return state\n",
    "\n",
    "suzuki:MYCar = MYCar(\"silver\", 2019)   # constructor is used to initialized the object and memory is allocated\n",
    "suzuki.brak()\n",
    "print(suzuki.engine_no) # class variable can be accessed by object reference but not modified\n",
    "print(MYCar.engine_no) # class variable can also  be accessed by class reference also modified\n",
    "\n",
    "MYCar.engine_no = 1111111111  # class variable is modified by class refrence or class method only\n",
    "print(MYCar.engine_no)\n",
    "\n",
    "suzuki.engine_no  = 37777777  # object ref will not modify the class variable but creates new instance variable\n",
    "print(suzuki.engine_no)\n",
    "print(suzuki.__dict__)\n",
    "\n",
    "MYCar.cls_engine_no()"
   ]
  },
  {
   "cell_type": "code",
   "execution_count": 29,
   "metadata": {},
   "outputs": [
    {
     "name": "stdout",
     "output_type": "stream",
     "text": [
      "80000.0\n"
     ]
    }
   ],
   "source": [
    "# staticmethod performs operations on external data(neither in class nor in object)\n",
    "# it can also perform operations on static variable which is class variables\n",
    "\n",
    "class Ubl:\n",
    "    # class variable or static variable\n",
    "    rate_of_interest = 5\n",
    "\n",
    "\n",
    "    @staticmethod\n",
    "    def calcuate_interest(p, i):# self or cls keywords are not used\n",
    "        si = p * i * Ubl.rate_of_interest/100\n",
    "        print(si)\n",
    "\n",
    "Ubl.calcuate_interest(200000, 8) # static method only access class name with staticmethod"
   ]
  },
  {
   "cell_type": "code",
   "execution_count": 28,
   "metadata": {},
   "outputs": [
    {
     "name": "stdout",
     "output_type": "stream",
     "text": [
      "my name is  saleem\n",
      "{'__module__': '__main__', 'setName': <function Employee.setName at 0x000001E029D8DC60>, 'getName': <function Employee.getName at 0x000001E029D8ECA0>, '__dict__': <attribute '__dict__' of 'Employee' objects>, '__weakref__': <attribute '__weakref__' of 'Employee' objects>, '__doc__': None}\n"
     ]
    }
   ],
   "source": [
    "class Employee:\n",
    "\n",
    "    # setter method to set the instance variable\n",
    "    def setName(self, name):\n",
    "        self.name = name\n",
    "    # getter method to get the value of instance variable\n",
    "    def getName(self):\n",
    "        print(\"my name is \", self.name)\n",
    "\n",
    "e1:Employee = Employee()\n",
    "e1.setName(\"saleem\")# set the value \n",
    "e1.getName()\n",
    "\n",
    "print(Employee.__dict__)"
   ]
  },
  {
   "cell_type": "markdown",
   "metadata": {},
   "source": [
    "# Inheritance\n",
    "\n",
    "* for code reusability"
   ]
  },
  {
   "cell_type": "code",
   "execution_count": 35,
   "metadata": {},
   "outputs": [
    {
     "name": "stdout",
     "output_type": "stream",
     "text": [
      "5000\n",
      "this is child class method\n",
      "10000\n",
      "this is a parent class method\n"
     ]
    }
   ],
   "source": [
    "# parent class\n",
    "class Employee(object): # all classes are inherited by default fron object class\n",
    "    bonus = 10000\n",
    "\n",
    "    def display(self):\n",
    "        print(\"this is a parent class method\")\n",
    "\n",
    "# child class has own variable and methods as well as parent class\n",
    "class Manager(Employee):\n",
    "    bonus1 = 5000\n",
    "\n",
    "    def show(self):\n",
    "        print(\"this is child class method\")\n",
    "\n",
    "\n",
    "\n",
    "e:Employee = Employee()\n",
    "m:Manager = Manager()\n",
    "print(m.bonus1)#child class variable\n",
    "m.show()#child class method\n",
    "print(m.bonus) # parent class variable is accessed by child class\n",
    "m.display()#parent class nethod is accessed by child class"
   ]
  },
  {
   "cell_type": "code",
   "execution_count": 38,
   "metadata": {},
   "outputs": [
    {
     "name": "stdout",
     "output_type": "stream",
     "text": [
      "father class constructor is called\n",
      "{'vehicle': 'Motorcycle'}\n"
     ]
    }
   ],
   "source": [
    "# constructor in parent class but not in child class\n",
    "\n",
    "class Father:\n",
    "    def __init__(self) -> None:\n",
    "        print(\"father class constructor is called\")\n",
    "        self.vehicle = \"Motorcycle\"\n",
    "\n",
    "\n",
    "# when child class has no constructor then father class constructor is called by default\n",
    "class Son(Father):\n",
    "    pass\n",
    "\n",
    "son:Son = Son()\n",
    "\n",
    "print(son.__dict__)"
   ]
  },
  {
   "cell_type": "code",
   "execution_count": 40,
   "metadata": {},
   "outputs": [
    {
     "name": "stdout",
     "output_type": "stream",
     "text": [
      "son class constructor is called\n",
      "{'vehicle': 'Bmw'}\n"
     ]
    }
   ],
   "source": [
    "# constructor in parent class but also in child class\n",
    "# constructor over-riding\n",
    "\n",
    "class Father:\n",
    "    def __init__(self) -> None:\n",
    "        print(\"father class constructor is called\")\n",
    "        self.vehicle = \"Motorcycle\"\n",
    "\n",
    "\n",
    "# when constructor is available in both classes  then child  class constructor is called\n",
    "# the priority would be given to child class , first search into the child class if not avaialable then search into parent class\n",
    "class Son(Father):\n",
    "    def __init__(self) -> None:\n",
    "        print(\"son class constructor is called\")\n",
    "        self.vehicle = \"Bmw\"\n",
    "\n",
    "son:Son = Son()\n",
    "\n",
    "print(son.__dict__)"
   ]
  },
  {
   "cell_type": "code",
   "execution_count": 43,
   "metadata": {},
   "outputs": [
    {
     "name": "stdout",
     "output_type": "stream",
     "text": [
      "father class constructor is called\n",
      "son class constructor is called\n",
      "{'bike': 'Motorcycle', 'vehicle': 'Bmw'}\n"
     ]
    }
   ],
   "source": [
    "# super() method\n",
    "class Father:\n",
    "    def __init__(self) -> None:\n",
    "       self.bike = \"Motorcycle\"\n",
    "       print(\"father class constructor is called\")\n",
    "\n",
    "\n",
    "class Son(Father):\n",
    "    def __init__(self) -> None:\n",
    "        super().__init__() # parent class properties are accessed by using super method\n",
    "        print(\"son class constructor is called\")\n",
    "        self.vehicle = \"Bmw\"\n",
    "\n",
    "son:Son = Son()\n",
    "\n",
    "print(son.__dict__)"
   ]
  },
  {
   "cell_type": "code",
   "execution_count": 48,
   "metadata": {},
   "outputs": [
    {
     "name": "stdout",
     "output_type": "stream",
     "text": [
      "father class constructor is called\n",
      "son class constructor is called\n",
      "{'name': 'saleem', 'age': 21, 'bike': 'Motorcycle', 'vehicle': 'Bmw'}\n"
     ]
    }
   ],
   "source": [
    "# super() method\n",
    "class Father:\n",
    "    def __init__(self, name, age) -> None:\n",
    "       self.name = name\n",
    "       self.age =age\n",
    "       self.bike = \"Motorcycle\"\n",
    "       print(\"father class constructor is called\")\n",
    "\n",
    "\n",
    "class Son(Father):\n",
    "    def __init__(self) -> None:\n",
    "        super().__init__(\"saleem\", 21) # parent class properties are accessed by using super method\n",
    "        print(\"son class constructor is called\")\n",
    "        self.vehicle = \"Bmw\"\n",
    "\n",
    "son:Son = Son()\n",
    "\n",
    "print(son.__dict__)"
   ]
  },
  {
   "cell_type": "code",
   "execution_count": 46,
   "metadata": {},
   "outputs": [
    {
     "name": "stdout",
     "output_type": "stream",
     "text": [
      "father class constructor is called\n",
      "son class constructor is called\n",
      "{'name': 'saleem', 'age': 43, 'bike': 'Motorcycle', 'vehicle': 'Bmw'}\n"
     ]
    }
   ],
   "source": [
    "# super() method\n",
    "class Father:\n",
    "    def __init__(self, name, age) -> None:\n",
    "       self.name = name\n",
    "       self.age =age\n",
    "       self.bike = \"Motorcycle\"\n",
    "       print(\"father class constructor is called\")\n",
    "\n",
    "\n",
    "class Son(Father):\n",
    "    def __init__(self, name, age) -> None:\n",
    "        super().__init__(name, age) # parent class properties are accessed by using super method\n",
    "        print(\"son class constructor is called\")\n",
    "        self.vehicle = \"Bmw\"\n",
    "\n",
    "son:Son = Son(\"saleem\", 43)\n",
    "\n",
    "print(son.__dict__)"
   ]
  },
  {
   "cell_type": "code",
   "execution_count": null,
   "metadata": {},
   "outputs": [],
   "source": []
  },
  {
   "cell_type": "code",
   "execution_count": 50,
   "metadata": {},
   "outputs": [
    {
     "name": "stdout",
     "output_type": "stream",
     "text": [
      "this parent class method\n",
      "son class constructor is called\n",
      "{'vehicle': 'Bmw'}\n"
     ]
    }
   ],
   "source": [
    "# super() method\n",
    "class Father:\n",
    "    def __init__(self, name, age) -> None:\n",
    "       self.name = name\n",
    "       self.age =age\n",
    "       self.bike = \"Motorcycle\"\n",
    "       print(\"father class constructor is called\")\n",
    "\n",
    "    def display(self):\n",
    "        print(\"this is parent class method\")\n",
    "\n",
    "\n",
    "class Son(Father):\n",
    "    def __init__(self) -> None:\n",
    "        super().display() # parent class properties are accessed by using super method\n",
    "        print(\"son class constructor is called\")\n",
    "        self.vehicle = \"Bmw\"\n",
    "\n",
    "son:Son = Son()\n",
    "\n",
    "print(son.__dict__)"
   ]
  },
  {
   "cell_type": "code",
   "execution_count": null,
   "metadata": {},
   "outputs": [],
   "source": [
    "# single and multi-level inheritance\n",
    "# single inheritance class contains one parent and one child class\n",
    "            # object class ----> parent class -----> child class"
   ]
  },
  {
   "cell_type": "code",
   "execution_count": 51,
   "metadata": {},
   "outputs": [
    {
     "data": {
      "text/plain": [
       "1000"
      ]
     },
     "execution_count": 51,
     "metadata": {},
     "output_type": "execute_result"
    }
   ],
   "source": [
    "# multi-level inheritance\n",
    "#  object class ----> parent class -----> child class---> grandchild class\n",
    "\n",
    "class Owner(object):\n",
    "    salary = 12000\n",
    "\n",
    "class Employee(Owner):\n",
    "    salary = 2000\n",
    "\n",
    "class Manager(Employee):\n",
    "    salary = 1000\n",
    "\n",
    "\n",
    "m:Manager = Manager()\n",
    "\n",
    "m.salary"
   ]
  },
  {
   "cell_type": "code",
   "execution_count": 53,
   "metadata": {},
   "outputs": [
    {
     "data": {
      "text/plain": [
       "4000"
      ]
     },
     "execution_count": 53,
     "metadata": {},
     "output_type": "execute_result"
    }
   ],
   "source": [
    "\n",
    "class Owner(object):\n",
    "    salary = 14000\n",
    "\n",
    "class Employee(Owner):\n",
    "    salary = 4000\n",
    "\n",
    "class Manager(Employee):\n",
    "    pass\n",
    "\n",
    "\n",
    "m:Manager = Manager()\n",
    "\n",
    "m.salary"
   ]
  },
  {
   "cell_type": "code",
   "execution_count": 58,
   "metadata": {},
   "outputs": [
    {
     "name": "stdout",
     "output_type": "stream",
     "text": [
      "{'name': 'saleem', 'age': 43, 'salary': 3000000}\n",
      "-------------------------\n",
      "{'name': 'saleem', 'age': 43, 'salary': 5000000}\n"
     ]
    }
   ],
   "source": [
    "#  Hierarchical inheritance one parent class and multiple child classes\n",
    "\n",
    "\n",
    "class Person:\n",
    "    def __init__(self, name, age) -> None:\n",
    "        self.name = name\n",
    "        self.age = age\n",
    "\n",
    "    def display(self):\n",
    "        print(\"this is a person class method\")\n",
    "\n",
    "# child class\n",
    "class Employee(Person):\n",
    "    def __init__(self, name, age, salary) -> None:\n",
    "        super().__init__(name, age)\n",
    "        self.salary = salary\n",
    "\n",
    "    def display(self):\n",
    "        print(\"this is a Employee class method\")\n",
    "\n",
    "\n",
    "# child class\n",
    "\n",
    "class Manager(Person):\n",
    "    def __init__(self, name, age, bonus) -> None:\n",
    "        super().__init__(name, age)\n",
    "        self.salary = bonus\n",
    "\n",
    "    def display(self):\n",
    "        print(\"this is a Manager class method\")\n",
    "\n",
    "\n",
    "e:Employee = Employee(\"saleem\", 43, 3000000)\n",
    "print(e.__dict__)\n",
    "print(\"-------------------------\")\n",
    "m:Manager = Manager(\"saleem\", 43, 5000000)\n",
    "print(m.__dict__)"
   ]
  },
  {
   "cell_type": "code",
   "execution_count": 64,
   "metadata": {},
   "outputs": [
    {
     "name": "stdout",
     "output_type": "stream",
     "text": [
      " this is person class const\n",
      " this is employee class const\n",
      " this is manager  class const\n",
      "{'name': 'hamza'}\n"
     ]
    }
   ],
   "source": [
    "#  Multiple inheritance multiple parent class and one  child classes\n",
    "class Person:\n",
    "    def __init__(self) -> None:\n",
    "        print(\" this is person class const\")\n",
    "        self.name = \"salemm\"\n",
    "       \n",
    "class Employee():\n",
    "    def __init__(self) -> None:\n",
    "        super().__init__()\n",
    "        print(\" this is employee class const\")\n",
    "        self.name = \"saram\"\n",
    "\n",
    "# child class\n",
    "\n",
    "class Manager(Employee, Person):\n",
    "    def __init__(self) -> None:\n",
    "        super().__init__()\n",
    "        print(\" this is manager  class const\")\n",
    "        self.name= \"hamza\"\n",
    "\n",
    "    def display(self):\n",
    "        print(\"this is a Manager class method\")\n",
    "\n",
    "\n",
    "m:Manager = Manager()\n",
    "print(m.__dict__)"
   ]
  },
  {
   "cell_type": "code",
   "execution_count": 1,
   "metadata": {},
   "outputs": [
    {
     "name": "stdout",
     "output_type": "stream",
     "text": [
      "[<class '__main__.Y'>, <class '__main__.X'>, <class '__main__.A'>, <class '__main__.B'>, <class '__main__.C'>, <class 'object'>]\n"
     ]
    }
   ],
   "source": [
    "# MRO(Method Resolution Order)       --inheritance\n",
    "# how  properties are searched in inheritance\n",
    "\n",
    "# classname.mro()\n",
    "\n",
    "\n",
    "class A:\n",
    "    pass\n",
    "\n",
    "class B:\n",
    "    pass\n",
    "class C:\n",
    "    pass\n",
    "\n",
    "class X(A, B):\n",
    "    pass\n",
    "class Y(X, C):\n",
    "    pass\n",
    "\n",
    "print(Y.mro())"
   ]
  },
  {
   "cell_type": "markdown",
   "metadata": {},
   "source": [
    "# Encapsulation\n",
    "* Wrapping yp data and method in a single unit that is a class on performing operation on its data is called encapsulation"
   ]
  },
  {
   "cell_type": "code",
   "execution_count": 11,
   "metadata": {},
   "outputs": [
    {
     "name": "stdout",
     "output_type": "stream",
     "text": [
      "1000000\n",
      "{'_Finance__revenue': 1000000, 'salary': 50000}\n",
      "1000000\n"
     ]
    }
   ],
   "source": [
    "class Finance:\n",
    "    def __init__(self):\n",
    "        self.__revenue = 1000000 # make it private by using idenfier __private\n",
    "        self.salary = 50000 # public variable\n",
    "    \n",
    "    def display(self):\n",
    "        print(self.__revenue)\n",
    "\n",
    "finance = Finance()\n",
    "finance.salary # accessible everywhere due public variable \n",
    "#finance.__revenue #AttributeError: 'Finance' object has no attribute '__revenue'\n",
    "finance.display() # now private property is accessible through method\n",
    "print(finance.__dict__)\n",
    "print(finance._Finance__revenue) # can be accessible by using \"name mangling\""
   ]
  },
  {
   "cell_type": "markdown",
   "metadata": {},
   "source": [
    "# polymorphism\n",
    " * python object has different behavior in differnt situation"
   ]
  },
  {
   "cell_type": "code",
   "execution_count": 19,
   "metadata": {},
   "outputs": [
    {
     "name": "stdout",
     "output_type": "stream",
     "text": [
      "Max speed is 150Km/hr\n"
     ]
    }
   ],
   "source": [
    "# polymorphism in inheritance differnt behavior in different situation\n",
    "class Veh:\n",
    "    def __init__(self, name, color, price) -> None:\n",
    "        self.name = name\n",
    "        self.color = color\n",
    "        self.price = price\n",
    "    \n",
    "    def get_detail(self):\n",
    "        print(f\"name is {self.name} and color is {self.color} and price is {self.price}\")\n",
    "\n",
    "    def max_speed(self):\n",
    "        print(\"Max speed is 150Km/hr\")\n",
    "\n",
    "\n",
    "class Car(Veh):\n",
    "    def max_speed(self):\n",
    "        print(\"Max speed is 100Km/hr\")\n",
    "\n",
    "\n",
    "V1 = Veh(\"Truck\", \"black\", 90000000000)\n",
    "C1 = Car(\"suzuki\", \"white\", 700000000)\n",
    "V1.max_speed() # polymorphism in inheritance differnt behavior in different situation\n",
    "C1.max_speed() # polymorphism in inheritance differnt behavior in different situation\n"
   ]
  },
  {
   "cell_type": "code",
   "execution_count": 16,
   "metadata": {},
   "outputs": [
    {
     "name": "stdout",
     "output_type": "stream",
     "text": [
      "<__main__.Cart object at 0x000001A2CD575CD0>\n"
     ]
    }
   ],
   "source": [
    "#  Over-riding built-in function\n",
    "\n",
    "\"\"\"while executing print function it will call magic method __str__ \n",
    "first print(c1) will search in Cart class if not present then it call built-in library and \n",
    "it will give the output <__main__.Cart object at 0x000001A2CD575CD0>\n",
    "\n",
    "it can by over-riding by defining in the class with same name and required output can be get printed\n",
    "\n",
    "\"\"\"\n",
    "class Cart:\n",
    "    pass\n",
    "\n",
    "c1 = Cart()\n",
    "\n",
    "print(c1)"
   ]
  },
  {
   "cell_type": "code",
   "execution_count": 18,
   "metadata": {},
   "outputs": [
    {
     "name": "stdout",
     "output_type": "stream",
     "text": [
      "this is cart obj\n"
     ]
    }
   ],
   "source": [
    "#  Over-riding built-in function\n",
    "\n",
    "\"\"\"while executing print function it will call magic method __str__ \n",
    "first print(c1) will search in Cart class if not present then it call built-in library and \n",
    "it will give the output <__main__.Cart object at 0x000001A2CD575CD0>\n",
    "\n",
    "it can by over-riding by defining in the class with same name and required output can be get printed\n",
    "\n",
    "\"\"\"\n",
    "class Cart:\n",
    "    # Over-riding built-in function\n",
    "    def __str__(self):\n",
    "        return \"this is cart obj\"\n",
    "c1 = Cart()\n",
    "print(c1)"
   ]
  },
  {
   "cell_type": "code",
   "execution_count": 21,
   "metadata": {},
   "outputs": [
    {
     "name": "stdout",
     "output_type": "stream",
     "text": [
      "Max speed is 150Km/hr\n",
      "Max speed is 100Km/hr\n"
     ]
    }
   ],
   "source": [
    "  # polymorphism in function and object\n",
    "class Veh:\n",
    "    def __init__(self, name, color, price) -> None:\n",
    "        self.name = name\n",
    "        self.color = color\n",
    "        self.price = price\n",
    "    \n",
    "    def get_detail(self):\n",
    "        print(f\"name is {self.name} and color is {self.color} and price is {self.price}\")\n",
    "\n",
    "    def max_speed(self):\n",
    "        print(\"Max speed is 150Km/hr\")\n",
    "\n",
    "\n",
    "class Car(Veh):\n",
    "    def max_speed(self):\n",
    "        print(\"Max speed is 100Km/hr\")\n",
    "\n",
    "\n",
    "\n",
    "# outside the class , different behavior with differnt input\n",
    "  # polymorphism in function and object\n",
    "def get_output(obj):\n",
    "    obj.max_speed()\n",
    "\n",
    "V1 = Veh(\"Truck\", \"black\", 90000000000)\n",
    "C1 = Car(\"suzuki\", \"white\", 700000000)\n",
    "get_output(V1)\n",
    "get_output(C1)\n"
   ]
  },
  {
   "cell_type": "code",
   "execution_count": 24,
   "metadata": {},
   "outputs": [
    {
     "name": "stdout",
     "output_type": "stream",
     "text": [
      "16\n",
      "16\n",
      "16\n",
      "helloworld\n",
      "helloworld\n",
      "helloworld\n"
     ]
    },
    {
     "ename": "TypeError",
     "evalue": "can only concatenate str (not \"int\") to str",
     "output_type": "error",
     "traceback": [
      "\u001b[1;31m---------------------------------------------------------------------------\u001b[0m",
      "\u001b[1;31mTypeError\u001b[0m                                 Traceback (most recent call last)",
      "\u001b[1;32mc:\\Users\\saram\\OneDrive\\Desktop\\python\\test\\test.ipynb Cell 113\u001b[0m line \u001b[0;36m2\n\u001b[0;32m     <a href='vscode-notebook-cell:/c%3A/Users/saram/OneDrive/Desktop/python/test/test.ipynb#Y221sZmlsZQ%3D%3D?line=22'>23</a>\u001b[0m num1 \u001b[39m=\u001b[39m \u001b[39m\"\u001b[39m\u001b[39mhello\u001b[39m\u001b[39m\"\u001b[39m\n\u001b[0;32m     <a href='vscode-notebook-cell:/c%3A/Users/saram/OneDrive/Desktop/python/test/test.ipynb#Y221sZmlsZQ%3D%3D?line=23'>24</a>\u001b[0m num2 \u001b[39m=\u001b[39m \u001b[39m20\u001b[39m\n\u001b[1;32m---> <a href='vscode-notebook-cell:/c%3A/Users/saram/OneDrive/Desktop/python/test/test.ipynb#Y221sZmlsZQ%3D%3D?line=24'>25</a>\u001b[0m \u001b[39mprint\u001b[39m(num1 \u001b[39m+\u001b[39;49m num2)\n\u001b[0;32m     <a href='vscode-notebook-cell:/c%3A/Users/saram/OneDrive/Desktop/python/test/test.ipynb#Y221sZmlsZQ%3D%3D?line=25'>26</a>\u001b[0m \u001b[39mprint\u001b[39m(num1\u001b[39m.\u001b[39m\u001b[39m__add__\u001b[39m(num2))\n\u001b[0;32m     <a href='vscode-notebook-cell:/c%3A/Users/saram/OneDrive/Desktop/python/test/test.ipynb#Y221sZmlsZQ%3D%3D?line=26'>27</a>\u001b[0m \u001b[39mprint\u001b[39m(\u001b[39mstr\u001b[39m\u001b[39m.\u001b[39m\u001b[39m__add__\u001b[39m(num1, num2))\n",
      "\u001b[1;31mTypeError\u001b[0m: can only concatenate str (not \"int\") to str"
     ]
    }
   ],
   "source": [
    "# Polymorphism    =======   Operator Overloading in Python\n",
    "\n",
    "# + operator\n",
    "\n",
    "num1 = 7\n",
    "num2 = 9\n",
    "print(num1 + num2)\n",
    "print(num1.__add__(num2))\n",
    "print(int.__add__(num1, num2))\n",
    "# first check the datatype of left operand\n",
    "# go to the class\n",
    "# call the __add__ function\n",
    "\n",
    "num1 = \"hello\"\n",
    "num2 = \"world\"\n",
    "print(num1 + num2)\n",
    "print(num1.__add__(num2))\n",
    "print(str.__add__(num1, num2))\n",
    "# first check the datatype of left operand\n",
    "# go to the class\n",
    "# call the __add__ function\n",
    "\n",
    "num1 = \"hello\"\n",
    "num2 = 20\n",
    "print(num1 + num2)\n",
    "print(num1.__add__(num2))\n",
    "print(str.__add__(num1, num2))\n",
    "# first check the datatype of left operand\n",
    "# go to the class\n",
    "# call the __add__ function"
   ]
  },
  {
   "cell_type": "code",
   "execution_count": 27,
   "metadata": {},
   "outputs": [
    {
     "name": "stdout",
     "output_type": "stream",
     "text": [
      "total pages: 1000\n",
      "total pages: 1000\n",
      "True\n"
     ]
    }
   ],
   "source": [
    "# How to achieve operator overloading\n",
    "\n",
    "class Book:\n",
    "    def __init__(self, name, pages) -> None:\n",
    "        self.name = name\n",
    "        self.pages = pages\n",
    "\n",
    "    def __add__(self, other):\n",
    "        total = self.pages + other.pages\n",
    "        return total\n",
    "    \n",
    "    def __gt__(self, other): # (b1, b2)\n",
    "        return self.pages > other.pages # retrun true or false\n",
    "\n",
    "b1 = Book(\"one Intelligent girl\", 600)\n",
    "b2 = Book(\"othello\", 400)\n",
    "print(\"total pages:\", b1.pages + b2.pages) # b1.__add__(b2) -->Book.__add__(b1, b2)\n",
    "\n",
    "print(\"total pages:\", b1+ b2) # trow type error , now declare add method to resolve this error\n",
    "\n",
    "# comparison operator overloading\n",
    "\n",
    "print(b1>b2) # give the type error because __gt__ method not found in the class hotel , will have to declare in the class"
   ]
  },
  {
   "cell_type": "code",
   "execution_count": 30,
   "metadata": {},
   "outputs": [
    {
     "name": "stdout",
     "output_type": "stream",
     "text": [
      "total pages: 1000\n",
      "total pages: 1000\n",
      "total pages: 1400\n",
      "True\n"
     ]
    }
   ],
   "source": [
    "# How to achieve operator overloading\n",
    "\n",
    "class Book:\n",
    "    def __init__(self, name, pages) -> None:\n",
    "        self.name = name\n",
    "        self.pages = pages\n",
    "\n",
    "    def __add__(self, other):\n",
    "        total = self.pages + other.pages\n",
    "        return Book(\"all books\", total) # it will return this message total pages: <__main__.Book object at 0x000001A2CD573BF0>\n",
    "    \n",
    "    \n",
    "    # total pages: <__main__.Book object at 0x000001A2CD573BF0> now it will return output \n",
    "    def __str__(self) -> str:\n",
    "        return str(self.pages)\n",
    "    def __gt__(self, other): # (b1, b2)\n",
    "        return self.pages > other.pages # retrun true or false\n",
    "\n",
    "b1 = Book(\"one Intelligent girl\", 600)\n",
    "b2 = Book(\"othello\", 400)\n",
    "b3 = Book(\"prince\", 400)\n",
    "print(\"total pages:\", b1.pages + b2.pages) # b1.__add__(b2) -->Book.__add__(b1, b2)\n",
    "\n",
    "print(\"total pages:\", b1+ b2) # trow type error , now declare add method to resolve this error\n",
    "print(\"total pages:\", b1+ b2+ b3)\n",
    "# comparison operator overloading\n",
    "\n",
    "print(b1>b2) # give the type error because __gt__ method not found in the class hotel , will have to declare in the class"
   ]
  },
  {
   "cell_type": "code",
   "execution_count": 4,
   "metadata": {},
   "outputs": [
    {
     "data": {
      "text/plain": [
       "12"
      ]
     },
     "execution_count": 4,
     "metadata": {},
     "output_type": "execute_result"
    }
   ],
   "source": [
    "# Function over- loading in polymorphism\n",
    "from typing import overload\n",
    "\n",
    "@overload\n",
    "def add(x:int, y:int)->int:\n",
    "    ...\n",
    "\n",
    "@overload\n",
    "def add(x:str, y:str)->str:\n",
    "    ...\n",
    "\n",
    "@overload\n",
    "def add(x:float, y:float)->float:\n",
    "    ...\n",
    "\n",
    "def add(x, y):\n",
    "    return x + y\n",
    "    \n",
    "\n",
    "\n",
    "add(4, 8)\n"
   ]
  },
  {
   "cell_type": "code",
   "execution_count": 2,
   "metadata": {},
   "outputs": [
    {
     "name": "stdout",
     "output_type": "stream",
     "text": [
      "12\n",
      "48\n"
     ]
    }
   ],
   "source": [
    "# Method over- loading in polymorphism\n",
    "\n",
    "\n",
    "from typing import overload\n",
    "class Addition:\n",
    "    @overload\n",
    "    def add(self, x:int, y:int)->int:\n",
    "        ...\n",
    "    @overload\n",
    "    def add(self, x:str, y:str)->str:\n",
    "        ...\n",
    "\n",
    "    def add(self, x,  y):\n",
    "        return x + y\n",
    "    \n",
    "\n",
    "cal:Addition = Addition()\n",
    "print(cal.add(4, 8))\n",
    "print(cal.add(\"4\", \"8\"))"
   ]
  },
  {
   "cell_type": "code",
   "execution_count": 4,
   "metadata": {},
   "outputs": [
    {
     "name": "stdout",
     "output_type": "stream",
     "text": [
      "My name is saleem and roll number is 123\n",
      "Date of Birth is 9/1/1980\n"
     ]
    }
   ],
   "source": [
    "# Nested class\n",
    "\n",
    "class Student:\n",
    "    def __init__(self, name, roll_no, dd, mm, yy) -> None:\n",
    "        self.name = name\n",
    "        self.roll_no = roll_no\n",
    "        self.dob = self.DOB(dd, mm, yy) # nested class Dob declared here as a variable\n",
    "    def display(self):\n",
    "        print(f\"My name is {self.name} and roll number is {self.roll_no}\")\n",
    "        self.dob.display()# nested class display method  declared\n",
    "    class DOB:\n",
    "        def __init__(self, dd,mm,yy) -> None:\n",
    "            self.dd = dd\n",
    "            self.mm = mm\n",
    "            self.yy = yy\n",
    "\n",
    "        def display(self):\n",
    "            print(f\"Date of Birth is {self.dd}/{self.mm}/{self.yy}\")\n",
    "\n",
    "s1 = Student(\"saleem\", 123, 9, 1, 1980)  \n",
    "\n",
    "s1.display()"
   ]
  },
  {
   "cell_type": "code",
   "execution_count": 6,
   "metadata": {},
   "outputs": [
    {
     "name": "stdout",
     "output_type": "stream",
     "text": [
      " my name is salemm and my salary is 21240022221\n"
     ]
    }
   ],
   "source": [
    "# Accessing properties of one class into another class\n",
    "\n",
    "class Student:\n",
    "    def __init__(self, name, salary) -> None:\n",
    "        self.name = name\n",
    "        self.salary = salary\n",
    "\n",
    "    def display(self):\n",
    "        print(f\" my name is {self.name} and my salary is {self.salary}\")\n",
    "\n",
    "\n",
    "class student2:\n",
    "    # staticmethod decorator is used to play with external data \n",
    "    @staticmethod\n",
    "    def display(obj):\n",
    "        obj.salary = obj.salary + 20000022222\n",
    "        obj.display()\n",
    "\n",
    "\n",
    "s1= Student(\"salemm\", 1239999999)\n",
    "\n",
    "s2= student2()\n",
    "s2.display(s1)"
   ]
  },
  {
   "cell_type": "code",
   "execution_count": 7,
   "metadata": {},
   "outputs": [
    {
     "name": "stdout",
     "output_type": "stream",
     "text": [
      " my name is sak and my salary is 11111111\n",
      "destructor is called\n"
     ]
    }
   ],
   "source": [
    "# Destructor ====   __del__\n",
    "# it destroys the object and releases resorces tied to object\n",
    "# it is called when refrence is zero and variables go out of scop\n",
    "# it is automatically called when object is destroyed\n",
    "'''when refrence is zero and variables go out of scop , \n",
    "Garbage collector comes into play to remove it from memory but before \n",
    "Garbage collector , destructor is called to release the tied resources with that object\n",
    "'''\n",
    "# Disadvantages of Destructor\n",
    "''' Circular refrences ---when two object refer to each other.\n",
    "\n",
    "\n",
    "'''\n",
    "\n",
    "class Student:\n",
    "    def __init__(self, name, salary) -> None:\n",
    "        self.name = name\n",
    "        self.salary = salary\n",
    "\n",
    "    def display(self):\n",
    "        print(f\" my name is {self.name} and my salary is {self.salary}\")\n",
    "    # Destructor defining\n",
    "    def __del__(self):\n",
    "        print(\"destructor is called\")\n",
    "\n",
    "\n",
    "s1:Student = Student(\"sak\", 11111111)\n",
    "s1.display()\n",
    "\n",
    "del s1"
   ]
  },
  {
   "cell_type": "markdown",
   "metadata": {},
   "source": [
    "# Class Decorator"
   ]
  },
  {
   "cell_type": "code",
   "execution_count": 13,
   "metadata": {},
   "outputs": [
    {
     "name": "stdout",
     "output_type": "stream",
     "text": [
      "81\n"
     ]
    }
   ],
   "source": [
    "from typing import Any\n",
    "\n",
    "\n",
    "class Decorator:\n",
    "    def __init__(self, func) -> None:\n",
    "        self.function = func\n",
    "        \n",
    "    def __call__(self, a, b) -> Any:\n",
    "        result = self.function(a, b)\n",
    "        return result**2\n",
    "       \n",
    "@Decorator\n",
    "def add(a, b):\n",
    "    return a + b\n",
    "# d1 = Decorator(add)\n",
    "print(add(2,7))\n"
   ]
  },
  {
   "cell_type": "code",
   "execution_count": 16,
   "metadata": {},
   "outputs": [
    {
     "name": "stdout",
     "output_type": "stream",
     "text": [
      "True\n"
     ]
    },
    {
     "data": {
      "text/plain": [
       "['__class__',\n",
       " '__delattr__',\n",
       " '__dict__',\n",
       " '__dir__',\n",
       " '__doc__',\n",
       " '__eq__',\n",
       " '__format__',\n",
       " '__ge__',\n",
       " '__getattribute__',\n",
       " '__getstate__',\n",
       " '__gt__',\n",
       " '__hash__',\n",
       " '__init__',\n",
       " '__init_subclass__',\n",
       " '__le__',\n",
       " '__lt__',\n",
       " '__module__',\n",
       " '__ne__',\n",
       " '__new__',\n",
       " '__reduce__',\n",
       " '__reduce_ex__',\n",
       " '__repr__',\n",
       " '__setattr__',\n",
       " '__sizeof__',\n",
       " '__str__',\n",
       " '__subclasshook__',\n",
       " '__weakref__']"
      ]
     },
     "execution_count": 16,
     "metadata": {},
     "output_type": "execute_result"
    }
   ],
   "source": [
    "class Add(object):\n",
    "    pass\n",
    "\n",
    "a1 = Add()\n",
    "print(callable(Add))\n",
    "dir(add)"
   ]
  },
  {
   "cell_type": "markdown",
   "metadata": {},
   "source": [
    "# Abstraction\n",
    " * hiding complex implementation from user and only signatures are shown to user\n",
    " * the object of abstract class can not be made\n",
    " * interface --a abstract class in which all methods are abstract method and no concrete method"
   ]
  },
  {
   "cell_type": "code",
   "execution_count": null,
   "metadata": {},
   "outputs": [],
   "source": [
    "from abc import ABC, abstractmethod\n",
    "\n",
    " # abstract class is inherited from ABC class and atleast one abstract method is required\n",
    "class Car(ABC):\n",
    "     # method only declare but no implementation is here , implementation must be in child class\n",
    "    @abstractmethod \n",
    "    def mileage(self):\n",
    "        pass\n",
    "\n",
    "    def color(self):\n",
    "        print(\"color is white\")\n",
    "\n",
    "\n",
    "class Suzuki(Car):\n",
    "\n",
    "    def mileage(self):\n",
    "        print(\"yhe mileage of suzuki is 400 km\")\n",
    "    \n",
    "\n",
    "class Nissan(Car):\n",
    "    # if abstract method of abstract class is not implemented in child class it becomes abstract class\n",
    "    def mileage(self):\n",
    "        print(\"yhe mileage of nissqan is 320 km\")\n",
    "\n",
    "class Mehran(Car):\n",
    "\n",
    "    def mileage(self):\n",
    "        print(\"yhe mileage of nissqan is 320 km\")\n",
    "\n",
    "suz:Car = Suzuki()\n",
    "suz.color()\n",
    "suz.mileage()"
   ]
  },
  {
   "cell_type": "code",
   "execution_count": 13,
   "metadata": {},
   "outputs": [
    {
     "data": {
      "text/plain": [
       "'salrrr'"
      ]
     },
     "metadata": {},
     "output_type": "display_data"
    }
   ],
   "source": [
    "\n",
    "\n",
    "\n",
    "class NonCallable:\n",
    "\n",
    "    def display(self, name):\n",
    "        print(name)\n",
    "\n",
    "    def __call__(self, f):\n",
    "        display(f)\n",
    "    \n",
    "instance : NonCallable = NonCallable()\n",
    "callable(instance)\n",
    "\n",
    "instance(\"salrrr\")"
   ]
  },
  {
   "cell_type": "code",
   "execution_count": 4,
   "metadata": {},
   "outputs": [
    {
     "name": "stdout",
     "output_type": "stream",
     "text": [
      "Caught an error: not really callable\n"
     ]
    }
   ],
   "source": [
    "class NonCallable:\n",
    "    def __call__(self):\n",
    "        raise TypeError(\"not really callable\")\n",
    "\n",
    "# Create an instance of NonCallable\n",
    "instance: NonCallable = NonCallable()\n",
    "\n",
    "# Check if the instance is callable\n",
    "if callable(instance):\n",
    "    try:\n",
    "        # Attempt to call the instance\n",
    "        instance()\n",
    "    except TypeError as e:\n",
    "        print(f\"Caught an error: {e}\")\n",
    "else:\n",
    "    print(\"Instance is not callable.\")\n"
   ]
  },
  {
   "cell_type": "code",
   "execution_count": 11,
   "metadata": {},
   "outputs": [
    {
     "data": {
      "text/plain": [
       "4"
      ]
     },
     "execution_count": 11,
     "metadata": {},
     "output_type": "execute_result"
    }
   ],
   "source": [
    "import numpy as np\n",
    "a:np.ndarray = np.array([[1,2,3,3,3,8],\n",
    "                        [1,2,3,3,3,8],\n",
    "                        [1,2,3,3,3,8]])\n",
    "a.itemsize"
   ]
  },
  {
   "cell_type": "code",
   "execution_count": 1,
   "metadata": {},
   "outputs": [
    {
     "name": "stdout",
     "output_type": "stream",
     "text": [
      "Requirement already satisfied: nptyping in c:\\users\\saram\\anaconda3\\envs\\myenv3_12\\lib\\site-packages (2.5.0)\n",
      "Requirement already satisfied: numpy<2.0.0,>=1.20.0 in c:\\users\\saram\\anaconda3\\envs\\myenv3_12\\lib\\site-packages (from nptyping) (1.26.2)\n",
      "Note: you may need to restart the kernel to use updated packages.\n"
     ]
    }
   ],
   "source": [
    "%pip install nptyping"
   ]
  },
  {
   "cell_type": "code",
   "execution_count": 18,
   "metadata": {},
   "outputs": [
    {
     "data": {
      "text/plain": [
       "(10,)"
      ]
     },
     "execution_count": 18,
     "metadata": {},
     "output_type": "execute_result"
    }
   ],
   "source": [
    "import numpy as np\n",
    "from nptyping import NDArray, Shape, UInt64\n",
    "from typing import Any\n",
    "a:NDArray[Shape[\"10\"],  Any] = np.arange(1,11)\n",
    "\n",
    "type(a)\n",
    "a.dtype\n",
    "a.shape"
   ]
  },
  {
   "cell_type": "code",
   "execution_count": 24,
   "metadata": {},
   "outputs": [
    {
     "name": "stdout",
     "output_type": "stream",
     "text": [
      "[[0 1 2]\n",
      " [3 4 5]\n",
      " [6 7 8]]\n",
      "[[ 0  1  2  3  4  5  6  7  8  9]\n",
      " [10 11 12 13 14 15 16 17 18 19]\n",
      " [20 21 22 23 24 25 26 27 28 29]]\n"
     ]
    }
   ],
   "source": [
    "a : NDArray[Shape[\"Size, Size\"],Any] = np.arange(3*3).reshape(3,3)\n",
    "print(a)\n",
    "a : NDArray[Shape[\"Size, Size\"],Any] = np.arange(5*6).reshape(3,10)\n",
    "print(a)"
   ]
  },
  {
   "cell_type": "code",
   "execution_count": 56,
   "metadata": {},
   "outputs": [
    {
     "name": "stdout",
     "output_type": "stream",
     "text": [
      "[[[ 0  1  2]\n",
      "  [ 3  4  5]\n",
      "  [ 6  7  8]]\n",
      "\n",
      " [[36 37 38]\n",
      "  [39 40 41]\n",
      "  [42 43 44]]]\n",
      "---------\n",
      "[[[ 0  1  2]\n",
      "  [ 3  4  5]]\n",
      "\n",
      " [[36 37 38]\n",
      "  [39 40 41]]]\n",
      "---------\n",
      "[[[ 1  2]\n",
      "  [ 4  5]\n",
      "  [ 7  8]]\n",
      "\n",
      " [[37 38]\n",
      "  [40 41]\n",
      "  [43 44]]]\n"
     ]
    }
   ],
   "source": [
    "a : NDArray[Shape[\"Size, Size, Size\"],Any] = np.arange(5*3*3).reshape(5,3,3)\n",
    "\n",
    "#print(a)\n",
    "print(a[::4,::,::])\n",
    "print(\"---------\")\n",
    "print(a[::4,0:2:,::])\n",
    "print(\"---------\")\n",
    "print(a[::4,0:3:,1:3:])"
   ]
  }
 ],
 "metadata": {
  "kernelspec": {
   "display_name": "myenv3_12",
   "language": "python",
   "name": "python3"
  },
  "language_info": {
   "codemirror_mode": {
    "name": "ipython",
    "version": 3
   },
   "file_extension": ".py",
   "mimetype": "text/x-python",
   "name": "python",
   "nbconvert_exporter": "python",
   "pygments_lexer": "ipython3",
   "version": "3.12.0"
  }
 },
 "nbformat": 4,
 "nbformat_minor": 2
}
