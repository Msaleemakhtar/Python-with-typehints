{
 "cells": [
  {
   "cell_type": "markdown",
   "metadata": {},
   "source": [
    "# OOP in Python"
   ]
  },
  {
   "cell_type": "code",
   "execution_count": 7,
   "metadata": {},
   "outputs": [
    {
     "name": "stdout",
     "output_type": "stream",
     "text": [
      "My car has silver Color and modal is 2019\n",
      "{'__module__': '__main__', '__doc__': 'the purpose of this class is to show the specs of class', '__init__': <function MYCar.__init__ at 0x000001E029D8E0C0>, 'brak': <function MYCar.brak at 0x000001E029D8E160>, '__dict__': <attribute '__dict__' of 'MYCar' objects>, '__weakref__': <attribute '__weakref__' of 'MYCar' objects>}\n",
      "MYCar\n",
      "__main__\n",
      "the purpose of this class is to show the specs of class\n",
      "True\n"
     ]
    }
   ],
   "source": [
    "class MYCar:\n",
    "\n",
    "    '''the purpose of this class is to show the specs of class'''\n",
    "    # constructor /method   \n",
    "    def __init__(self, color:str, modal:int) -> None:\n",
    "        # instance variable\n",
    "        self.color:str = color \n",
    "        # instance variable\n",
    "        self.modal:int = modal\n",
    "        \n",
    "    # instance methods\n",
    "    def brak(self)->None:\n",
    "        print(f\"My car has {self.color} Color and modal is {self.modal}\")\n",
    "\n",
    "\n",
    "suzuki:MYCar = MYCar(\"silver\", 2019)#  constructor is used to initialized the object and memory is allocated\n",
    "suzuki.brak()\n",
    "\n",
    "\n",
    "# builtin functions of class\n",
    "print(MYCar.__dict__)# about class all methods and attributes\n",
    "print(MYCar.__name__)# name of class\n",
    "print(MYCar.__module__)# in which module class is present\n",
    "print(MYCar.__doc__)\n",
    "print(isinstance(suzuki, MYCar)) # it will check suzuki obj is in class Mycar & it will return true or false, \n"
   ]
  },
  {
   "cell_type": "code",
   "execution_count": 8,
   "metadata": {},
   "outputs": [
    {
     "name": "stdout",
     "output_type": "stream",
     "text": [
      "MYCar\n"
     ]
    }
   ],
   "source": [
    "print(MYCar.__name__)"
   ]
  },
  {
   "cell_type": "code",
   "execution_count": 24,
   "metadata": {},
   "outputs": [
    {
     "name": "stdout",
     "output_type": "stream",
     "text": [
      "My car has silver Color and modal is 2019\n",
      "1235555\n",
      "1235555\n",
      "1111111111\n",
      "37777777\n",
      "{'color': 'silver', 'modal': 2019, 'engine_no': 37777777}\n"
     ]
    },
    {
     "data": {
      "text/plain": [
       "333333333333"
      ]
     },
     "execution_count": 24,
     "metadata": {},
     "output_type": "execute_result"
    }
   ],
   "source": [
    "class MYCar:\n",
    "    '''the purpose of this class is to show the specs of class'''\n",
    "\n",
    "    # class variable\n",
    "    engine_no = 1235555\n",
    "\n",
    "    # constructor /method   \n",
    "    def __init__(self, color:str, modal:int) -> None:\n",
    "        # instance variable\n",
    "        self.color:str = color \n",
    "        # instance variable\n",
    "        self.modal:int = modal\n",
    "        \n",
    "    # instance methods\n",
    "    def brak(self)->None:\n",
    "        print(f\"My car has {self.color} Color and modal is {self.modal}\")\n",
    "\n",
    "    # class variable are modified in class method\n",
    "    @classmethod  # decorator is used to represent the class method\n",
    "    def cls_engine_no(cls):\n",
    "        state = cls.engine_no = 333333333333\n",
    "        return state\n",
    "\n",
    "suzuki:MYCar = MYCar(\"silver\", 2019)   # constructor is used to initialized the object and memory is allocated\n",
    "suzuki.brak()\n",
    "print(suzuki.engine_no) # class variable can be accessed by object reference but not modified\n",
    "print(MYCar.engine_no) # class variable can also  be accessed by class reference also modified\n",
    "\n",
    "MYCar.engine_no = 1111111111  # class variable is modified by class refrence or class method only\n",
    "print(MYCar.engine_no)\n",
    "\n",
    "suzuki.engine_no  = 37777777  # object ref will not modify the class variable but creates new instance variable\n",
    "print(suzuki.engine_no)\n",
    "print(suzuki.__dict__)\n",
    "\n",
    "MYCar.cls_engine_no()"
   ]
  },
  {
   "cell_type": "code",
   "execution_count": 29,
   "metadata": {},
   "outputs": [
    {
     "name": "stdout",
     "output_type": "stream",
     "text": [
      "80000.0\n"
     ]
    }
   ],
   "source": [
    "# staticmethod performs operations on external data(neither in class nor in object)\n",
    "# it can also perform operations on static variable which is class variables\n",
    "\n",
    "class Ubl:\n",
    "    # class variable or static variable\n",
    "    rate_of_interest = 5\n",
    "\n",
    "\n",
    "    @staticmethod\n",
    "    def calcuate_interest(p, i):# self or cls keywords are not used\n",
    "        si = p * i * Ubl.rate_of_interest/100\n",
    "        print(si)\n",
    "\n",
    "Ubl.calcuate_interest(200000, 8) # static method only access class name with staticmethod"
   ]
  },
  {
   "cell_type": "code",
   "execution_count": 28,
   "metadata": {},
   "outputs": [
    {
     "name": "stdout",
     "output_type": "stream",
     "text": [
      "my name is  saleem\n",
      "{'__module__': '__main__', 'setName': <function Employee.setName at 0x000001E029D8DC60>, 'getName': <function Employee.getName at 0x000001E029D8ECA0>, '__dict__': <attribute '__dict__' of 'Employee' objects>, '__weakref__': <attribute '__weakref__' of 'Employee' objects>, '__doc__': None}\n"
     ]
    }
   ],
   "source": [
    "class Employee:\n",
    "\n",
    "    # setter method to set the instance variable\n",
    "    def setName(self, name):\n",
    "        self.name = name\n",
    "    # getter method to get the value of instance variable\n",
    "    def getName(self):\n",
    "        print(\"my name is \", self.name)\n",
    "\n",
    "e1:Employee = Employee()\n",
    "e1.setName(\"saleem\")# set the value \n",
    "e1.getName()\n",
    "\n",
    "print(Employee.__dict__)"
   ]
  },
  {
   "cell_type": "markdown",
   "metadata": {},
   "source": [
    "# Inheritance\n",
    "\n",
    "* for code reusability"
   ]
  },
  {
   "cell_type": "code",
   "execution_count": 35,
   "metadata": {},
   "outputs": [
    {
     "name": "stdout",
     "output_type": "stream",
     "text": [
      "5000\n",
      "this is child class method\n",
      "10000\n",
      "this is a parent class method\n"
     ]
    }
   ],
   "source": [
    "# parent class\n",
    "class Employee(object): # all classes are inherited by default fron object class\n",
    "    bonus = 10000\n",
    "\n",
    "    def display(self):\n",
    "        print(\"this is a parent class method\")\n",
    "\n",
    "# child class has own variable and methods as well as parent class\n",
    "class Manager(Employee):\n",
    "    bonus1 = 5000\n",
    "\n",
    "    def show(self):\n",
    "        print(\"this is child class method\")\n",
    "\n",
    "\n",
    "\n",
    "e:Employee = Employee()\n",
    "m:Manager = Manager()\n",
    "print(m.bonus1)#child class variable\n",
    "m.show()#child class method\n",
    "print(m.bonus) # parent class variable is accessed by child class\n",
    "m.display()#parent class nethod is accessed by child class"
   ]
  },
  {
   "cell_type": "code",
   "execution_count": 38,
   "metadata": {},
   "outputs": [
    {
     "name": "stdout",
     "output_type": "stream",
     "text": [
      "father class constructor is called\n",
      "{'vehicle': 'Motorcycle'}\n"
     ]
    }
   ],
   "source": [
    "# constructor in parent class but not in child class\n",
    "\n",
    "class Father:\n",
    "    def __init__(self) -> None:\n",
    "        print(\"father class constructor is called\")\n",
    "        self.vehicle = \"Motorcycle\"\n",
    "\n",
    "\n",
    "# when child class has no constructor then father class constructor is called by default\n",
    "class Son(Father):\n",
    "    pass\n",
    "\n",
    "son:Son = Son()\n",
    "\n",
    "print(son.__dict__)"
   ]
  },
  {
   "cell_type": "code",
   "execution_count": 40,
   "metadata": {},
   "outputs": [
    {
     "name": "stdout",
     "output_type": "stream",
     "text": [
      "son class constructor is called\n",
      "{'vehicle': 'Bmw'}\n"
     ]
    }
   ],
   "source": [
    "# constructor in parent class but also in child class\n",
    "# constructor over-riding\n",
    "\n",
    "class Father:\n",
    "    def __init__(self) -> None:\n",
    "        print(\"father class constructor is called\")\n",
    "        self.vehicle = \"Motorcycle\"\n",
    "\n",
    "\n",
    "# when constructor is available in both classes  then child  class constructor is called\n",
    "# the priority would be given to child class , first search into the child class if not avaialable then search into parent class\n",
    "class Son(Father):\n",
    "    def __init__(self) -> None:\n",
    "        print(\"son class constructor is called\")\n",
    "        self.vehicle = \"Bmw\"\n",
    "\n",
    "son:Son = Son()\n",
    "\n",
    "print(son.__dict__)"
   ]
  },
  {
   "cell_type": "code",
   "execution_count": 43,
   "metadata": {},
   "outputs": [
    {
     "name": "stdout",
     "output_type": "stream",
     "text": [
      "father class constructor is called\n",
      "son class constructor is called\n",
      "{'bike': 'Motorcycle', 'vehicle': 'Bmw'}\n"
     ]
    }
   ],
   "source": [
    "# super() method\n",
    "class Father:\n",
    "    def __init__(self) -> None:\n",
    "       self.bike = \"Motorcycle\"\n",
    "       print(\"father class constructor is called\")\n",
    "\n",
    "\n",
    "class Son(Father):\n",
    "    def __init__(self) -> None:\n",
    "        super().__init__() # parent class properties are accessed by using super method\n",
    "        print(\"son class constructor is called\")\n",
    "        self.vehicle = \"Bmw\"\n",
    "\n",
    "son:Son = Son()\n",
    "\n",
    "print(son.__dict__)"
   ]
  },
  {
   "cell_type": "code",
   "execution_count": 48,
   "metadata": {},
   "outputs": [
    {
     "name": "stdout",
     "output_type": "stream",
     "text": [
      "father class constructor is called\n",
      "son class constructor is called\n",
      "{'name': 'saleem', 'age': 21, 'bike': 'Motorcycle', 'vehicle': 'Bmw'}\n"
     ]
    }
   ],
   "source": [
    "# super() method\n",
    "class Father:\n",
    "    def __init__(self, name, age) -> None:\n",
    "       self.name = name\n",
    "       self.age =age\n",
    "       self.bike = \"Motorcycle\"\n",
    "       print(\"father class constructor is called\")\n",
    "\n",
    "\n",
    "class Son(Father):\n",
    "    def __init__(self) -> None:\n",
    "        super().__init__(\"saleem\", 21) # parent class properties are accessed by using super method\n",
    "        print(\"son class constructor is called\")\n",
    "        self.vehicle = \"Bmw\"\n",
    "\n",
    "son:Son = Son()\n",
    "\n",
    "print(son.__dict__)"
   ]
  },
  {
   "cell_type": "code",
   "execution_count": 46,
   "metadata": {},
   "outputs": [
    {
     "name": "stdout",
     "output_type": "stream",
     "text": [
      "father class constructor is called\n",
      "son class constructor is called\n",
      "{'name': 'saleem', 'age': 43, 'bike': 'Motorcycle', 'vehicle': 'Bmw'}\n"
     ]
    }
   ],
   "source": [
    "# super() method\n",
    "class Father:\n",
    "    def __init__(self, name, age) -> None:\n",
    "       self.name = name\n",
    "       self.age =age\n",
    "       self.bike = \"Motorcycle\"\n",
    "       print(\"father class constructor is called\")\n",
    "\n",
    "\n",
    "class Son(Father):\n",
    "    def __init__(self, name, age) -> None:\n",
    "        super().__init__(name, age) # parent class properties are accessed by using super method\n",
    "        print(\"son class constructor is called\")\n",
    "        self.vehicle = \"Bmw\"\n",
    "\n",
    "son:Son = Son(\"saleem\", 43)\n",
    "\n",
    "print(son.__dict__)"
   ]
  },
  {
   "cell_type": "code",
   "execution_count": null,
   "metadata": {},
   "outputs": [],
   "source": []
  },
  {
   "cell_type": "code",
   "execution_count": 50,
   "metadata": {},
   "outputs": [
    {
     "name": "stdout",
     "output_type": "stream",
     "text": [
      "this parent class method\n",
      "son class constructor is called\n",
      "{'vehicle': 'Bmw'}\n"
     ]
    }
   ],
   "source": [
    "# super() method\n",
    "class Father:\n",
    "    def __init__(self, name, age) -> None:\n",
    "       self.name = name\n",
    "       self.age =age\n",
    "       self.bike = \"Motorcycle\"\n",
    "       print(\"father class constructor is called\")\n",
    "\n",
    "    def display(self):\n",
    "        print(\"this is parent class method\")\n",
    "\n",
    "\n",
    "class Son(Father):\n",
    "    def __init__(self) -> None:\n",
    "        super().display() # parent class properties are accessed by using super method\n",
    "        print(\"son class constructor is called\")\n",
    "        self.vehicle = \"Bmw\"\n",
    "\n",
    "son:Son = Son()\n",
    "\n",
    "print(son.__dict__)"
   ]
  },
  {
   "cell_type": "code",
   "execution_count": null,
   "metadata": {},
   "outputs": [],
   "source": [
    "# single and multi-level inheritance\n",
    "# single inheritance class contains one parent and one child class\n",
    "            # object class ----> parent class -----> child class"
   ]
  },
  {
   "cell_type": "code",
   "execution_count": 51,
   "metadata": {},
   "outputs": [
    {
     "data": {
      "text/plain": [
       "1000"
      ]
     },
     "execution_count": 51,
     "metadata": {},
     "output_type": "execute_result"
    }
   ],
   "source": [
    "# multi-level inheritance\n",
    "#  object class ----> parent class -----> child class---> grandchild class\n",
    "\n",
    "class Owner(object):\n",
    "    salary = 12000\n",
    "\n",
    "class Employee(Owner):\n",
    "    salary = 2000\n",
    "\n",
    "class Manager(Employee):\n",
    "    salary = 1000\n",
    "\n",
    "\n",
    "m:Manager = Manager()\n",
    "\n",
    "m.salary"
   ]
  },
  {
   "cell_type": "code",
   "execution_count": 53,
   "metadata": {},
   "outputs": [
    {
     "data": {
      "text/plain": [
       "4000"
      ]
     },
     "execution_count": 53,
     "metadata": {},
     "output_type": "execute_result"
    }
   ],
   "source": [
    "\n",
    "class Owner(object):\n",
    "    salary = 14000\n",
    "\n",
    "class Employee(Owner):\n",
    "    salary = 4000\n",
    "\n",
    "class Manager(Employee):\n",
    "    pass\n",
    "\n",
    "\n",
    "m:Manager = Manager()\n",
    "\n",
    "m.salary"
   ]
  },
  {
   "cell_type": "code",
   "execution_count": 58,
   "metadata": {},
   "outputs": [
    {
     "name": "stdout",
     "output_type": "stream",
     "text": [
      "{'name': 'saleem', 'age': 43, 'salary': 3000000}\n",
      "-------------------------\n",
      "{'name': 'saleem', 'age': 43, 'salary': 5000000}\n"
     ]
    }
   ],
   "source": [
    "#  Hierarchical inheritance one parent class and multiple child classes\n",
    "\n",
    "\n",
    "class Person:\n",
    "    def __init__(self, name, age) -> None:\n",
    "        self.name = name\n",
    "        self.age = age\n",
    "\n",
    "    def display(self):\n",
    "        print(\"this is a person class method\")\n",
    "\n",
    "# child class\n",
    "class Employee(Person):\n",
    "    def __init__(self, name, age, salary) -> None:\n",
    "        super().__init__(name, age)\n",
    "        self.salary = salary\n",
    "\n",
    "    def display(self):\n",
    "        print(\"this is a Employee class method\")\n",
    "\n",
    "\n",
    "# child class\n",
    "\n",
    "class Manager(Person):\n",
    "    def __init__(self, name, age, bonus) -> None:\n",
    "        super().__init__(name, age)\n",
    "        self.salary = bonus\n",
    "\n",
    "    def display(self):\n",
    "        print(\"this is a Manager class method\")\n",
    "\n",
    "\n",
    "e:Employee = Employee(\"saleem\", 43, 3000000)\n",
    "print(e.__dict__)\n",
    "print(\"-------------------------\")\n",
    "m:Manager = Manager(\"saleem\", 43, 5000000)\n",
    "print(m.__dict__)"
   ]
  },
  {
   "cell_type": "code",
   "execution_count": 64,
   "metadata": {},
   "outputs": [
    {
     "name": "stdout",
     "output_type": "stream",
     "text": [
      " this is person class const\n",
      " this is employee class const\n",
      " this is manager  class const\n",
      "{'name': 'hamza'}\n"
     ]
    }
   ],
   "source": [
    "#  Multiple inheritance multiple parent class and one  child classes\n",
    "class Person:\n",
    "    def __init__(self) -> None:\n",
    "        print(\" this is person class const\")\n",
    "        self.name = \"salemm\"\n",
    "       \n",
    "class Employee():\n",
    "    def __init__(self) -> None:\n",
    "        super().__init__()\n",
    "        print(\" this is employee class const\")\n",
    "        self.name = \"saram\"\n",
    "\n",
    "# child class\n",
    "\n",
    "class Manager(Employee, Person):\n",
    "    def __init__(self) -> None:\n",
    "        super().__init__()\n",
    "        print(\" this is manager  class const\")\n",
    "        self.name= \"hamza\"\n",
    "\n",
    "    def display(self):\n",
    "        print(\"this is a Manager class method\")\n",
    "\n",
    "\n",
    "m:Manager = Manager()\n",
    "print(m.__dict__)"
   ]
  },
  {
   "cell_type": "code",
   "execution_count": 1,
   "metadata": {},
   "outputs": [
    {
     "name": "stdout",
     "output_type": "stream",
     "text": [
      "[<class '__main__.Y'>, <class '__main__.X'>, <class '__main__.A'>, <class '__main__.B'>, <class '__main__.C'>, <class 'object'>]\n"
     ]
    }
   ],
   "source": [
    "# MRO(Method Resolution Order)       --inheritance\n",
    "# how  properties are searched in inheritance\n",
    "\n",
    "# classname.mro()\n",
    "\n",
    "\n",
    "class A:\n",
    "    pass\n",
    "\n",
    "class B:\n",
    "    pass\n",
    "class C:\n",
    "    pass\n",
    "\n",
    "class X(A, B):\n",
    "    pass\n",
    "class Y(X, C):\n",
    "    pass\n",
    "\n",
    "print(Y.mro())"
   ]
  },
  {
   "cell_type": "markdown",
   "metadata": {},
   "source": [
    "# Encapsulation\n",
    "* Wrapping yp data and method in a single unit that is a class on performing operation on its data is called encapsulation"
   ]
  },
  {
   "cell_type": "code",
   "execution_count": 11,
   "metadata": {},
   "outputs": [
    {
     "name": "stdout",
     "output_type": "stream",
     "text": [
      "1000000\n",
      "{'_Finance__revenue': 1000000, 'salary': 50000}\n",
      "1000000\n"
     ]
    }
   ],
   "source": [
    "class Finance:\n",
    "    def __init__(self):\n",
    "        self.__revenue = 1000000 # make it private by using idenfier __private\n",
    "        self.salary = 50000 # public variable\n",
    "    \n",
    "    def display(self):\n",
    "        print(self.__revenue)\n",
    "\n",
    "finance = Finance()\n",
    "finance.salary # accessible everywhere due public variable \n",
    "#finance.__revenue #AttributeError: 'Finance' object has no attribute '__revenue'\n",
    "finance.display() # now private property is accessible through method\n",
    "print(finance.__dict__)\n",
    "print(finance._Finance__revenue) # can be accessible by using \"name mangling\""
   ]
  },
  {
   "cell_type": "markdown",
   "metadata": {},
   "source": [
    "# polymorphism\n",
    " * python object has different behavior in differnt situation"
   ]
  },
  {
   "cell_type": "code",
   "execution_count": 19,
   "metadata": {},
   "outputs": [
    {
     "name": "stdout",
     "output_type": "stream",
     "text": [
      "Max speed is 150Km/hr\n"
     ]
    }
   ],
   "source": [
    "# polymorphism in inheritance differnt behavior in different situation\n",
    "class Veh:\n",
    "    def __init__(self, name, color, price) -> None:\n",
    "        self.name = name\n",
    "        self.color = color\n",
    "        self.price = price\n",
    "    \n",
    "    def get_detail(self):\n",
    "        print(f\"name is {self.name} and color is {self.color} and price is {self.price}\")\n",
    "\n",
    "    def max_speed(self):\n",
    "        print(\"Max speed is 150Km/hr\")\n",
    "\n",
    "\n",
    "class Car(Veh):\n",
    "    def max_speed(self):\n",
    "        print(\"Max speed is 100Km/hr\")\n",
    "\n",
    "\n",
    "V1 = Veh(\"Truck\", \"black\", 90000000000)\n",
    "C1 = Car(\"suzuki\", \"white\", 700000000)\n",
    "V1.max_speed() # polymorphism in inheritance differnt behavior in different situation\n",
    "C1.max_speed() # polymorphism in inheritance differnt behavior in different situation\n"
   ]
  },
  {
   "cell_type": "code",
   "execution_count": 16,
   "metadata": {},
   "outputs": [
    {
     "name": "stdout",
     "output_type": "stream",
     "text": [
      "<__main__.Cart object at 0x000001A2CD575CD0>\n"
     ]
    }
   ],
   "source": [
    "#  Over-riding built-in function\n",
    "\n",
    "\"\"\"while executing print function it will call magic method __str__ \n",
    "first print(c1) will search in Cart class if not present then it call built-in library and \n",
    "it will give the output <__main__.Cart object at 0x000001A2CD575CD0>\n",
    "\n",
    "it can by over-riding by defining in the class with same name and required output can be get printed\n",
    "\n",
    "\"\"\"\n",
    "class Cart:\n",
    "    pass\n",
    "\n",
    "c1 = Cart()\n",
    "\n",
    "print(c1)"
   ]
  },
  {
   "cell_type": "code",
   "execution_count": 18,
   "metadata": {},
   "outputs": [
    {
     "name": "stdout",
     "output_type": "stream",
     "text": [
      "this is cart obj\n"
     ]
    }
   ],
   "source": [
    "#  Over-riding built-in function\n",
    "\n",
    "\"\"\"while executing print function it will call magic method __str__ \n",
    "first print(c1) will search in Cart class if not present then it call built-in library and \n",
    "it will give the output <__main__.Cart object at 0x000001A2CD575CD0>\n",
    "\n",
    "it can by over-riding by defining in the class with same name and required output can be get printed\n",
    "\n",
    "\"\"\"\n",
    "class Cart:\n",
    "    # Over-riding built-in function\n",
    "    def __str__(self):\n",
    "        return \"this is cart obj\"\n",
    "c1 = Cart()\n",
    "print(c1)"
   ]
  },
  {
   "cell_type": "code",
   "execution_count": 21,
   "metadata": {},
   "outputs": [
    {
     "name": "stdout",
     "output_type": "stream",
     "text": [
      "Max speed is 150Km/hr\n",
      "Max speed is 100Km/hr\n"
     ]
    }
   ],
   "source": [
    "  # polymorphism in function and object\n",
    "class Veh:\n",
    "    def __init__(self, name, color, price) -> None:\n",
    "        self.name = name\n",
    "        self.color = color\n",
    "        self.price = price\n",
    "    \n",
    "    def get_detail(self):\n",
    "        print(f\"name is {self.name} and color is {self.color} and price is {self.price}\")\n",
    "\n",
    "    def max_speed(self):\n",
    "        print(\"Max speed is 150Km/hr\")\n",
    "\n",
    "\n",
    "class Car(Veh):\n",
    "    def max_speed(self):\n",
    "        print(\"Max speed is 100Km/hr\")\n",
    "\n",
    "\n",
    "\n",
    "# outside the class , different behavior with differnt input\n",
    "  # polymorphism in function and object\n",
    "def get_output(obj):\n",
    "    obj.max_speed()\n",
    "\n",
    "V1 = Veh(\"Truck\", \"black\", 90000000000)\n",
    "C1 = Car(\"suzuki\", \"white\", 700000000)\n",
    "get_output(V1)\n",
    "get_output(C1)\n"
   ]
  },
  {
   "cell_type": "code",
   "execution_count": 24,
   "metadata": {},
   "outputs": [
    {
     "name": "stdout",
     "output_type": "stream",
     "text": [
      "16\n",
      "16\n",
      "16\n",
      "helloworld\n",
      "helloworld\n",
      "helloworld\n"
     ]
    },
    {
     "ename": "TypeError",
     "evalue": "can only concatenate str (not \"int\") to str",
     "output_type": "error",
     "traceback": [
      "\u001b[1;31m---------------------------------------------------------------------------\u001b[0m",
      "\u001b[1;31mTypeError\u001b[0m                                 Traceback (most recent call last)",
      "\u001b[1;32mc:\\Users\\saram\\OneDrive\\Desktop\\python\\test\\test.ipynb Cell 113\u001b[0m line \u001b[0;36m2\n\u001b[0;32m     <a href='vscode-notebook-cell:/c%3A/Users/saram/OneDrive/Desktop/python/test/test.ipynb#Y221sZmlsZQ%3D%3D?line=22'>23</a>\u001b[0m num1 \u001b[39m=\u001b[39m \u001b[39m\"\u001b[39m\u001b[39mhello\u001b[39m\u001b[39m\"\u001b[39m\n\u001b[0;32m     <a href='vscode-notebook-cell:/c%3A/Users/saram/OneDrive/Desktop/python/test/test.ipynb#Y221sZmlsZQ%3D%3D?line=23'>24</a>\u001b[0m num2 \u001b[39m=\u001b[39m \u001b[39m20\u001b[39m\n\u001b[1;32m---> <a href='vscode-notebook-cell:/c%3A/Users/saram/OneDrive/Desktop/python/test/test.ipynb#Y221sZmlsZQ%3D%3D?line=24'>25</a>\u001b[0m \u001b[39mprint\u001b[39m(num1 \u001b[39m+\u001b[39;49m num2)\n\u001b[0;32m     <a href='vscode-notebook-cell:/c%3A/Users/saram/OneDrive/Desktop/python/test/test.ipynb#Y221sZmlsZQ%3D%3D?line=25'>26</a>\u001b[0m \u001b[39mprint\u001b[39m(num1\u001b[39m.\u001b[39m\u001b[39m__add__\u001b[39m(num2))\n\u001b[0;32m     <a href='vscode-notebook-cell:/c%3A/Users/saram/OneDrive/Desktop/python/test/test.ipynb#Y221sZmlsZQ%3D%3D?line=26'>27</a>\u001b[0m \u001b[39mprint\u001b[39m(\u001b[39mstr\u001b[39m\u001b[39m.\u001b[39m\u001b[39m__add__\u001b[39m(num1, num2))\n",
      "\u001b[1;31mTypeError\u001b[0m: can only concatenate str (not \"int\") to str"
     ]
    }
   ],
   "source": [
    "# Polymorphism    =======   Operator Overloading in Python\n",
    "\n",
    "# + operator\n",
    "\n",
    "num1 = 7\n",
    "num2 = 9\n",
    "print(num1 + num2)\n",
    "print(num1.__add__(num2))\n",
    "print(int.__add__(num1, num2))\n",
    "# first check the datatype of left operand\n",
    "# go to the class\n",
    "# call the __add__ function\n",
    "\n",
    "num1 = \"hello\"\n",
    "num2 = \"world\"\n",
    "print(num1 + num2)\n",
    "print(num1.__add__(num2))\n",
    "print(str.__add__(num1, num2))\n",
    "# first check the datatype of left operand\n",
    "# go to the class\n",
    "# call the __add__ function\n",
    "\n",
    "num1 = \"hello\"\n",
    "num2 = 20\n",
    "print(num1 + num2)\n",
    "print(num1.__add__(num2))\n",
    "print(str.__add__(num1, num2))\n",
    "# first check the datatype of left operand\n",
    "# go to the class\n",
    "# call the __add__ function"
   ]
  },
  {
   "cell_type": "code",
   "execution_count": 27,
   "metadata": {},
   "outputs": [
    {
     "name": "stdout",
     "output_type": "stream",
     "text": [
      "total pages: 1000\n",
      "total pages: 1000\n",
      "True\n"
     ]
    }
   ],
   "source": [
    "# How to achieve operator overloading\n",
    "\n",
    "class Book:\n",
    "    def __init__(self, name, pages) -> None:\n",
    "        self.name = name\n",
    "        self.pages = pages\n",
    "\n",
    "    def __add__(self, other):\n",
    "        total = self.pages + other.pages\n",
    "        return total\n",
    "    \n",
    "    def __gt__(self, other): # (b1, b2)\n",
    "        return self.pages > other.pages # retrun true or false\n",
    "\n",
    "b1 = Book(\"one Intelligent girl\", 600)\n",
    "b2 = Book(\"othello\", 400)\n",
    "print(\"total pages:\", b1.pages + b2.pages) # b1.__add__(b2) -->Book.__add__(b1, b2)\n",
    "\n",
    "print(\"total pages:\", b1+ b2) # trow type error , now declare add method to resolve this error\n",
    "\n",
    "# comparison operator overloading\n",
    "\n",
    "print(b1>b2) # give the type error because __gt__ method not found in the class hotel , will have to declare in the class"
   ]
  },
  {
   "cell_type": "code",
   "execution_count": 30,
   "metadata": {},
   "outputs": [
    {
     "name": "stdout",
     "output_type": "stream",
     "text": [
      "total pages: 1000\n",
      "total pages: 1000\n",
      "total pages: 1400\n",
      "True\n"
     ]
    }
   ],
   "source": [
    "# How to achieve operator overloading\n",
    "\n",
    "class Book:\n",
    "    def __init__(self, name, pages) -> None:\n",
    "        self.name = name\n",
    "        self.pages = pages\n",
    "\n",
    "    def __add__(self, other):\n",
    "        total = self.pages + other.pages\n",
    "        return Book(\"all books\", total) # it will return this message total pages: <__main__.Book object at 0x000001A2CD573BF0>\n",
    "    \n",
    "    \n",
    "    # total pages: <__main__.Book object at 0x000001A2CD573BF0> now it will return output \n",
    "    def __str__(self) -> str:\n",
    "        return str(self.pages)\n",
    "    def __gt__(self, other): # (b1, b2)\n",
    "        return self.pages > other.pages # retrun true or false\n",
    "\n",
    "b1 = Book(\"one Intelligent girl\", 600)\n",
    "b2 = Book(\"othello\", 400)\n",
    "b3 = Book(\"prince\", 400)\n",
    "print(\"total pages:\", b1.pages + b2.pages) # b1.__add__(b2) -->Book.__add__(b1, b2)\n",
    "\n",
    "print(\"total pages:\", b1+ b2) # trow type error , now declare add method to resolve this error\n",
    "print(\"total pages:\", b1+ b2+ b3)\n",
    "# comparison operator overloading\n",
    "\n",
    "print(b1>b2) # give the type error because __gt__ method not found in the class hotel , will have to declare in the class"
   ]
  },
  {
   "cell_type": "code",
   "execution_count": 4,
   "metadata": {},
   "outputs": [
    {
     "data": {
      "text/plain": [
       "12"
      ]
     },
     "execution_count": 4,
     "metadata": {},
     "output_type": "execute_result"
    }
   ],
   "source": [
    "# Function over- loading in polymorphism\n",
    "from typing import overload\n",
    "\n",
    "@overload\n",
    "def add(x:int, y:int)->int:\n",
    "    ...\n",
    "\n",
    "@overload\n",
    "def add(x:str, y:str)->str:\n",
    "    ...\n",
    "\n",
    "@overload\n",
    "def add(x:float, y:float)->float:\n",
    "    ...\n",
    "\n",
    "def add(x, y):\n",
    "    return x + y\n",
    "    \n",
    "\n",
    "\n",
    "add(4, 8)\n"
   ]
  },
  {
   "cell_type": "code",
   "execution_count": 2,
   "metadata": {},
   "outputs": [
    {
     "name": "stdout",
     "output_type": "stream",
     "text": [
      "12\n",
      "48\n"
     ]
    }
   ],
   "source": [
    "# Method over- loading in polymorphism\n",
    "\n",
    "\n",
    "from typing import overload\n",
    "class Addition:\n",
    "    @overload\n",
    "    def add(self, x:int, y:int)->int:\n",
    "        ...\n",
    "    @overload\n",
    "    def add(self, x:str, y:str)->str:\n",
    "        ...\n",
    "\n",
    "    def add(self, x,  y):\n",
    "        return x + y\n",
    "    \n",
    "\n",
    "cal:Addition = Addition()\n",
    "print(cal.add(4, 8))\n",
    "print(cal.add(\"4\", \"8\"))"
   ]
  },
  {
   "cell_type": "code",
   "execution_count": 4,
   "metadata": {},
   "outputs": [
    {
     "name": "stdout",
     "output_type": "stream",
     "text": [
      "My name is saleem and roll number is 123\n",
      "Date of Birth is 9/1/1980\n"
     ]
    }
   ],
   "source": [
    "# Nested class\n",
    "\n",
    "class Student:\n",
    "    def __init__(self, name, roll_no, dd, mm, yy) -> None:\n",
    "        self.name = name\n",
    "        self.roll_no = roll_no\n",
    "        self.dob = self.DOB(dd, mm, yy) # nested class Dob declared here as a variable\n",
    "    def display(self):\n",
    "        print(f\"My name is {self.name} and roll number is {self.roll_no}\")\n",
    "        self.dob.display()# nested class display method  declared\n",
    "    class DOB:\n",
    "        def __init__(self, dd,mm,yy) -> None:\n",
    "            self.dd = dd\n",
    "            self.mm = mm\n",
    "            self.yy = yy\n",
    "\n",
    "        def display(self):\n",
    "            print(f\"Date of Birth is {self.dd}/{self.mm}/{self.yy}\")\n",
    "\n",
    "s1 = Student(\"saleem\", 123, 9, 1, 1980)  \n",
    "\n",
    "s1.display()"
   ]
  },
  {
   "cell_type": "code",
   "execution_count": 6,
   "metadata": {},
   "outputs": [
    {
     "name": "stdout",
     "output_type": "stream",
     "text": [
      " my name is salemm and my salary is 21240022221\n"
     ]
    }
   ],
   "source": [
    "# Accessing properties of one class into another class\n",
    "\n",
    "class Student:\n",
    "    def __init__(self, name, salary) -> None:\n",
    "        self.name = name\n",
    "        self.salary = salary\n",
    "\n",
    "    def display(self):\n",
    "        print(f\" my name is {self.name} and my salary is {self.salary}\")\n",
    "\n",
    "\n",
    "class student2:\n",
    "    # staticmethod decorator is used to play with external data \n",
    "    @staticmethod\n",
    "    def display(obj):\n",
    "        obj.salary = obj.salary + 20000022222\n",
    "        obj.display()\n",
    "\n",
    "\n",
    "s1= Student(\"salemm\", 1239999999)\n",
    "\n",
    "s2= student2()\n",
    "s2.display(s1)"
   ]
  },
  {
   "cell_type": "code",
   "execution_count": 7,
   "metadata": {},
   "outputs": [
    {
     "name": "stdout",
     "output_type": "stream",
     "text": [
      " my name is sak and my salary is 11111111\n",
      "destructor is called\n"
     ]
    }
   ],
   "source": [
    "# Destructor ====   __del__\n",
    "# it destroys the object and releases resorces tied to object\n",
    "# it is called when refrence is zero and variables go out of scop\n",
    "# it is automatically called when object is destroyed\n",
    "'''when refrence is zero and variables go out of scop , \n",
    "Garbage collector comes into play to remove it from memory but before \n",
    "Garbage collector , destructor is called to release the tied resources with that object\n",
    "'''\n",
    "# Disadvantages of Destructor\n",
    "''' Circular refrences ---when two object refer to each other.\n",
    "\n",
    "\n",
    "'''\n",
    "\n",
    "class Student:\n",
    "    def __init__(self, name, salary) -> None:\n",
    "        self.name = name\n",
    "        self.salary = salary\n",
    "\n",
    "    def display(self):\n",
    "        print(f\" my name is {self.name} and my salary is {self.salary}\")\n",
    "    # Destructor defining\n",
    "    def __del__(self):\n",
    "        print(\"destructor is called\")\n",
    "\n",
    "\n",
    "s1:Student = Student(\"sak\", 11111111)\n",
    "s1.display()\n",
    "\n",
    "del s1"
   ]
  },
  {
   "cell_type": "markdown",
   "metadata": {},
   "source": [
    "# Class Decorator"
   ]
  },
  {
   "cell_type": "code",
   "execution_count": 13,
   "metadata": {},
   "outputs": [
    {
     "name": "stdout",
     "output_type": "stream",
     "text": [
      "81\n"
     ]
    }
   ],
   "source": [
    "from typing import Any\n",
    "\n",
    "\n",
    "class Decorator:\n",
    "    def __init__(self, func) -> None:\n",
    "        self.function = func\n",
    "        \n",
    "    def __call__(self, a, b) -> Any:\n",
    "        result = self.function(a, b)\n",
    "        return result**2\n",
    "       \n",
    "@Decorator\n",
    "def add(a, b):\n",
    "    return a + b\n",
    "# d1 = Decorator(add)\n",
    "print(add(2,7))\n"
   ]
  },
  {
   "cell_type": "code",
   "execution_count": 1,
   "metadata": {},
   "outputs": [
    {
     "name": "stdout",
     "output_type": "stream",
     "text": [
      "True\n"
     ]
    }
   ],
   "source": [
    "class Add(object):\n",
    "    pass\n",
    "\n",
    "a1 = Add()\n",
    "print(callable(Add))\n"
   ]
  },
  {
   "cell_type": "markdown",
   "metadata": {},
   "source": [
    "# Abstraction\n",
    " * hiding complex implementation from user and only signatures are shown to user\n",
    " * the object of abstract class can not be made\n",
    " * interface --a abstract class in which all methods are abstract method and no concrete method"
   ]
  },
  {
   "cell_type": "code",
   "execution_count": null,
   "metadata": {},
   "outputs": [],
   "source": [
    "from abc import ABC, abstractmethod\n",
    "\n",
    " # abstract class is inherited from ABC class and atleast one abstract method is required\n",
    "class Car(ABC):\n",
    "     # method only declare but no implementation is here , implementation must be in child class\n",
    "    @abstractmethod \n",
    "    def mileage(self):\n",
    "        pass\n",
    "\n",
    "    def color(self):\n",
    "        print(\"color is white\")\n",
    "\n",
    "\n",
    "class Suzuki(Car):\n",
    "\n",
    "    def mileage(self):\n",
    "        print(\"yhe mileage of suzuki is 400 km\")\n",
    "    \n",
    "\n",
    "class Nissan(Car):\n",
    "    # if abstract method of abstract class is not implemented in child class it becomes abstract class\n",
    "    def mileage(self):\n",
    "        print(\"yhe mileage of nissqan is 320 km\")\n",
    "\n",
    "class Mehran(Car):\n",
    "\n",
    "    def mileage(self):\n",
    "        print(\"yhe mileage of nissqan is 320 km\")\n",
    "\n",
    "suz:Car = Suzuki()\n",
    "suz.color()\n",
    "suz.mileage()"
   ]
  }
 ],
 "metadata": {
  "kernelspec": {
   "display_name": "myenv3_12",
   "language": "python",
   "name": "python3"
  },
  "language_info": {
   "codemirror_mode": {
    "name": "ipython",
    "version": 3
   },
   "file_extension": ".py",
   "mimetype": "text/x-python",
   "name": "python",
   "nbconvert_exporter": "python",
   "pygments_lexer": "ipython3",
   "version": "3.12.0"
  }
 },
 "nbformat": 4,
 "nbformat_minor": 2
}
