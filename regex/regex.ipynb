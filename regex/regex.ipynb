{
 "cells": [
  {
   "cell_type": "markdown",
   "metadata": {},
   "source": [
    "# Regex in python"
   ]
  },
  {
   "cell_type": "markdown",
   "metadata": {},
   "source": [
    "###  Applications of Regex(regular expression)\n",
    "* 1--Data validation e.g Mobile number validation or email validation\n",
    "* 2--Pattern matching applications --functionality like ctr-f and replace, like opeerator in sql\n",
    "* 3--To create translator like compiler, interpretor, assemblers  -- for syntax  and lexical \n",
    "* 4--Data extraction\n",
    "* 5--data cleaning\n",
    "* 6--web scrapping\n",
    "* 7--password policies\n",
    "* 8-- Use in NLP\n"
   ]
  },
  {
   "cell_type": "markdown",
   "metadata": {},
   "source": [
    "## Basic search functions\n",
    "* There are number of functions depending ways of working\n",
    "    * serch()\n",
    "    * match()\n",
    "    * finditer()\n",
    "    * findall()\n",
    "    * split()"
   ]
  },
  {
   "cell_type": "markdown",
   "metadata": {},
   "source": [
    "## search()"
   ]
  },
  {
   "cell_type": "code",
   "execution_count": 14,
   "metadata": {},
   "outputs": [
    {
     "name": "stdout",
     "output_type": "stream",
     "text": [
      "<re.Match object; span=(0, 6), match='python'>\n",
      "Data found :  python\n"
     ]
    }
   ],
   "source": [
    "import re\n",
    "# pattern to search \n",
    "pattern = r\"PYTHON\"   # r stands for raw\n",
    "# data to search\n",
    "data= \"python is very powerfull and python has lot of features\"\n",
    "\n",
    "# flgs (re.IGNORECASE ) \n",
    "#                      pattern to search    from data     flag\n",
    "searched_data = re.search(pattern,          data,     re.IGNORECASE)\n",
    "print(searched_data)\n",
    "\n",
    "\n",
    "if searched_data:\n",
    "    print(\"Data found : \", searched_data.group())\n",
    "\n",
    "else:\n",
    "    print(\"Data not found\")"
   ]
  },
  {
   "cell_type": "markdown",
   "metadata": {},
   "source": [
    "### match()\n",
    "        * search for pattern at the beginning of a string "
   ]
  },
  {
   "cell_type": "code",
   "execution_count": 18,
   "metadata": {},
   "outputs": [
    {
     "name": "stdout",
     "output_type": "stream",
     "text": [
      "<re.Match object; span=(0, 6), match='python'>\n",
      "Data found :  python\n"
     ]
    }
   ],
   "source": [
    "import re\n",
    "# pattern to search \n",
    "pattern = r\"PYTHON\"   # r stands for raw\n",
    "# data to search\n",
    "data= \"python is very powerfull and python has lot of features\"\n",
    "\n",
    "# flgs (re.IGNORECASE ) \n",
    "\n",
    "#                      pattern to search    from data     flag\n",
    "searched_data = re.match(pattern,          data,     re.IGNORECASE)#search for pattern at the beginning of a string \n",
    "\n",
    "print(searched_data)\n",
    "\n",
    "\n",
    "if searched_data:\n",
    "    print(\"Data found : \", searched_data.group())\n",
    "\n",
    "else:\n",
    "    print(\"Data not found\")"
   ]
  },
  {
   "cell_type": "markdown",
   "metadata": {},
   "source": [
    "## Regular expression object\n",
    "  * re.compile(pattern, flag) "
   ]
  },
  {
   "cell_type": "code",
   "execution_count": 19,
   "metadata": {},
   "outputs": [
    {
     "name": "stdout",
     "output_type": "stream",
     "text": [
      "<re.Match object; span=(0, 6), match='python'>\n",
      "Data found :  python\n"
     ]
    }
   ],
   "source": [
    "# Regular expression object  by using re.compile()\n",
    "\n",
    "import re\n",
    "\n",
    "# pattern to search \n",
    "pattern = re.compile(\"PYTHON\", re.IGNORECASE)   # r stands for raw\n",
    "# data to search\n",
    "data= \"python is very powerfull and python has lot of features\"\n",
    "searched_data = re.match(pattern, data)#search for pattern at the beginning of a string \n",
    "\n",
    "print(searched_data)\n",
    "\n",
    "\n",
    "if searched_data:\n",
    "    print(\"Data found : \", searched_data.group())\n",
    "\n",
    "else:\n",
    "    print(\"Data not found\")"
   ]
  },
  {
   "cell_type": "markdown",
   "metadata": {},
   "source": [
    "### re.finditer(pattern, data, flag=0)\n",
    " * return iterator object containing match info"
   ]
  },
  {
   "cell_type": "code",
   "execution_count": 30,
   "metadata": {},
   "outputs": [
    {
     "name": "stdout",
     "output_type": "stream",
     "text": [
      "<callable_iterator object at 0x0000026650912D70>\n",
      "<re.Match object; span=(0, 2), match='ab'>\n",
      "<re.Match object; span=(3, 5), match='ab'>\n",
      "<re.Match object; span=(5, 7), match='ab'>\n"
     ]
    }
   ],
   "source": [
    "import re\n",
    "\n",
    "pattern = re.compile(\"ab\", re.IGNORECASE)\n",
    "\n",
    "data = \"abaababa\"\n",
    "iter_obj = re.finditer(pattern, data) # it will return iterator object\n",
    "print(iter_obj)\n",
    "for i in iter_obj:\n",
    "    print(i)\n",
    "\n",
    "# for i in iter_obj:\n",
    "#     print(i.group()) # start() returns first index, end() return second index, group() returns group\n",
    "    "
   ]
  },
  {
   "cell_type": "markdown",
   "metadata": {},
   "source": [
    "### findall()"
   ]
  },
  {
   "cell_type": "code",
   "execution_count": null,
   "metadata": {},
   "outputs": [],
   "source": [
    "# Regular expression object  by using re.compile()\n",
    "\n",
    "import re\n",
    "\n",
    "# pattern to search \n",
    "pattern = re.compile(r\"PYTHON\", re.IGNORECASE)   # r stands for raw\n",
    "# data to search\n",
    "data= \"python is very powerfull and python has lot of features\"\n",
    "searched_data = re.findall(pattern, data) # findall() returnsd list\n",
    "\n",
    "print(searched_data)\n",
    "\n",
    "\n",
    "if searched_data:\n",
    "    print(\"Data found : \" )\n",
    "\n",
    "else:\n",
    "    print(\"Data not found\")"
   ]
  },
  {
   "cell_type": "markdown",
   "metadata": {},
   "source": [
    "### character class in python\n",
    "* set of characters that can be defined by using regular expression"
   ]
  },
  {
   "cell_type": "code",
   "execution_count": 40,
   "metadata": {},
   "outputs": [
    {
     "name": "stdout",
     "output_type": "stream",
     "text": [
      "['t', 's', 's', 'm', 'o', 'o', 'r', 's', 's', 'r', 't', 'r']\n"
     ]
    }
   ],
   "source": [
    "import re\n",
    "\n",
    "pattern = r'[m-z]' # class characters \n",
    " \n",
    "\n",
    "data = \"this is a demo for class character , $100\"\n",
    "\n",
    "my_data = re.findall(pattern, data)\n",
    "print(my_data)"
   ]
  },
  {
   "cell_type": "markdown",
   "metadata": {},
   "source": [
    "### Special sequence in regex "
   ]
  },
  {
   "cell_type": "code",
   "execution_count": 50,
   "metadata": {},
   "outputs": [
    {
     "name": "stdout",
     "output_type": "stream",
     "text": [
      "['1', '2', '3', '7', '7', '7', '9', '8', '6', '0', '4', '5', '3']\n"
     ]
    }
   ],
   "source": [
    "import re\n",
    "pattern = re.compile('[0-9]')\n",
    "#pattern = r'[0-9]'\n",
    "# pattern = r'\\d' # same result (0-9 === \\d) (d means digit)\n",
    "text = \"this is my phone number 123-777-986-0453\"\n",
    "data = re.findall(pattern, text)\n",
    "print(data)"
   ]
  },
  {
   "cell_type": "code",
   "execution_count": 52,
   "metadata": {},
   "outputs": [
    {
     "name": "stdout",
     "output_type": "stream",
     "text": [
      "['2021-10-31', '1998-10-30']\n"
     ]
    }
   ],
   "source": [
    "import re\n",
    "text = \"On 2021-10-31, i got retired after completion of 23 years service, I joine on 1998-10-30\"\n",
    "pattern = r'\\d{04}-\\d{02}-\\d{02}'\n",
    "data = re.findall(pattern, text)\n",
    "print(data)"
   ]
  },
  {
   "cell_type": "markdown",
   "metadata": {},
   "source": [
    "### Metacharacters in python (Regex)\n",
    " * .(dot), + (plus), * (asterik) symbols"
   ]
  },
  {
   "cell_type": "code",
   "execution_count": 58,
   "metadata": {},
   "outputs": [
    {
     "name": "stdout",
     "output_type": "stream",
     "text": [
      "['O', 'n', ' ', '2', '0', '2', '1', '-', '1', '0', '-', '3', '1', ',', ' ', 'i', ' ', '\\\\', 'g', 'o', 't', ' ', 'r', 'e', 't', 'i', 'r', 'e', 'd', ' ', 'a', 'f', 't', 'e', 'r', ' ', 'c', 'o', 'm', 'p', 'l', 'e', 't', 'i', 'o', 'n', ' ', 'o', 'f', ' ', '2', '3', ' ', 'y', 'e', 'a', 'r', 's', ' ', 's', 'e', 'r', 'v', 'i', 'c', 'e', ',', ' ', 'I', ' ', 'j', 'o', 'i', 'n', 'e', ' ', 'o', 'n', ' ', '1', '9', '9', '8', '-', '1', '0', '-', '3', '0'] "
     ]
    }
   ],
   "source": [
    "# dot -- in expression . represents all character except new line character \\n\n",
    "\n",
    "import re\n",
    "text = \"On 2021-10-31, i \\\\got retired after completion of 23 years service\\n, I joine on 1998-10-30\"\n",
    "pattern = r'.'\n",
    "data = re.findall(pattern, text)\n",
    "print(data, end=' ')\n"
   ]
  },
  {
   "cell_type": "code",
   "execution_count": 66,
   "metadata": {},
   "outputs": [
    {
     "name": "stdout",
     "output_type": "stream",
     "text": [
      "['lo', 'loo', 'loo', 'lo'] "
     ]
    }
   ],
   "source": [
    "# plus  -- preceding expression or character repeat one or more than one time\n",
    "\n",
    "import re\n",
    "text = \"Hello worlood helloo hello\"\n",
    "#pattern = r'l'\n",
    "pattern = r'lo+' # lo loo, looo\n",
    "data = re.findall(pattern, text)\n",
    "print(data, end=' ')"
   ]
  },
  {
   "cell_type": "code",
   "execution_count": 71,
   "metadata": {},
   "outputs": [
    {
     "name": "stdout",
     "output_type": "stream",
     "text": [
      "['90', '100', '333', '44']"
     ]
    }
   ],
   "source": [
    "# plus  -- preceding expression or character repeat one or more than one time\n",
    "\n",
    "import re\n",
    "text = \"Marks are 90, 100, 333, 44\"\n",
    "#pattern = r'\\d\\d'\n",
    "#pattern = r'\\d\\d\\d'\n",
    "#pattern = r'\\d{2}'\n",
    "pattern = r'\\d+'\n",
    "data = re.findall(pattern, text)\n",
    "print(data, end='')"
   ]
  },
  {
   "cell_type": "code",
   "execution_count": 9,
   "metadata": {},
   "outputs": [
    {
     "name": "stdout",
     "output_type": "stream",
     "text": [
      "['saleem864@gmail.com', 'saleemakhtar@gmail.com']"
     ]
    }
   ],
   "source": [
    "# plus  -- preceding expression or character repeat one or more than one time\n",
    "\n",
    "import re\n",
    "text = \"My emails are saleem864@gmail.com and saleemakhtar@gmail.com\"\n",
    "pattern = r'\\w+@\\w+\\.\\w+'\n",
    "\n",
    "data = re.findall(pattern, text)\n",
    "print(data, end='')"
   ]
  },
  {
   "cell_type": "code",
   "execution_count": 2,
   "metadata": {},
   "outputs": [
    {
     "name": "stdout",
     "output_type": "stream",
     "text": [
      "['aabb', 'aaabbbccc', 'bb']"
     ]
    }
   ],
   "source": [
    "# *asterik  -- \"0\" or more times but\" +\" is 1 or more times\n",
    "\n",
    "import re\n",
    "text = \"ab, dd, aabb, aaabbbccc, bb\"\n",
    "pattern = r'a*b+\\w+'\n",
    "\n",
    "data = re.findall(pattern, text)\n",
    "print(data, end='')"
   ]
  },
  {
   "cell_type": "code",
   "execution_count": 3,
   "metadata": {},
   "outputs": [
    {
     "name": "stdout",
     "output_type": "stream",
     "text": [
      "['a']"
     ]
    }
   ],
   "source": [
    "# ^ carret symol: To check wether pattern starting with required pattern or not.\n",
    "import re\n",
    "pattern = r'^a'\n",
    "text = \"ab, dd, aabb, aaabbbccc, bb\"\n",
    "\n",
    "data = re.findall(pattern, text)\n",
    "print(data, end='')"
   ]
  },
  {
   "cell_type": "code",
   "execution_count": 11,
   "metadata": {},
   "outputs": [
    {
     "name": "stdout",
     "output_type": "stream",
     "text": [
      "['a', 'b', ',', ' ', 'd', 'd', ',', ' ', 'a', 'a', 'b', 'b', ',', ' ', ',', ' ', ',', ' ', ',', ' ', 'a', 'a', 'a', 'b', 'b', 'b', 'c', 'c', 'c', ',', ' ', 'b', 'b']"
     ]
    }
   ],
   "source": [
    "# ^ carret symol: negation of character classes \n",
    "\n",
    "import re\n",
    "#pattern = r'[^a-z]'\n",
    "pattern = r'[^0-9]'\n",
    "text = \"ab, dd, aabb, 20, 34, 55, aaabbbccc, bb\"\n",
    "\n",
    "data = re.findall(pattern, text)\n",
    "print(data, end='')"
   ]
  },
  {
   "cell_type": "code",
   "execution_count": 14,
   "metadata": {},
   "outputs": [
    {
     "name": "stdout",
     "output_type": "stream",
     "text": [
      "['2']"
     ]
    }
   ],
   "source": [
    "# $ is used to check end data\n",
    "\n",
    "import re\n",
    "pattern = r'\\d$'\n",
    "\n",
    "text = \"ab, dd, aabb, 20, 34, 55, aaabbbccc, bb, 222\"\n",
    "\n",
    "data = re.findall(pattern, text)\n",
    "print(data, end='')"
   ]
  },
  {
   "cell_type": "code",
   "execution_count": 15,
   "metadata": {},
   "outputs": [
    {
     "name": "stdout",
     "output_type": "stream",
     "text": [
      "['colour', 'color']"
     ]
    }
   ],
   "source": [
    "# ? shows that preceeding characters or group is optional\n",
    "\n",
    "import re\n",
    "text = \"colour is used as color\"\n",
    "pattern = r'colou?r'\n",
    "data = re.findall(pattern, text)\n",
    "print(data, end='')"
   ]
  },
  {
   "cell_type": "code",
   "execution_count": 17,
   "metadata": {},
   "outputs": [
    {
     "name": "stdout",
     "output_type": "stream",
     "text": [
      "['123-456-7890', '9876543210']"
     ]
    }
   ],
   "source": [
    "# ? shows that preceeding characters or group is optional\n",
    "\n",
    "import re\n",
    "text = \"call me at 123-456-7890 or 9876543210\"\n",
    "pattern = r'\\d{3}-?\\d{3}-?\\d{4}'\n",
    "data = re.findall(pattern, text)\n",
    "print(data, end='')"
   ]
  },
  {
   "cell_type": "code",
   "execution_count": 18,
   "metadata": {},
   "outputs": [
    {
     "name": "stdout",
     "output_type": "stream",
     "text": [
      "['cat', 'dog']"
     ]
    }
   ],
   "source": [
    "# | (pipe symbol) is used for alternative, multiple patterns and match anyone of them\n",
    "\n",
    "# ? shows that preceeding characters or group is optional\n",
    "\n",
    "import re\n",
    "text = \"call me at 123-456-7890 or 9876543210\"\n",
    "pattern = r'\\d{3}-?\\d{3}-?\\d{4}'\n",
    "data = re.findall(pattern, text)\n",
    "print(data, end='')"
   ]
  },
  {
   "cell_type": "markdown",
   "metadata": {},
   "source": [
    "### Flags"
   ]
  },
  {
   "cell_type": "code",
   "execution_count": 19,
   "metadata": {},
   "outputs": [
    {
     "name": "stdout",
     "output_type": "stream",
     "text": [
      "['colour', 'color']"
     ]
    }
   ],
   "source": [
    "# re.IGNORECASE \n",
    "\n",
    "import re\n",
    "text = \"colour is used as color\"\n",
    "pattern = r'CoLou?r'\n",
    "data = re.findall(pattern, text, re.IGNORECASE)\n",
    "print(data, end='')"
   ]
  },
  {
   "cell_type": "code",
   "execution_count": 22,
   "metadata": {},
   "outputs": [
    {
     "name": "stdout",
     "output_type": "stream",
     "text": [
      "['123', '678', '456']"
     ]
    }
   ],
   "source": [
    "# re.MULTILINE\n",
    "import re\n",
    "text = '''\n",
    "I have three number 123\n",
    "My number is 678\n",
    "saram has rs 456\n",
    "'''\n",
    "pattern = r'\\d+$'\n",
    "data = re.findall(pattern, text, re.MULTILINE)\n",
    "print(data, end='')"
   ]
  },
  {
   "cell_type": "code",
   "execution_count": 26,
   "metadata": {},
   "outputs": [
    {
     "name": "stdout",
     "output_type": "stream",
     "text": [
      "['H', 'e', 'l', 'l', 'o', '.', '\\n', 'w', 'o', 'r', 'l', 'd']"
     ]
    }
   ],
   "source": [
    "# re.S or  re.DOTALL\n",
    "\n",
    "import re\n",
    "text = \"Hello.\\nworld\"\n",
    "pattern = r'.'\n",
    "data = re.findall(pattern, text, re.S)\n",
    "print(data, end='')"
   ]
  },
  {
   "cell_type": "code",
   "execution_count": 28,
   "metadata": {},
   "outputs": [
    {
     "name": "stdout",
     "output_type": "stream",
     "text": [
      "['H', 'e', 'l', 'l', 'o', '.', 'w', 'o', 'r', 'l', 'd']"
     ]
    }
   ],
   "source": [
    "# re.VERBOSE\n",
    "\n",
    "import re\n",
    "text = \"Hello.\\nworld\"\n",
    "pattern = r'.#it ignores the \\n'\n",
    "data = re.findall(pattern, text, re.VERBOSE)\n",
    "print(data, end='')"
   ]
  },
  {
   "cell_type": "code",
   "execution_count": 31,
   "metadata": {},
   "outputs": [
    {
     "name": "stdout",
     "output_type": "stream",
     "text": [
      "['Hello', '123', 'world', 'This', 'is', 'not', 'ASCII', 'character']"
     ]
    }
   ],
   "source": [
    "# re.ASCII or re.A\n",
    "import re\n",
    "text = \"Hello 123 world, This is not ASCII character \"\n",
    "pattern = r'\\b\\w+\\b'\n",
    "data = re.findall(pattern, text, re.ASCII)\n",
    "print(data, end='')"
   ]
  },
  {
   "cell_type": "markdown",
   "metadata": {},
   "source": [
    "### Quantifiers\n",
    "* It is metacharacter , how often a preceding regex can occur\n",
    "    *     + 1 0r more times\n",
    "    *     * 0 or more times\n",
    "    *     {3}  exactly 3 occurrence\n",
    "    *     {3, 4} 3 to 4 occurrence\n",
    "    *     {3,}  minimum 3 occurrence\n",
    "    *     {,3}  maximum 3 occurrence"
   ]
  },
  {
   "cell_type": "code",
   "execution_count": 34,
   "metadata": {},
   "outputs": [
    {
     "name": "stdout",
     "output_type": "stream",
     "text": [
      "['1234', '5678', '90', '6789', '999', '54']"
     ]
    }
   ],
   "source": [
    "import re\n",
    "text = \"1234567890 6789999 54 4\"\n",
    "pattern = r'\\d{2,4}'\n",
    "data = re.findall(pattern, text)\n",
    "print(data, end='')"
   ]
  },
  {
   "cell_type": "markdown",
   "metadata": {},
   "source": [
    "### Grouping Metacharacter (...)  & Non- Grouping Metacharacter (?:...)\n"
   ]
  },
  {
   "cell_type": "code",
   "execution_count": 36,
   "metadata": {},
   "outputs": [
    {
     "name": "stdout",
     "output_type": "stream",
     "text": [
      "[('saleem864', 'gmail', 'com'), ('saleemakhtar', 'gmail', 'com')]"
     ]
    }
   ],
   "source": [
    "# Grouping Metacharacter (...) ---------------- for capturing groups\n",
    "\n",
    "\n",
    "import re\n",
    "text = \"My emails are saleem864@gmail.com and saleemakhtar@gmail.com\"\n",
    "pattern = r'(\\w+)@(\\w+)\\.(\\w+)'\n",
    "\n",
    "data = re.findall(pattern, text)\n",
    "print(data, end='')"
   ]
  },
  {
   "cell_type": "code",
   "execution_count": 39,
   "metadata": {},
   "outputs": [
    {
     "name": "stdout",
     "output_type": "stream",
     "text": [
      "['http:\\\\www.example.com', 'http:\\\\example.com']"
     ]
    }
   ],
   "source": [
    "# NOn-Grouping Metacharacter (?:...) \n",
    "\n",
    "import re\n",
    "text = \"visit  http:\\\\www.example.com and http:\\\\example.com\"\n",
    "\n",
    "pattern = r'http:\\\\(?:www\\.)?\\w+\\.\\w+'\n",
    "\n",
    "data = re.findall(pattern, text)\n",
    "print(data, end='')"
   ]
  },
  {
   "cell_type": "markdown",
   "metadata": {},
   "source": [
    "# Real world Example"
   ]
  },
  {
   "cell_type": "code",
   "execution_count": 40,
   "metadata": {},
   "outputs": [
    {
     "name": "stdout",
     "output_type": "stream",
     "text": [
      "Valid Email\n"
     ]
    }
   ],
   "source": [
    "# Data validation:--- Email validation\n",
    "'''\n",
    "1- user name can contain alphabetic (uppercase, lowercase..)\n",
    "2- user name can contain digits but can't start with digit\n",
    "3- format should be example12@gmail.com\n",
    "4- Domain must contain alphabetic (uppercase, lowercase..)\n",
    "5 - \n",
    "'''\n",
    "import re\n",
    "email = input(\"Enter your email\")\n",
    "pattern = r\"^[a-zA-Z_][\\w+_\\.]+@[a-zA-Z]+\\.\\w+\"\n",
    "match = re.match(pattern, email)\n",
    "\n",
    "if match:\n",
    "    print(\"Valid Email\")\n",
    "else:\n",
    "    print(\"Invalid Email\")\n"
   ]
  }
 ],
 "metadata": {
  "kernelspec": {
   "display_name": "python1",
   "language": "python",
   "name": "python3"
  },
  "language_info": {
   "codemirror_mode": {
    "name": "ipython",
    "version": 3
   },
   "file_extension": ".py",
   "mimetype": "text/x-python",
   "name": "python",
   "nbconvert_exporter": "python",
   "pygments_lexer": "ipython3",
   "version": "3.12.0"
  }
 },
 "nbformat": 4,
 "nbformat_minor": 2
}
